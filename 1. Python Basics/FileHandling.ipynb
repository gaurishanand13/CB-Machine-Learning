{
 "cells": [
  {
   "cell_type": "markdown",
   "metadata": {},
   "source": [
    "# File Handling in Python"
   ]
  },
  {
   "cell_type": "code",
   "execution_count": 1,
   "metadata": {},
   "outputs": [],
   "source": [
    "#Basically a file in python can be opened in 5 modes\n",
    "#1) \"r\" - For reading\n",
    "#2) \"w\" -  For writing\n",
    "#3) \"r+\" - For reading and writing\n",
    "#4) \"a\" - For appending\n",
    "#5) \"a+\" - For appending and reading"
   ]
  },
  {
   "cell_type": "code",
   "execution_count": 12,
   "metadata": {},
   "outputs": [],
   "source": [
    "#First writing or appending mode\n",
    "f = open(\"myFile.txt\",\"w\") #Opening the file in write mode\n",
    "#Above open method will first search for myFile.txt in the system, if found will open it delete all the exisiting data \n",
    "#and make the pointer point at the first word in the file for use to write\n",
    "\n",
    "content = \"\"\"My name is Gaurish Anand. My age is 20 years old.\n",
    "I am studying in Delhi Technological University.\n",
    "My aim to get my dream job with my life partner as Navdha\n",
    "\"\"\"\n",
    "f.writelines(content)\n",
    "f.close()"
   ]
  },
  {
   "cell_type": "code",
   "execution_count": 13,
   "metadata": {},
   "outputs": [
    {
     "name": "stdout",
     "output_type": "stream",
     "text": [
      "My name is Gaurish Anand. My age is 20 years old.\n",
      "I am studying in Delhi Technological University.\n",
      "My aim to get my dream job with my life partner as Navdha\n",
      "\n"
     ]
    }
   ],
   "source": [
    "#Now we would learn about the read mode. We should try enclosing the read of a file in a try/catch block. As if the file\n",
    "#doesn't exists, then it would be error. So we should not make our code faulty. Instead we should handle errors\n",
    "try:\n",
    "    f = open(\"myFile.txt\",\"r\")\n",
    "    print(f.read()) #It reads the whole text as a whole and convert it to a string and give us the result\n",
    "    f.close()\n",
    "except IOError:\n",
    "    print(\"File doesn't exists in the system\")"
   ]
  },
  {
   "cell_type": "code",
   "execution_count": 15,
   "metadata": {},
   "outputs": [
    {
     "name": "stdout",
     "output_type": "stream",
     "text": [
      "My name is Gaurish Anand. My age is 20 years old.\n",
      "\n"
     ]
    }
   ],
   "source": [
    "#More about reading \n",
    "try:\n",
    "    f = open(\"myFile.txt\",\"r\")\n",
    "    print(f.readline()) #readline would give us only the first line of textfile\n",
    "    f.close()\n",
    "except IOError:\n",
    "    print(\"File doesn't exists in the system\")"
   ]
  },
  {
   "cell_type": "code",
   "execution_count": 17,
   "metadata": {},
   "outputs": [
    {
     "name": "stdout",
     "output_type": "stream",
     "text": [
      "['My name is Gaurish Anand. My age is 20 years old.\\n', 'I am studying in Delhi Technological University.\\n', 'My aim to get my dream job with my life partner as Navdha\\n']\n",
      "<class 'list'>\n"
     ]
    }
   ],
   "source": [
    "#More about reading \n",
    "try:\n",
    "    f = open(\"myFile.txt\",\"r\")\n",
    "    x = f.readlines() #readlines would give us a list of strings where each line of txt file would be present at each index\n",
    "    print(x)\n",
    "    print(type(x))\n",
    "    f.close()\n",
    "except IOError:\n",
    "    print(\"File doesn't exists in the system\")"
   ]
  },
  {
   "cell_type": "code",
   "execution_count": 21,
   "metadata": {},
   "outputs": [
    {
     "name": "stdout",
     "output_type": "stream",
     "text": [
      " Gaurish Anand. My age is 20 years old.\n",
      "I am studying in Delhi Technological University.\n",
      "My aim to get my dream job with my life partner as Navdha\n",
      "\n"
     ]
    }
   ],
   "source": [
    "#More about reading \n",
    "try:\n",
    "    f = open(\"myFile.txt\",\"r\")\n",
    "    f.seek(10)\n",
    "    #What actually happens is that , when the file is opened, the file handler points at the first character to start\n",
    "    #reading the file. But by writing seek(x), we have made it to point x characters head in the file . So when it starts\n",
    "    #to read, it starts from 10 th character till the EOF of the file\n",
    "    print(f.read())\n",
    "    f.close()\n",
    "except IOError:\n",
    "    print(\"File doesn't exists in the system\")"
   ]
  },
  {
   "cell_type": "code",
   "execution_count": 30,
   "metadata": {},
   "outputs": [
    {
     "name": "stdout",
     "output_type": "stream",
     "text": [
      "Hello jeda VUFuck OFF \n",
      "My Name is Gaurish\n"
     ]
    }
   ],
   "source": [
    "#Now we would learn about the append .\n",
    "#Though already some text is written in myFile.txt. But when it is again opened in \"w\" mode, all would be erased and \n",
    "#rewritten\n",
    "f = open(\"myFile.txt\",\"w\")\n",
    "content = ['Hello ',\"jeda VU\",'Fuck OFF \\n','My Name is Gaurish'] #Note instead of string we can also write a list in textfile, all the elements of the list would be copied as it is to the txt file\n",
    "f.writelines(content)\n",
    "f.close()\n",
    "\n",
    "\n",
    "f = open(\"myFile.txt\",\"r\")\n",
    "print(f.read())\n",
    "f.close()\n"
   ]
  },
  {
   "cell_type": "code",
   "execution_count": 31,
   "metadata": {},
   "outputs": [
    {
     "name": "stdout",
     "output_type": "stream",
     "text": [
      "Hello jeda VUFuck OFF \n",
      "My Name is Gaurish Navdha will be future Wife and i am sure about this\n"
     ]
    }
   ],
   "source": [
    "#Now we would append a text to this file, instead of overwriting\n",
    "f = open(\"myFile.txt\",\"a\")\n",
    "f.write(\" Navdha will be future Wife and i am sure about this\")\n",
    "f.close()\n",
    "\n",
    "f = open(\"myFile.txt\",\"r\")\n",
    "print(f.read())\n",
    "f.close()"
   ]
  },
  {
   "cell_type": "markdown",
   "metadata": {},
   "source": [
    "## Reading using WITH OPEN"
   ]
  },
  {
   "cell_type": "code",
   "execution_count": 35,
   "metadata": {},
   "outputs": [
    {
     "name": "stdout",
     "output_type": "stream",
     "text": [
      "False\n",
      "True\n"
     ]
    }
   ],
   "source": [
    "#Why is there a need to use this? See the below code\n",
    "f = open(\"myFile.txt\",\"a\")\n",
    "print(f.closed) #It return true or false depending on whether the file is open or closed\n",
    "f.close()\n",
    "print(f.closed)"
   ]
  },
  {
   "cell_type": "code",
   "execution_count": 37,
   "metadata": {},
   "outputs": [
    {
     "name": "stdout",
     "output_type": "stream",
     "text": [
      "False\n",
      "Hello jeda VUFuck OFF \n",
      "My Name is Gaurish Navdha will be future Wife and i am sure about this\n",
      "True\n"
     ]
    }
   ],
   "source": [
    "#Now the above way of reading can be harmful if we forgot to close the file. So instead we should use with OPEN\n",
    "#which automatically closes the file and thus is highly preferred.\n",
    "\n",
    "with open(\"myFile.txt\",\"r\") as f:\n",
    "    print(f.closed)\n",
    "    print(f.read())\n",
    "    \n",
    "print(f.closed)#This would come true as the file would be automatically closed, when we come out of the block.\n",
    "#Therefore with the help of withOpen, an automatic clean up would be ensured."
   ]
  },
  {
   "cell_type": "markdown",
   "metadata": {},
   "source": [
    "#### SOME MORE BASICS OF PYTHON"
   ]
  },
  {
   "cell_type": "code",
   "execution_count": null,
   "metadata": {},
   "outputs": [],
   "source": []
  }
 ],
 "metadata": {
  "kernelspec": {
   "display_name": "Python 3",
   "language": "python",
   "name": "python3"
  },
  "language_info": {
   "codemirror_mode": {
    "name": "ipython",
    "version": 3
   },
   "file_extension": ".py",
   "mimetype": "text/x-python",
   "name": "python",
   "nbconvert_exporter": "python",
   "pygments_lexer": "ipython3",
   "version": "3.7.6"
  }
 },
 "nbformat": 4,
 "nbformat_minor": 4
}
