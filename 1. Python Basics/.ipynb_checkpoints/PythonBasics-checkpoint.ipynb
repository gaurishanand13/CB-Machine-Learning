{
 "cells": [
  {
   "cell_type": "markdown",
   "metadata": {},
   "source": [
    "# Basics in python"
   ]
  },
  {
   "cell_type": "code",
   "execution_count": 186,
   "metadata": {},
   "outputs": [
    {
     "name": "stdout",
     "output_type": "stream",
     "text": [
      "Hello world.\n",
      "My name is Gaurish Anand\n"
     ]
    }
   ],
   "source": [
    "# This is how we put a comment\n",
    "print(\"Hello world.\\nMy name is Gaurish Anand\")"
   ]
  },
  {
   "cell_type": "code",
   "execution_count": 187,
   "metadata": {},
   "outputs": [
    {
     "name": "stdout",
     "output_type": "stream",
     "text": [
      "I love navdha<3\n"
     ]
    }
   ],
   "source": [
    "\"\"\"\n",
    "this is a multiple line comment\n",
    "\"\"\"\n",
    "print(\"I love navdha<3\")"
   ]
  },
  {
   "cell_type": "markdown",
   "metadata": {},
   "source": [
    "#### Note - Everything in python is basically an object, be it a variable, function,etc"
   ]
  },
  {
   "cell_type": "code",
   "execution_count": 188,
   "metadata": {},
   "outputs": [
    {
     "name": "stdout",
     "output_type": "stream",
     "text": [
      "15\n",
      "9765625\n"
     ]
    }
   ],
   "source": [
    "# Note - in python , we don't need to mention the variable type before it is made.\n",
    "a = 5 #a,b would become a data type of int . But in future we can change the data type of these like for b\n",
    "b = 10\n",
    "print(a+b)\n",
    "print(a**b) # ** will calculates a^b\n",
    "\n",
    "\n",
    "b = \"Gaurish\" # We now changed the data type of b from int to string"
   ]
  },
  {
   "cell_type": "code",
   "execution_count": 189,
   "metadata": {},
   "outputs": [
    {
     "name": "stdout",
     "output_type": "stream",
     "text": [
      "<class 'int'>\n"
     ]
    }
   ],
   "source": [
    "# We can also get to know about the variable type using type function\n",
    "print(type(a))"
   ]
  },
  {
   "cell_type": "code",
   "execution_count": 190,
   "metadata": {},
   "outputs": [
    {
     "name": "stdout",
     "output_type": "stream",
     "text": [
      "Gaurish 1\n",
      "Gaurish 2\n",
      "Gaurish 3\n"
     ]
    }
   ],
   "source": [
    "# Note - in pyhton we can have string in either single quotes , double quotes, triple quotes . It can be in any of these\n",
    "a = \"Gaurish 1\"\n",
    "b = 'Gaurish 2'\n",
    "c = \"\"\"Gaurish 3\"\"\"\n",
    "print(a + \"\\n\" + b + \"\\n\" + c)\n",
    "\n",
    "#Note -  We can also run the code directly , instead of using that run button above by (esc => y + shift + enter)"
   ]
  },
  {
   "cell_type": "code",
   "execution_count": 191,
   "metadata": {},
   "outputs": [
    {
     "name": "stdout",
     "output_type": "stream",
     "text": [
      "else condition\n",
      "else condition\n",
      "out of if-else condition\n"
     ]
    }
   ],
   "source": [
    "#Note - Actually white space at the beginning of the line is important in python. This is called indentation. \n",
    "#This is important because the group of statements belonging to same block should have same indentation.\n",
    "weather = \"Sunny\"\n",
    "if weather == \"sunny\" : \n",
    "    print(\"if condition is true\")\n",
    "else : \n",
    "    print(\"else condition\")\n",
    "    print(\"else condition\")\n",
    "print(\"out of if-else condition\")"
   ]
  },
  {
   "cell_type": "code",
   "execution_count": 192,
   "metadata": {},
   "outputs": [
    {
     "name": "stdout",
     "output_type": "stream",
     "text": [
      "case 2\n"
     ]
    }
   ],
   "source": [
    "#Note we also have not,and or operators\n",
    "a = 10\n",
    "b = 20\n",
    "weather = \"sunny\"\n",
    "if weather==\"sunny\" and a>15:\n",
    "    print(\"case 1\")\n",
    "elif not a==11:\n",
    "    print(\"case 2\")\n",
    "else : \n",
    "    print(\"case 3\")"
   ]
  },
  {
   "cell_type": "code",
   "execution_count": 193,
   "metadata": {},
   "outputs": [
    {
     "name": "stdout",
     "output_type": "stream",
     "text": [
      "capital of India is Delhi\n",
      "capital of India is Delhi\n",
      "capital of India is Delhi . And i live in Ashok Vihar\n"
     ]
    }
   ],
   "source": [
    "string1 = (\"capital of India is %s\"%(\"Delhi\"))\n",
    "string2 = (\"capital of %s is %s\"%(\"India\",\"Delhi\"))\n",
    "string3 = \"capital of {} is {} . And i live in {}\".format(\"India\",\"Delhi\",\"Ashok Vihar\")\n",
    "print(string1)\n",
    "print(string2)\n",
    "print(string3)"
   ]
  },
  {
   "cell_type": "code",
   "execution_count": 194,
   "metadata": {},
   "outputs": [
    {
     "name": "stdout",
     "output_type": "stream",
     "text": [
      "capital of India is Delhi  ------  capital of India is Delhi\n"
     ]
    }
   ],
   "source": [
    "#Note - By default when we write print(\"Hello\") it acutally means print(\"Hello\",end=\"\\n\"). But if we want to \n",
    "#print string in some order and not on next line. Do like this\n",
    "print(string1,end=\"  ------  \")\n",
    "print(string2)"
   ]
  },
  {
   "cell_type": "code",
   "execution_count": 195,
   "metadata": {},
   "outputs": [
    {
     "name": "stdout",
     "output_type": "stream",
     "text": [
      "10 20 30\n",
      "10\n",
      "20\n",
      "30\n"
     ]
    }
   ],
   "source": [
    "a = 10\n",
    "b = 20\n",
    "c = 30\n",
    "print(a,b,c) #If not mentioned, seperator is  ' '\n",
    "print(a,b,c,sep=\"\\n\")"
   ]
  },
  {
   "cell_type": "markdown",
   "metadata": {},
   "source": [
    "# Taking input in python"
   ]
  },
  {
   "cell_type": "code",
   "execution_count": 196,
   "metadata": {},
   "outputs": [
    {
     "name": "stdout",
     "output_type": "stream",
     "text": [
      "Gaurish\n",
      "20\n",
      "My name is Gaurish\n",
      "My age is 20\n"
     ]
    }
   ],
   "source": [
    "name = input()\n",
    "age = input()\n",
    "print(\"My name is \" + name)\n",
    "print(\"My age is \" + age)\n",
    "#Note - cleary we can see that each item taken as input would be in the form of string by default. But if we want\n",
    "#we can convert the data to the required data types. Eg. "
   ]
  },
  {
   "cell_type": "code",
   "execution_count": 197,
   "metadata": {},
   "outputs": [
    {
     "name": "stdout",
     "output_type": "stream",
     "text": [
      "Write value of a = 10\n",
      "First case 10\n",
      "Write value of a,b = 10 20\n",
      "Second case 10 20\n",
      "Write value of a,b,c = 10 20 30\n",
      "Third case 10 20 30\n"
     ]
    }
   ],
   "source": [
    "#Method to take only 1 input at a time\n",
    "a = input(\"Write value of a = \")\n",
    "print(\"First case \" + a)\n",
    "\n",
    "#Method to take 2 inputs at a time\n",
    "a,b = input(\"Write value of a,b = \").split() \n",
    "print(\"Second case \" + a + \" \" + b)\n",
    "\n",
    "#Method to take 3 inputs at a time\n",
    "a,b,c = input(\"Write value of a,b,c = \").split()\n",
    "print(\"Third case \" + a + \" \" + b + \" \" + c)\n",
    "\n",
    "#Cleary when you want to take input of more than 1 variable in a line , we have to use split()"
   ]
  },
  {
   "cell_type": "code",
   "execution_count": 198,
   "metadata": {},
   "outputs": [
    {
     "name": "stdout",
     "output_type": "stream",
     "text": [
      "<class 'int'>\n",
      "25\n"
     ]
    }
   ],
   "source": [
    "#Print the Age after 5 years\n",
    "future_age = int(age) + 5 #Now future age in a type of int as we have type casted to it an integer\n",
    "print(type(future_age))\n",
    "print(future_age)"
   ]
  },
  {
   "cell_type": "code",
   "execution_count": 1,
   "metadata": {},
   "outputs": [
    {
     "name": "stdout",
     "output_type": "stream",
     "text": [
      "10 20 30 40 50 60\n",
      "[['10', '20', '30', '40', '50', '60']]\n",
      "<class 'list'>\n"
     ]
    }
   ],
   "source": [
    "#Method to take input of strings - \n",
    "number = [input().split()] \n",
    "# Note - if i write only input() here in the list , then the list of only 1 string would have been formed\n",
    "# as split() is used when we want to take multiple inputs in a single line.\n",
    "print(number)\n",
    "print(type(number))"
   ]
  },
  {
   "cell_type": "markdown",
   "metadata": {},
   "source": [
    "# Loops in python"
   ]
  },
  {
   "cell_type": "code",
   "execution_count": 200,
   "metadata": {},
   "outputs": [
    {
     "name": "stdout",
     "output_type": "stream",
     "text": [
      "Value of i is 1\n",
      "Value of i is 2\n",
      "Value of i is 3\n",
      "Value of i is 4\n",
      "Value of i is 5\n",
      "Value of i is 6\n",
      "Value of i is 7\n",
      "Value of i is 8\n",
      "Value of i is 9\n",
      "Value of i is 10\n",
      "Loop finished\n"
     ]
    }
   ],
   "source": [
    "#now we would learn about while loops\n",
    "i = 1\n",
    "n = 10\n",
    "while i<=n:\n",
    "    print(\"Value of i is \" + str(i))\n",
    "    i = i +1\n",
    "print(\"Loop finished\")    "
   ]
  },
  {
   "cell_type": "code",
   "execution_count": 201,
   "metadata": {},
   "outputs": [
    {
     "name": "stdout",
     "output_type": "stream",
     "text": [
      "0\n",
      "1\n",
      "2\n",
      "3\n",
      "4\n",
      "5\n",
      "6\n",
      "7\n",
      "8\n",
      "9\n"
     ]
    }
   ],
   "source": [
    "#Before learning about for loops learn about range(n) -> It will give values strarting from 0 to n-1\n",
    "for x in range(10):\n",
    "    print(x)"
   ]
  },
  {
   "cell_type": "code",
   "execution_count": 202,
   "metadata": {},
   "outputs": [
    {
     "name": "stdout",
     "output_type": "stream",
     "text": [
      "1,2,3,4,5,6,7,8,9,"
     ]
    }
   ],
   "source": [
    "\n",
    "#Before learning about for loops learn about range(i,n) -> It will give values strarting from i to n-1\n",
    "for i in range(1,10):\n",
    "    print(i,end=\",\")\n",
    "    \n",
    "#Therefore the above loop provides values from 1 to (10-1)    "
   ]
  },
  {
   "cell_type": "code",
   "execution_count": 203,
   "metadata": {},
   "outputs": [
    {
     "name": "stdout",
     "output_type": "stream",
     "text": [
      "1 , 3 , 5 , 7 , 9 , 11 , 13 , 15 , 17 , 19\n"
     ]
    }
   ],
   "source": [
    "#Program to print odd number from 1 to 20\n",
    "\n",
    "#Here in this last number = 2 represents that we always have to do i = i+2 where inital value of i is 1\n",
    "#It will go from 1 to (21-1) i.e it will go till (i<21) or i<=20\n",
    "for i in range(1,21,2):\n",
    "    if i is not 19:\n",
    "        print(i,end=\" , \")\n",
    "    else:\n",
    "        print(i)"
   ]
  },
  {
   "cell_type": "code",
   "execution_count": 204,
   "metadata": {},
   "outputs": [
    {
     "name": "stdout",
     "output_type": "stream",
     "text": [
      "2 3 4 5 \n",
      "3 4 5 6 \n",
      "4 5 6 7 \n",
      "5 6 7 8 \n"
     ]
    }
   ],
   "source": [
    "#Nested loops\n",
    "for i in range(1,5):\n",
    "    for j in range(1,5):\n",
    "        print(i+j,end=\" \")\n",
    "    print()   "
   ]
  },
  {
   "cell_type": "markdown",
   "metadata": {},
   "source": [
    "# break,continue,pass in loops"
   ]
  },
  {
   "cell_type": "code",
   "execution_count": 205,
   "metadata": {},
   "outputs": [
    {
     "name": "stdout",
     "output_type": "stream",
     "text": [
      "0,1,2,3,4,\n",
      "0,1,2,3,4,6,7,8,9,"
     ]
    }
   ],
   "source": [
    "#break\n",
    "for i in range(10):\n",
    "    if i==5:\n",
    "        break;\n",
    "    print(i,end=\",\")\n",
    "\n",
    "\n",
    "print()    \n",
    "    \n",
    "        \n",
    "#continue\n",
    "for i in range(10):\n",
    "    if i==5:\n",
    "        continue; \n",
    "    print(i,end=\",\")\n",
    "    \n",
    "#Pass\n",
    "#Like if we just writing the outer code initially, we can' keep body of loops or if condition as emoty\n",
    "#Like if we just write below line, then it would be an error. Therefore if you don't want to write anything in body\n",
    "#just write pass as body can't be null\n",
    "#for i in range(10):\n",
    "\n",
    "#nothing will be printed in this\n",
    "for i in range(10):\n",
    "    pass"
   ]
  },
  {
   "cell_type": "markdown",
   "metadata": {},
   "source": [
    "# Now we would learn about strings in depth"
   ]
  },
  {
   "cell_type": "code",
   "execution_count": 207,
   "metadata": {},
   "outputs": [
    {
     "name": "stdout",
     "output_type": "stream",
     "text": [
      "Gaurish Anand\n",
      "a\n",
      "d\n",
      "r\n",
      "a\n"
     ]
    }
   ],
   "source": [
    "a = \"Gaurish Anand\" \n",
    "print(a)\n",
    "print(a[1])\n",
    "print(a[-1]) #Note index if -ve it gives the valuees in reverse. Eg - like a[-i] means ith char from the opposite side\n",
    "print(a[3])\n",
    "print(a[-3])# 3rd number from the reverse side"
   ]
  },
  {
   "cell_type": "code",
   "execution_count": 208,
   "metadata": {},
   "outputs": [
    {
     "name": "stdout",
     "output_type": "stream",
     "text": [
      "13\n"
     ]
    }
   ],
   "source": [
    "#Note strings are not mutable. \n",
    "#It means though we can change the pointer where string is pointing. But we can't change\n",
    "#the data in between. E.g -\n",
    "# a[1] = 'v' #--> This will be an error\n",
    "a = \"Gvurish Anand\" #This will not be an error as we are changing the pointer only where it is pointing.\n",
    "print(len(a))"
   ]
  },
  {
   "cell_type": "code",
   "execution_count": 209,
   "metadata": {},
   "outputs": [
    {
     "name": "stdout",
     "output_type": "stream",
     "text": [
      "Gvurish Anand\n",
      "Gvurish Anand"
     ]
    }
   ],
   "source": [
    "#Printing the string char by char\n",
    "for i in range(len(a)):\n",
    "    print(a[i],end=\"\")\n",
    "\n",
    "    \n",
    "print()\n",
    "    \n",
    "#We can also print the string char by char like this-\n",
    "for ch in a:\n",
    "    print(ch,end=\"\")    "
   ]
  },
  {
   "cell_type": "code",
   "execution_count": 210,
   "metadata": {},
   "outputs": [
    {
     "name": "stdout",
     "output_type": "stream",
     "text": [
      "MangoJuice\n",
      "MangoMangoMangoMangoMango\n"
     ]
    }
   ],
   "source": [
    "a = \"Mango\"\n",
    "b = \"Juice\"\n",
    "\n",
    "print(a+b) # It will catenate the string and print it\n",
    "\n",
    "print(a*5) # It will print the string 5 times"
   ]
  },
  {
   "cell_type": "code",
   "execution_count": 211,
   "metadata": {},
   "outputs": [
    {
     "name": "stdout",
     "output_type": "stream",
     "text": [
      "aurish\n",
      "aur\n",
      "uris\n",
      "ish\n"
     ]
    }
   ],
   "source": [
    "#Now we would learn about the range slicing\n",
    "#a[i:] --> It means print all the charackters from ith index to (size-1)th index\n",
    "#a[i:j] ---> It means print all the characters from ith index to (j-1)th index\n",
    "a = \"Gaurish\"\n",
    "print(a[1:])#Print all the characters from 1st index\n",
    "print(a[1:4])#Print all the characters from 1st index to 3rd(4-1) index\n",
    "print(a[2:-1])#Print all the characters from 2nd index to 2nd last index (as -1 corresponds to last index and we need to go just 1 less than it)\n",
    "print(a[-3:])#Printing all the characters from 3rd last index till last index"
   ]
  },
  {
   "cell_type": "code",
   "execution_count": 212,
   "metadata": {},
   "outputs": [
    {
     "name": "stdout",
     "output_type": "stream",
     "text": [
      "yes\n",
      "no\n"
     ]
    }
   ],
   "source": [
    "#Finding if some string is the substring of another string or not\n",
    "x = \"aur\"\n",
    "if x in a:\n",
    "    print(\"yes\")\n",
    "else:\n",
    "    print(\"no\")\n",
    "   \n",
    "x = \"risv\"\n",
    "if x in a:\n",
    "    print(\"yes\")\n",
    "else:\n",
    "    print(\"no\")    "
   ]
  },
  {
   "cell_type": "code",
   "execution_count": 213,
   "metadata": {},
   "outputs": [
    {
     "name": "stdout",
     "output_type": "stream",
     "text": [
      "-1\n",
      "-1\n",
      "-1\n",
      "-1\n"
     ]
    }
   ],
   "source": [
    "#Now to find directly the index of the substring in the string\n",
    "\n",
    "#find() returns the index of first occurance(from left) of the substring in the main string. If the substring is\n",
    "# not found ,then it returns -1\n",
    "x = myString.find(\"Apple\")\n",
    "print(x)\n",
    "\n",
    "x = myString.find(\"Apple\",25)\n",
    "print(x)\n",
    "\n",
    "x = myString.find(\"Apple\",25,47)\n",
    "print(x)\n",
    "\n",
    "x = myString.find(\"Apple\",25,100)\n",
    "print(x)"
   ]
  },
  {
   "cell_type": "code",
   "execution_count": 214,
   "metadata": {},
   "outputs": [
    {
     "name": "stdout",
     "output_type": "stream",
     "text": [
      "44\n",
      "-1\n",
      "14\n"
     ]
    }
   ],
   "source": [
    "#Now to find directly the index of the substring in the string\n",
    "myString = \"I love having Apple Juice and i love eating Apple\"\n",
    "\n",
    "x = myString.rfind(\"Apple\") \n",
    "print(x)\n",
    "\n",
    "x = myString.rfind(\"Apples\")\n",
    "print(x)\n",
    "\n",
    "x = myString.find(\"Apple\")\n",
    "print(x)"
   ]
  },
  {
   "cell_type": "code",
   "execution_count": 215,
   "metadata": {},
   "outputs": [
    {
     "name": "stdout",
     "output_type": "stream",
     "text": [
      "14\n"
     ]
    },
    {
     "ename": "ValueError",
     "evalue": "substring not found",
     "output_type": "error",
     "traceback": [
      "\u001b[0;31m---------------------------------------------------------------------------\u001b[0m",
      "\u001b[0;31mValueError\u001b[0m                                Traceback (most recent call last)",
      "\u001b[0;32m<ipython-input-215-a753bd39f639>\u001b[0m in \u001b[0;36m<module>\u001b[0;34m\u001b[0m\n\u001b[1;32m      5\u001b[0m \u001b[0mprint\u001b[0m\u001b[0;34m(\u001b[0m\u001b[0mx\u001b[0m\u001b[0;34m)\u001b[0m\u001b[0;34m\u001b[0m\u001b[0;34m\u001b[0m\u001b[0m\n\u001b[1;32m      6\u001b[0m \u001b[0;34m\u001b[0m\u001b[0m\n\u001b[0;32m----> 7\u001b[0;31m \u001b[0mx\u001b[0m \u001b[0;34m=\u001b[0m \u001b[0mmyString\u001b[0m\u001b[0;34m.\u001b[0m\u001b[0mindex\u001b[0m\u001b[0;34m(\u001b[0m\u001b[0;34m\"Apples\"\u001b[0m\u001b[0;34m)\u001b[0m\u001b[0;34m\u001b[0m\u001b[0;34m\u001b[0m\u001b[0m\n\u001b[0m\u001b[1;32m      8\u001b[0m \u001b[0mprint\u001b[0m\u001b[0;34m(\u001b[0m\u001b[0mx\u001b[0m\u001b[0;34m)\u001b[0m\u001b[0;34m\u001b[0m\u001b[0;34m\u001b[0m\u001b[0m\n",
      "\u001b[0;31mValueError\u001b[0m: substring not found"
     ]
    }
   ],
   "source": [
    "#Now we would learn about index function \n",
    "# Note- index , find and rfind works in the same manner . But the main difference is that if substring is not found in \n",
    "# the main string, then index instead of returning -1 => throws an exception. \n",
    "x = myString.index(\"Apple\")\n",
    "print(x)\n",
    "\n",
    "x = myString.index(\"Apples\")\n",
    "print(x)\n",
    "\n",
    "\n",
    "#Note -index,find and rfind do a linear search. Therefore Time Complexity is -> O(N)"
   ]
  },
  {
   "cell_type": "code",
   "execution_count": 216,
   "metadata": {},
   "outputs": [
    {
     "name": "stdout",
     "output_type": "stream",
     "text": [
      "I love having Apple Juice and i love eating Apple\n",
      "I love having Mango Juice and i love eating Mango\n",
      "Number of times Mango comes in main string is 2\n"
     ]
    }
   ],
   "source": [
    "#We can replace a subtring inside a string by some other string\n",
    "print(myString)\n",
    "\n",
    "myString = myString.replace(\"Apple\",\"Mango\")\n",
    "print(myString)\n",
    "\n",
    "#We can also count the number of times a substring comes in another string\n",
    "print(\"Number of times Mango comes in main string is \" + str(myString.count(\"Mango\")))"
   ]
  },
  {
   "cell_type": "code",
   "execution_count": 217,
   "metadata": {},
   "outputs": [
    {
     "name": "stdout",
     "output_type": "stream",
     "text": [
      "MANGO\n",
      "mango\n"
     ]
    }
   ],
   "source": [
    "fruit = \"Mango\"\n",
    "\n",
    "\n",
    "if fruit.islower() : \n",
    "    print(\"All characters in the string are lower\")\n",
    "\n",
    "    \n",
    "fruit = fruit.upper() #Fruit.upper will convert all the characters in upper alpha and return the string.\n",
    "print(fruit)\n",
    "fruit = fruit.lower()\n",
    "print(fruit)\n",
    "#Note just writing fruit.upper will not make any difference, as fruit will come as updated. This function returns a new string"
   ]
  },
  {
   "cell_type": "code",
   "execution_count": 218,
   "metadata": {},
   "outputs": [
    {
     "name": "stdout",
     "output_type": "stream",
     "text": [
      "         Gaurish  Anand                  ,Len = 41\n",
      "Gaurish  Anand                  ,Len = 32\n",
      "Gaurish  Anand,Len = 14\n"
     ]
    }
   ],
   "source": [
    "#Now we would learn how to handle white spaces in strings easily\n",
    "myString = \"         Gaurish  Anand                  \"\n",
    "print(myString + \",Len = \" + str(len(myString)))\n",
    "\n",
    "myString = myString.lstrip() #It will remove all the white space at the starting of the string\n",
    "print(myString + \",Len = \" + str(len(myString)))\n",
    "\n",
    "myString = myString.rstrip() #Now it will remove all the white space at the end of the string . Since white space in the starting was already removed , therefore no white space left now\n",
    "print(myString + \",Len = \" + str(len(myString)))"
   ]
  },
  {
   "cell_type": "code",
   "execution_count": 219,
   "metadata": {},
   "outputs": [
    {
     "name": "stdout",
     "output_type": "stream",
     "text": [
      "Gaurish  Anand,Len = 14\n"
     ]
    }
   ],
   "source": [
    "#If we want to remove the white space at end and start both in first step, then do this\n",
    "myString = \"         Gaurish  Anand                  \"\n",
    "myString = myString.strip()\n",
    "print(myString + \",Len = \" + str(len(myString)))"
   ]
  },
  {
   "cell_type": "code",
   "execution_count": 220,
   "metadata": {},
   "outputs": [
    {
     "name": "stdout",
     "output_type": "stream",
     "text": [
      "String only has alphabets\n",
      "String is alphanumeric\n"
     ]
    }
   ],
   "source": [
    "#Now some functions to check if string purely has number or alphabets or it is alphanumeric\n",
    "myString = \"462388\"\n",
    "if a.isdigit():\n",
    "    print(\"String only has numbers\") \n",
    "if a.isalpha():\n",
    "    print(\"String only has alphabets\")\n",
    "if a.isalnum():\n",
    "    print(\"String is alphanumeric\")"
   ]
  },
  {
   "cell_type": "code",
   "execution_count": 221,
   "metadata": {},
   "outputs": [
    {
     "name": "stdout",
     "output_type": "stream",
     "text": [
      "Gaurish anand\n",
      "Gaurish Anand\n"
     ]
    }
   ],
   "source": [
    "name = \"gaurish anand\"\n",
    "name = name.capitalize() # It will capatilize only the 1st character of the string\n",
    "print(name)\n",
    "\n",
    "name = \"gaurish anand\"\n",
    "name = name.title() #It will capatilize the first character of each word in the string\n",
    "print(name)"
   ]
  },
  {
   "cell_type": "markdown",
   "metadata": {},
   "source": [
    "# Now we will learn about list"
   ]
  },
  {
   "cell_type": "code",
   "execution_count": 222,
   "metadata": {},
   "outputs": [
    {
     "name": "stdout",
     "output_type": "stream",
     "text": [
      "['Hello', 1, 2, 3.42, '9582024452']\n",
      "<class 'list'>\n"
     ]
    }
   ],
   "source": [
    "#Note - list is like array and it is heterogenous in nature. i.e at the same time a list can have multiple type of \n",
    "#datatypes. E.g - \n",
    "myList = [\"Hello\",1,2,3.42,\"9582024452\"] \n",
    "print(myList)\n",
    "\n",
    "print(type(myList))"
   ]
  },
  {
   "cell_type": "code",
   "execution_count": 223,
   "metadata": {},
   "outputs": [
    {
     "name": "stdout",
     "output_type": "stream",
     "text": [
      "1\n",
      "Hello\n",
      "e\n"
     ]
    }
   ],
   "source": [
    "print(myList[1])\n",
    "print(myList[0])\n",
    "print(myList[0][1]) \n",
    "#Note - if i write myList[1][2]-> it is an error as at the index = 1, we have an integer and not a string."
   ]
  },
  {
   "cell_type": "code",
   "execution_count": 224,
   "metadata": {},
   "outputs": [
    {
     "name": "stdout",
     "output_type": "stream",
     "text": [
      "Hello\n",
      "1\n",
      "2\n",
      "3.42\n",
      "9582024452\n"
     ]
    }
   ],
   "source": [
    "#Now Just like strings we can also print list using for loops\n",
    "for x in myList:\n",
    "    print(x)"
   ]
  },
  {
   "cell_type": "code",
   "execution_count": 225,
   "metadata": {},
   "outputs": [
    {
     "name": "stdout",
     "output_type": "stream",
     "text": [
      "[1, 2, 3]\n"
     ]
    }
   ],
   "source": [
    "#We can also create a list like this - \n",
    "myList = list([1,2,3])\n",
    "\n",
    "#By using the above format to make a list. We can also make a copy of the list\n",
    "copyList = list(myList)\n",
    "print(copyList)"
   ]
  },
  {
   "cell_type": "code",
   "execution_count": 226,
   "metadata": {},
   "outputs": [
    {
     "name": "stdout",
     "output_type": "stream",
     "text": [
      "[1, 2, 3, 4]\n",
      "[1, 2, 3, 4, 'Navdha']\n",
      "[1, 2, 3, 4, 'Navdha', [3, 5]]\n"
     ]
    }
   ],
   "source": [
    "#Now we will learn , how to append elements in the list\n",
    "myList = [1,2,3]\n",
    "\n",
    "#Appending an integer in the list\n",
    "myList.append(4)\n",
    "print(myList)\n",
    "\n",
    "#Appending a string in the list\n",
    "myList.append(\"Navdha\")\n",
    "print(myList)\n",
    "\n",
    "#Appending a list at the end of the list\n",
    "myList.append([3,5])\n",
    "print(myList)"
   ]
  },
  {
   "cell_type": "code",
   "execution_count": 227,
   "metadata": {},
   "outputs": [
    {
     "name": "stdout",
     "output_type": "stream",
     "text": [
      "[1, 2, 3, 4, 'Gaurish <3', 'Navdha', [3, 5]]\n"
     ]
    }
   ],
   "source": [
    "#Since we know that append insert elements at the last position in the list. But if we want to insert element\n",
    "#at certain index in between you can use insert function\n",
    "myList.insert(4,\"Gaurish <3\") #This string will be inserted at the 4th index\n",
    "print(myList)"
   ]
  },
  {
   "cell_type": "code",
   "execution_count": 228,
   "metadata": {},
   "outputs": [
    {
     "name": "stdout",
     "output_type": "stream",
     "text": [
      "list1 = [1, 2, 3]\n",
      "list2 = [3, 4, 5]\n",
      "List1 + List2 =  [1, 2, 3, 3, 4, 5]\n",
      "Appended list1 at the end of list2 [3, 4, 5, [1, 2, 3]]\n",
      "List1*3 =  [1, 2, 3, 1, 2, 3, 1, 2, 3]\n"
     ]
    }
   ],
   "source": [
    "list1 = list([1,2,3])\n",
    "list2 = list([3,4,5])\n",
    "\n",
    "#Just like string, we can perform following operatins on list - \n",
    "print(\"list1 =\",list1)\n",
    "print(\"list2 =\",list2)\n",
    "\n",
    "#Note - Clearly Appending a list at end is different from adding the 2 list . You may see in the output.\n",
    "#if we would append a list, then the whole list will be added at the same index and adding \n",
    "#will add each element of 2nd string on different index\n",
    "\n",
    "list3 = list1 + list2\n",
    "print(\"List1 + List2 = \",list3)\n",
    "#Note we can also add 2 list (l1+l2) using the function list1.extend(list2)-> it works in the same manner as  '+'\n",
    "\n",
    "list2.append(list1)\n",
    "print(\"Appended list1 at the end of list2\",list2)\n",
    "\n",
    "list5 = list1*3\n",
    "print(\"List1*3 = \",list5)"
   ]
  },
  {
   "cell_type": "code",
   "execution_count": 229,
   "metadata": {},
   "outputs": [
    {
     "name": "stdout",
     "output_type": "stream",
     "text": [
      "[4, 5, 6, 7]\n",
      "[4]\n",
      "[6, 7]\n"
     ]
    }
   ],
   "source": [
    "#Slicing in list is same as strings\n",
    "list1 = [1,2,3,4,5,6,7]\n",
    "print(list1[3:])\n",
    "print(list1[3:4])\n",
    "print(list1[-2:])"
   ]
  },
  {
   "cell_type": "code",
   "execution_count": 230,
   "metadata": {},
   "outputs": [
    {
     "name": "stdout",
     "output_type": "stream",
     "text": [
      "[1, 2, 3, 4, 5, 6, 7, 8, 9, 10]\n",
      "[1, 4, 9, 16, 25, 36, 49, 64, 81, 100]\n"
     ]
    }
   ],
   "source": [
    "#Eg. if we want to form a list which contains numbers from 1 to 10. \n",
    "#Though we can form it using loops and append function easily. But we may form it in one line like this - \n",
    "myList = [i for i in range(1,11)]\n",
    "print(myList)\n",
    "\n",
    "#Store sqaure of all numbers from 1 to 10 in a list\n",
    "myList = [i*i for i in range(1,11)]\n",
    "print(myList)"
   ]
  },
  {
   "cell_type": "code",
   "execution_count": 231,
   "metadata": {},
   "outputs": [
    {
     "name": "stdout",
     "output_type": "stream",
     "text": [
      "[1, 3, 4, 5, 2]\n"
     ]
    }
   ],
   "source": [
    "#We can also remove the particular element from the list by using the remove function\n",
    "myList = [1,2,3,4,5,2]\n",
    "myList.remove(2) #remove will remove that 2 which comes first in the list\n",
    "print(myList)"
   ]
  },
  {
   "cell_type": "code",
   "execution_count": 2,
   "metadata": {},
   "outputs": [
    {
     "name": "stdout",
     "output_type": "stream",
     "text": [
      "[1, 2, 3, 5, 2]\n",
      "[1, 2, 3, 5]\n"
     ]
    }
   ],
   "source": [
    "#if we want to remove the element at a specific index, then use del. \n",
    "myList = [1,2,3,4,5,2]\n",
    "del myList[3]\n",
    "print(myList)\n",
    "\n",
    "#But we could have performed above using myList.remove(myList[index])\n",
    "#But what different is of del from remove is that, when elements are repeating, it will delete at that particular index\n",
    "#only and not at the first index where it finds the value\n",
    "del myList[4]\n",
    "print(myList)"
   ]
  },
  {
   "cell_type": "code",
   "execution_count": 1,
   "metadata": {},
   "outputs": [
    {
     "ename": "NameError",
     "evalue": "name 'myList' is not defined",
     "output_type": "error",
     "traceback": [
      "\u001b[0;31m---------------------------------------------------------------------------\u001b[0m",
      "\u001b[0;31mNameError\u001b[0m                                 Traceback (most recent call last)",
      "\u001b[0;32m<ipython-input-1-a6cdabe79d04>\u001b[0m in \u001b[0;36m<module>\u001b[0;34m\u001b[0m\n\u001b[0;32m----> 1\u001b[0;31m \u001b[0mmyList\u001b[0m\u001b[0;34m.\u001b[0m\u001b[0mpop\u001b[0m\u001b[0;34m(\u001b[0m\u001b[0;34m)\u001b[0m \u001b[0;31m#pop() function removes the last element in the list\u001b[0m\u001b[0;34m\u001b[0m\u001b[0;34m\u001b[0m\u001b[0m\n\u001b[0m\u001b[1;32m      2\u001b[0m \u001b[0mprint\u001b[0m\u001b[0;34m(\u001b[0m\u001b[0mmyList\u001b[0m\u001b[0;34m)\u001b[0m\u001b[0;34m\u001b[0m\u001b[0;34m\u001b[0m\u001b[0m\n",
      "\u001b[0;31mNameError\u001b[0m: name 'myList' is not defined"
     ]
    }
   ],
   "source": [
    "myList.pop() #pop() function removes the last element in the list\n",
    "print(myList) "
   ]
  },
  {
   "cell_type": "code",
   "execution_count": 3,
   "metadata": {},
   "outputs": [
    {
     "name": "stdout",
     "output_type": "stream",
     "text": [
      "976\n"
     ]
    }
   ],
   "source": [
    "#Now to find max and min in the list\n",
    "myList = [1,2,3,273,171,976,11,100]\n",
    "print(max(myList))"
   ]
  },
  {
   "cell_type": "code",
   "execution_count": 8,
   "metadata": {},
   "outputs": [
    {
     "name": "stdout",
     "output_type": "stream",
     "text": [
      "[1, 2, 3, 11, 100, 171, 273, 976]\n",
      "[976, 273, 171, 100, 11, 3, 2, 1]\n"
     ]
    }
   ],
   "source": [
    "#Sorting in Build function of python\n",
    "myList.sort()\n",
    "print(myList)\n",
    "\n",
    "#We can also mention some paramater in function's definition which will decide how the list will be sorted\n",
    "#Like if we want it to be sored in reverse order\n",
    "myList.sort(reverse=True)\n",
    "print(myList)"
   ]
  },
  {
   "cell_type": "code",
   "execution_count": 11,
   "metadata": {},
   "outputs": [
    {
     "name": "stdout",
     "output_type": "stream",
     "text": [
      "Enter numbers =  1 2 3 4 5\n",
      "['1', '2', '3', '4', '5']\n",
      "Enter numbers =  1 2 3 4 5\n",
      "[1, 2, 3, 4, 5]\n"
     ]
    }
   ],
   "source": [
    "print(\"Enter numbers = \",end = \" \")\n",
    "#Now if want to input a list of numbers in one line\n",
    "newList = [number for number in input().split()] \n",
    "print(newList)\n",
    "\n",
    "\n",
    "#Now what would happen in above is that input.split() will take input of numbers in the form of string in the same\n",
    "#line and insert a number in the form of string only to the list formed. Therefore if we want a list of integer, we should\n",
    "#type case it as int.\n",
    "\n",
    "print(\"Enter numbers = \",end = \" \")\n",
    "newList = [int(number) for number in (input().split())] \n",
    "print(newList)\n",
    "#Now i will explain how the above list is formed. \n",
    "#1) First we take the input of numbers in string format using input().split()\n",
    "#2) Now when we have the whole list inserted, we travel one by one and traverse the whole list, convert each string\n",
    "#to int and insert in the new list"
   ]
  },
  {
   "cell_type": "code",
   "execution_count": 21,
   "metadata": {},
   "outputs": [
    {
     "name": "stdout",
     "output_type": "stream",
     "text": [
      "Data type of myString is  <class 'str'>\n",
      "['My', 'name', 'is', 'Gaurish', 'Anand']\n",
      "Data type of myList is  <class 'list'>\n"
     ]
    }
   ],
   "source": [
    "#Now we also have a split function for strings in python which would split each word of a string and give us a list\n",
    "# of words\n",
    "myString = \"My name is Gaurish Anand\"\n",
    "print(\"Data type of myString is \",type(myString))\n",
    "\n",
    "\n",
    "myList = myString.split()\n",
    "print(myList)\n",
    "print(\"Data type of myList is \",type(myList))"
   ]
  },
  {
   "cell_type": "code",
   "execution_count": 23,
   "metadata": {},
   "outputs": [
    {
     "name": "stdout",
     "output_type": "stream",
     "text": [
      "['', 'My name is Gaurish Anand. ', 'I am 20 years old.', 'I love Navdha.']\n"
     ]
    }
   ],
   "source": [
    "#Now what we want is to split the string line by line i.e after \\n\n",
    "myString = \"\"\"\n",
    "My name is Gaurish Anand. \n",
    "I am 20 years old.\n",
    "I love Navdha.\"\"\"\n",
    "\n",
    "myList = myString.splitlines()\n",
    "print(myList)"
   ]
  },
  {
   "cell_type": "code",
   "execution_count": 26,
   "metadata": {},
   "outputs": [
    {
     "name": "stdout",
     "output_type": "stream",
     "text": [
      "My $$ name $$ is $$ Gaurish $$ Anand\n"
     ]
    }
   ],
   "source": [
    "#Now supplose we have a list and what we want is to output that list by joining each element of a list with some \n",
    "#particularSubstring. Eg - \n",
    "\n",
    "xlist = \"My name is Gaurish Anand\".split()\n",
    "newString = \" $$ \".join(xlist)  # Where the substring $$ would be inserted between each word\n",
    "print(newString) "
   ]
  },
  {
   "cell_type": "code",
   "execution_count": 29,
   "metadata": {
    "scrolled": true
   },
   "outputs": [
    {
     "name": "stdout",
     "output_type": "stream",
     "text": [
      "1 2 3\n",
      "1 2 3\n"
     ]
    }
   ],
   "source": [
    "a,b,c = input().split()\n",
    "print(a,b,c)"
   ]
  },
  {
   "cell_type": "markdown",
   "metadata": {},
   "source": [
    "## Tuples - Same as LIST , Only difference is that list are mutable but TUPLES are immutable i.e tuples can't be updated but the location where they point can be changed"
   ]
  },
  {
   "cell_type": "code",
   "execution_count": 85,
   "metadata": {},
   "outputs": [
    {
     "name": "stdout",
     "output_type": "stream",
     "text": [
      "(1, 2, 3)\n",
      "<class 'tuple'>\n"
     ]
    }
   ],
   "source": [
    "#Example to form a tuple\n",
    "myTuple = (1,2,3)\n",
    "print(myTuple)\n",
    "print(type(myTuple))"
   ]
  },
  {
   "cell_type": "code",
   "execution_count": 1,
   "metadata": {},
   "outputs": [
    {
     "name": "stdout",
     "output_type": "stream",
     "text": [
      "(5, 2, 3, 10)\n"
     ]
    }
   ],
   "source": [
    "#If we want to make some changes in the tuple , we can type case it to list => Then make changes and type cast it back\n",
    "myTuple = (1,2,3)\n",
    "\n",
    "#type casted it to a list\n",
    "myTuple = list(myTuple)\n",
    "myTuple.append(10)\n",
    "myTuple[0] = 5\n",
    "\n",
    "#type casted it to tuple again\n",
    "myTuple = tuple(myTuple)\n",
    "print(myTuple)"
   ]
  },
  {
   "cell_type": "markdown",
   "metadata": {},
   "source": [
    "### But why we should tuples instead of list? \n",
    "#### Tuples are much faster than list. Therefore for eg. you want to return multiple values from a function, we can use a tuple to return as it would be faster as compared to list. Obviously if a tuple is returned from a function we won't be able to update it. But it is very rarely required to update a value returned from the function"
   ]
  },
  {
   "cell_type": "code",
   "execution_count": 96,
   "metadata": {},
   "outputs": [
    {
     "name": "stdout",
     "output_type": "stream",
     "text": [
      "Min is  1\n",
      "(1, 2, 3, 4, 5, 6, [100, 200, 300], 'Hello')\n",
      "(1, 2, 3, 1, 2, 3)\n"
     ]
    }
   ],
   "source": [
    "#Some method to show tuples works same as list\n",
    "tuple1 = (1,2,3)\n",
    "tuple2 = (4,5,6,[100,200,300],'Hello')\n",
    "\n",
    "print(\"Min is \",min(tuple1)) #Note min,max function on these work only if there is same data type of values in these\n",
    "print(tuple1 + tuple2)\n",
    "print(tuple1*2)"
   ]
  },
  {
   "cell_type": "code",
   "execution_count": 98,
   "metadata": {},
   "outputs": [
    {
     "ename": "NameError",
     "evalue": "name 'tuple1' is not defined",
     "output_type": "error",
     "traceback": [
      "\u001b[0;31m---------------------------------------------------------------------------\u001b[0m",
      "\u001b[0;31mNameError\u001b[0m                                 Traceback (most recent call last)",
      "\u001b[0;32m<ipython-input-98-859be7b97aba>\u001b[0m in \u001b[0;36m<module>\u001b[0;34m\u001b[0m\n\u001b[1;32m      1\u001b[0m \u001b[0;31m#del tuple1[2]\u001b[0m\u001b[0;34m\u001b[0m\u001b[0;34m\u001b[0m\u001b[0;34m\u001b[0m\u001b[0m\n\u001b[1;32m      2\u001b[0m \u001b[0;31m#Obviously above is an error as we can't delete anything from a tuple. But we can obviously delete tuple as a whole\u001b[0m\u001b[0;34m\u001b[0m\u001b[0;34m\u001b[0m\u001b[0;34m\u001b[0m\u001b[0m\n\u001b[0;32m----> 3\u001b[0;31m \u001b[0;32mdel\u001b[0m \u001b[0mtuple1\u001b[0m\u001b[0;34m\u001b[0m\u001b[0;34m\u001b[0m\u001b[0m\n\u001b[0m\u001b[1;32m      4\u001b[0m \u001b[0mprint\u001b[0m\u001b[0;34m(\u001b[0m\u001b[0mtuple1\u001b[0m\u001b[0;34m)\u001b[0m\u001b[0;34m\u001b[0m\u001b[0;34m\u001b[0m\u001b[0m\n",
      "\u001b[0;31mNameError\u001b[0m: name 'tuple1' is not defined"
     ]
    }
   ],
   "source": [
    "#del tuple1[2]\n",
    "#Obviously above is an error as we can't delete anything from a tuple. But we can obviously delete tuple as a whole\n",
    "del tuple1\n",
    "print(tuple1)"
   ]
  },
  {
   "cell_type": "markdown",
   "metadata": {},
   "source": [
    "# SETS in PYHTON - UNORDERED SET TO STORE UNIQUE VALUES ONLY"
   ]
  },
  {
   "cell_type": "code",
   "execution_count": 126,
   "metadata": {},
   "outputs": [
    {
     "name": "stdout",
     "output_type": "stream",
     "text": [
      "{1, 2, 4, 5, 6, 7}\n",
      "<class 'set'>\n"
     ]
    }
   ],
   "source": [
    "mySet = {1,2,2,1,5,4,4,7,6,5}\n",
    "print(mySet)\n",
    "print(type(mySet))"
   ]
  },
  {
   "cell_type": "code",
   "execution_count": 127,
   "metadata": {},
   "outputs": [
    {
     "name": "stdout",
     "output_type": "stream",
     "text": [
      "{1, 2, 3, 4, 5, 6, 9}\n"
     ]
    }
   ],
   "source": [
    "#We can also form a set like this\n",
    "mySet2 = set([1,2,3,2,4,6,2,5,5,5,9,9])\n",
    "print(mySet2)"
   ]
  },
  {
   "cell_type": "code",
   "execution_count": 128,
   "metadata": {},
   "outputs": [
    {
     "name": "stdout",
     "output_type": "stream",
     "text": [
      "{1, 2, 3, 4, 5, 6, 9, 50}\n"
     ]
    }
   ],
   "source": [
    "#Adding a new element in the list\n",
    "mySet2.add(50)\n",
    "print(mySet2)"
   ]
  },
  {
   "cell_type": "code",
   "execution_count": 129,
   "metadata": {},
   "outputs": [
    {
     "name": "stdout",
     "output_type": "stream",
     "text": [
      "SET 1 =  {1, 2, 4, 5, 6, 7}\n",
      "SET 2 =  {1, 2, 3, 4, 5, 6, 9, 50}\n",
      "UNION =  {1, 2, 3, 4, 5, 6, 7, 9, 50}\n",
      "UNION =  {1, 2, 3, 4, 5, 6, 7, 9, 50}\n"
     ]
    }
   ],
   "source": [
    "print(\"SET 1 = \",mySet)\n",
    "print(\"SET 2 = \",mySet2)\n",
    "\n",
    "#we can form union of 2 sets using 2 ways\n",
    "\n",
    "#Method 1\n",
    "mySet3 = mySet | mySet2\n",
    "print(\"UNION = \",mySet3)\n",
    "\n",
    "#Method 2\n",
    "mySet4 = mySet.union(mySet2) \n",
    "print(\"UNION = \",mySet4)"
   ]
  },
  {
   "cell_type": "code",
   "execution_count": 130,
   "metadata": {},
   "outputs": [
    {
     "name": "stdout",
     "output_type": "stream",
     "text": [
      "{1, 2, 4, 5, 6}\n",
      "{7}\n"
     ]
    }
   ],
   "source": [
    "#Method to find elements which are common between 2 sets i.e intersection elements\n",
    "mySet3 = mySet & mySet2\n",
    "print(mySet3)\n",
    "\n",
    "#Now find elements which are in set1 but not in set2. \n",
    "mySet4 = mySet - mySet2\n",
    "print(mySet4)"
   ]
  },
  {
   "cell_type": "code",
   "execution_count": 131,
   "metadata": {},
   "outputs": [
    {
     "name": "stdout",
     "output_type": "stream",
     "text": [
      "SET 1 =  {1, 2, 4, 5, 6, 7}\n",
      "SET 2 =  {1, 2, 3, 4, 5, 6, 9, 50}\n",
      "Ans =  {3, 7, 9, 50}\n"
     ]
    }
   ],
   "source": [
    "#Now what we want is to print elements which are either in set1 or set2 but not in Both\n",
    "print(\"SET 1 = \",mySet)\n",
    "print(\"SET 2 = \",mySet2)\n",
    "\n",
    "\n",
    "print(\"Ans = \",mySet^mySet2)"
   ]
  },
  {
   "cell_type": "code",
   "execution_count": 134,
   "metadata": {},
   "outputs": [
    {
     "name": "stdout",
     "output_type": "stream",
     "text": [
      "Set 1 has all the elements of Set 2\n"
     ]
    }
   ],
   "source": [
    "mySet1 = {1,2,3,4,5,6}\n",
    "mySet2 = {1,3}\n",
    "#Now find whether mySet1 has all the elements of mySet2 or not\n",
    "if mySet1>=mySet2:\n",
    "    print(\"Set 1 has all the elements of Set 2\")"
   ]
  },
  {
   "cell_type": "code",
   "execution_count": 124,
   "metadata": {},
   "outputs": [
    {
     "name": "stdout",
     "output_type": "stream",
     "text": [
      "Value Exists\n"
     ]
    }
   ],
   "source": [
    "#Searching an element in the set\n",
    "mySet = {1,2,3,4,5,6,6,7,9}\n",
    "value = 5\n",
    "if value in mySet:\n",
    "    print(\"Value Exists\")\n",
    "else:\n",
    "    print(\"Value doesn't Exists\")"
   ]
  },
  {
   "cell_type": "code",
   "execution_count": 125,
   "metadata": {},
   "outputs": [
    {
     "name": "stdout",
     "output_type": "stream",
     "text": [
      "set()\n"
     ]
    }
   ],
   "source": [
    "mySet.clear() \n",
    "print(mySet) # It will print an empty set"
   ]
  },
  {
   "cell_type": "markdown",
   "metadata": {},
   "source": [
    "# Dictionary in Python : It is basically Hashmaps of c++"
   ]
  },
  {
   "cell_type": "code",
   "execution_count": 69,
   "metadata": {},
   "outputs": [
    {
     "name": "stdout",
     "output_type": "stream",
     "text": [
      "<class 'dict'>\n",
      "\n",
      "{'Mango': 100, 'Apple': 85}\n",
      "85\n"
     ]
    }
   ],
   "source": [
    "dictionary = {\"Mango\" : 100,\"Apple\" : 85}\n",
    "print(type(dictionary))\n",
    "\n",
    "print()\n",
    "print(dictionary)\n",
    "print(dictionary[\"Apple\"])\n"
   ]
  },
  {
   "cell_type": "code",
   "execution_count": 70,
   "metadata": {},
   "outputs": [
    {
     "name": "stdout",
     "output_type": "stream",
     "text": [
      "{'Mango': 100, 'Apple': 85, 'Orange': 'It is tasty'}\n",
      "{'Mango': 100, 'Apple': 85, 'Orange': 'It is tasty', 100: [1, 2, 3]}\n",
      "{'Mango': 100, 'Apple': 85, 'Orange': 'It is tasty', 100: [1, 2, 3], 'Both are made for each other': {'Navdha': 'Gaurish'}}\n"
     ]
    }
   ],
   "source": [
    "#Inserting a new key,value pair in the dictionary\n",
    "dictionary[\"Orange\"] = \"It is tasty\" \n",
    "print(dictionary)\n",
    "\n",
    "#Therefore clear key,value can be of any data type in the same instance of the dictionary. \n",
    "#Eg. we can even insert a list as value too\n",
    "dictionary[100] = [1,2,3]\n",
    "print(dictionary)\n",
    "\n",
    "#e.g2 - We can even insert a dictionary too as value inside a dictionary\n",
    "dictionary[\"Both are made for each other\"] = {\"Navdha\" : \"Gaurish\",\"Navdha\":\"Gaurish\"}\n",
    "print(dictionary)"
   ]
  },
  {
   "cell_type": "code",
   "execution_count": 71,
   "metadata": {},
   "outputs": [
    {
     "name": "stdout",
     "output_type": "stream",
     "text": [
      "{'Mango': 100, 'Apple': 85, 'Orange': 'It is tasty', 100: [1, 2, 3], 'Both are made for each other': 'Kaash kabhi to ek ho jaaye'}\n"
     ]
    }
   ],
   "source": [
    "#Updating a value for key inside the dictionary\n",
    "dictionary['Both are made for each other'] = 'Kaash kabhi to ek ho jaaye'\n",
    "print(dictionary)"
   ]
  },
  {
   "cell_type": "code",
   "execution_count": 40,
   "metadata": {},
   "outputs": [
    {
     "ename": "KeyError",
     "evalue": "1023",
     "output_type": "error",
     "traceback": [
      "\u001b[0;31m---------------------------------------------------------------------------\u001b[0m",
      "\u001b[0;31mKeyError\u001b[0m                                  Traceback (most recent call last)",
      "\u001b[0;32m<ipython-input-40-00bd310b32e8>\u001b[0m in \u001b[0;36m<module>\u001b[0;34m\u001b[0m\n\u001b[1;32m      1\u001b[0m \u001b[0;31m#Note we can clearly get the value in the dictionary using dictionary[key].\u001b[0m\u001b[0;34m\u001b[0m\u001b[0;34m\u001b[0m\u001b[0;34m\u001b[0m\u001b[0m\n\u001b[1;32m      2\u001b[0m \u001b[0;31m# But if key doesn't exist. We will get an error. E.g -\u001b[0m\u001b[0;34m\u001b[0m\u001b[0;34m\u001b[0m\u001b[0;34m\u001b[0m\u001b[0m\n\u001b[0;32m----> 3\u001b[0;31m \u001b[0mprint\u001b[0m\u001b[0;34m(\u001b[0m\u001b[0mdictionary\u001b[0m\u001b[0;34m[\u001b[0m\u001b[0;36m1023\u001b[0m\u001b[0;34m]\u001b[0m\u001b[0;34m)\u001b[0m\u001b[0;34m\u001b[0m\u001b[0;34m\u001b[0m\u001b[0m\n\u001b[0m",
      "\u001b[0;31mKeyError\u001b[0m: 1023"
     ]
    }
   ],
   "source": [
    "#Note we can clearly get the value in the dictionary using dictionary[key]. \n",
    "# But if key doesn't exist. We will get an error. E.g - \n",
    "print(dictionary[1023])"
   ]
  },
  {
   "cell_type": "code",
   "execution_count": 72,
   "metadata": {},
   "outputs": [
    {
     "name": "stdout",
     "output_type": "stream",
     "text": [
      "NOT EXISTS\n",
      "100\n",
      "None\n"
     ]
    }
   ],
   "source": [
    "#Therefore to check if some key exists in the dictionary or not, we can use 2 method\n",
    "#Method 1:\n",
    "if 1023 in dictionary:\n",
    "    print(\"EXISTS\")\n",
    "else:\n",
    "    print(\"NOT EXISTS\")\n",
    "    \n",
    "#Instead of using dictionary[key] to get its value. Use the get function. It works in the same manner and gets us the key\n",
    "#But only thing different of it from above is that if key doesn't exists it doesn't show as error\n",
    "print(dictionary.get(\"Mango\"))\n",
    "print(dictionary.get(\"Mangoes\")) #It will return a string as \"None\" if the key doesn't exists"
   ]
  },
  {
   "cell_type": "code",
   "execution_count": 73,
   "metadata": {},
   "outputs": [
    {
     "name": "stdout",
     "output_type": "stream",
     "text": [
      "<class 'dict_keys'>\n",
      "dict_keys(['Mango', 'Apple', 'Orange', 100, 'Both are made for each other'])\n",
      "\n",
      "['Mango', 'Apple', 'Orange', 100, 'Both are made for each other']\n"
     ]
    }
   ],
   "source": [
    "#Now we can get all the values of keys and their corresponding values like this\n",
    "xlist = dictionary.keys()\n",
    "print(type(xlist))\n",
    "print(xlist)\n",
    "\n",
    "print()\n",
    "#We can even store all these key in a list\n",
    "xList = [no for no in dictionary.keys()]\n",
    "print(xList)"
   ]
  },
  {
   "cell_type": "code",
   "execution_count": 74,
   "metadata": {},
   "outputs": [
    {
     "name": "stdout",
     "output_type": "stream",
     "text": [
      "<class 'list'>\n",
      "[100, 85, 'It is tasty', [1, 2, 3], 'Kaash kabhi to ek ho jaaye']\n"
     ]
    }
   ],
   "source": [
    "#We can also get all the values in the dictionary\n",
    "newList = [no for no in dictionary.values()]\n",
    "print(type(newList))\n",
    "print(newList)"
   ]
  },
  {
   "cell_type": "code",
   "execution_count": 75,
   "metadata": {},
   "outputs": [
    {
     "name": "stdout",
     "output_type": "stream",
     "text": [
      "[dict_items([('Mango', 100), ('Apple', 85), ('Orange', 'It is tasty'), (100, [1, 2, 3]), ('Both are made for each other', 'Kaash kabhi to ek ho jaaye')])]\n",
      "\n",
      "[('Mango', 100), ('Apple', 85), ('Orange', 'It is tasty'), (100, [1, 2, 3]), ('Both are made for each other', 'Kaash kabhi to ek ho jaaye')]\n"
     ]
    }
   ],
   "source": [
    "#We can also convert each key,value pair in the form of list like this\n",
    "myList = [dictionary.items()]\n",
    "print(myList)\n",
    "\n",
    "\n",
    "print()\n",
    "myList = [x for x in dictionary.items()]\n",
    "print(myList)"
   ]
  },
  {
   "cell_type": "code",
   "execution_count": 77,
   "metadata": {},
   "outputs": [
    {
     "name": "stdout",
     "output_type": "stream",
     "text": [
      "{'Mango': 100, 'Apple': 85, 'Orange': 'It is tasty', 100: [1, 2, 3]}\n"
     ]
    }
   ],
   "source": [
    "del dictionary['Both are made for each other'] #This is the way to delete the key from a dictionry\n",
    "print(dictionary)"
   ]
  },
  {
   "cell_type": "code",
   "execution_count": 78,
   "metadata": {},
   "outputs": [
    {
     "name": "stdout",
     "output_type": "stream",
     "text": [
      "{'Mango': 100, 'Apple': 85, 'Orange': 'It is tasty', 100: [1, 2, 3], 'PineApple': 'Very Tast', 'Grapes': 10000}\n"
     ]
    }
   ],
   "source": [
    "#We can merge 2 dictionaries using update function\n",
    "dictionary2 = {\"PineApple\" : \"Very Tast\",\"Grapes\" : 10000}\n",
    "dictionary.update(dictionary2) #Changes will be dictionary and not in dictionary2\n",
    "print(dictionary)"
   ]
  },
  {
   "cell_type": "code",
   "execution_count": 79,
   "metadata": {},
   "outputs": [
    {
     "name": "stdout",
     "output_type": "stream",
     "text": [
      "{'Mango': 1, 'Apple': 2, 'Orange': 3}\n"
     ]
    }
   ],
   "source": [
    "list1 = [\"Mango\",\"Apple\",\"Orange\"]\n",
    "list2 = [1,2,3]\n",
    "#Now assume we have 2 list where in one list we have all the key and the other list has all the values\n",
    "#Corresponding to that key, then we can directly form a dictionary like this\n",
    "\n",
    "dictionary = dict(zip(list1,list2))\n",
    "print(dictionary)"
   ]
  },
  {
   "cell_type": "code",
   "execution_count": 119,
   "metadata": {},
   "outputs": [
    {
     "name": "stdout",
     "output_type": "stream",
     "text": [
      "3\n",
      "0\n"
     ]
    }
   ],
   "source": [
    "#We can clear all the values of the dictionary like this\n",
    "print(len(dictionary))\n",
    "\n",
    "dictionary.clear()\n",
    "print(len(dictionary))"
   ]
  },
  {
   "cell_type": "markdown",
   "metadata": {},
   "source": [
    "# Functions in Python"
   ]
  },
  {
   "cell_type": "code",
   "execution_count": 137,
   "metadata": {},
   "outputs": [
    {
     "name": "stdout",
     "output_type": "stream",
     "text": [
      "Hi!. My Name is Gaurish Anand\n",
      "Anddd ... I only Love Navdha\n"
     ]
    }
   ],
   "source": [
    "def myFunction():\n",
    "    print(\"Hi!. My Name is Gaurish Anand\")\n",
    "    print(\"Anddd ... I only Love Navdha\")\n",
    "    \n",
    "myFunction()"
   ]
  },
  {
   "cell_type": "code",
   "execution_count": 138,
   "metadata": {},
   "outputs": [
    {
     "name": "stdout",
     "output_type": "stream",
     "text": [
      "I scored 100 in Python\n",
      "My roll number is 55\n"
     ]
    }
   ],
   "source": [
    "#How to pass arguments to the function\n",
    "def myFunction(score,lang,rollNo):\n",
    "    print(\"I scored {} in {}\".format(score,lang))\n",
    "    print(\"My roll number is \" + str(rollNo))\n",
    "\n",
    "    \n",
    "myFunction(100,\"Python\",55)    "
   ]
  },
  {
   "cell_type": "code",
   "execution_count": 139,
   "metadata": {},
   "outputs": [
    {
     "name": "stdout",
     "output_type": "stream",
     "text": [
      "I scored 100 in Python\n",
      "My roll number is 55\n"
     ]
    }
   ],
   "source": [
    "#How to pass arguments in any order , if we don't remember how they are present in the function parameter\n",
    "myFunction(lang=\"Python\",rollNo = 55,score=100)"
   ]
  },
  {
   "cell_type": "code",
   "execution_count": 141,
   "metadata": {},
   "outputs": [
    {
     "name": "stdout",
     "output_type": "stream",
     "text": [
      "Roll Number 55 has scored 100\n",
      "Roll Number 49 has scored 75\n"
     ]
    }
   ],
   "source": [
    "#Now we would learn onHow to give default values inside a function\n",
    "def myFunction(rollNo, score = 75):\n",
    "    print(\"Roll Number {} has scored \".format(rollNo) + str(score))\n",
    "    \n",
    "myFunction(\"55\",100)\n",
    "myFunction(\"49\")"
   ]
  },
  {
   "cell_type": "code",
   "execution_count": null,
   "metadata": {},
   "outputs": [],
   "source": [
    "#Now consider a case when there are more than 1 default values inside a function. But you want to pass only one of\n",
    "#the default values"
   ]
  },
  {
   "cell_type": "code",
   "execution_count": 179,
   "metadata": {},
   "outputs": [
    {
     "name": "stdout",
     "output_type": "stream",
     "text": [
      "10 20 30 100 120 130\n",
      "30 20 10 100 120 130\n",
      "10 20 30 40 120 130\n",
      "\n",
      "10 20 30 40 120 50\n",
      "10 20 30 40 50 130\n"
     ]
    }
   ],
   "source": [
    "def myFunction(a,b,c,d=100,e=120,f=130):\n",
    "    print(a,b,c,d,e,f)\n",
    "    return\n",
    "\n",
    "myFunction(10,20,30)\n",
    "myFunction(c = 10,b = 20,a = 30)\n",
    "myFunction(10,20,30,40)\n",
    "#Output of above 2 cases is very obvious. #Now consider for the below 2 cases -\n",
    "\n",
    "print()\n",
    "\n",
    "# We know for the above function, we have to atleast pass 3 arguments (for varibles which doesn't have \n",
    "# any Default Values). For default arguments, we can either pass explicily for those variables only which \n",
    "# we want to pass. Like conside this example\n",
    "myFunction(10,20,30,40,f = 50)\n",
    "myFunction(10,20,30,40,e = 50)"
   ]
  },
  {
   "cell_type": "code",
   "execution_count": 181,
   "metadata": {},
   "outputs": [
    {
     "name": "stdout",
     "output_type": "stream",
     "text": [
      "<class 'tuple'>\n",
      "(1, 2, 4, 'Hello', 'Gaurish', 18.2)\n"
     ]
    }
   ],
   "source": [
    "#Note *Here doesn't represent a pointer\n",
    "#There is also one way , where we can pass infinitely many elements to function using *args\n",
    "#What this args do is that , it gives us a tuple with all the values passed in the argument\n",
    "def myFunction(*args):\n",
    "    print(type(args))\n",
    "    print(args)\n",
    "\n",
    "    \n",
    "myFunction(1,2,4,\"Hello\",\"Gaurish\",18.2)    "
   ]
  },
  {
   "cell_type": "code",
   "execution_count": 110,
   "metadata": {},
   "outputs": [
    {
     "name": "stdout",
     "output_type": "stream",
     "text": [
      "<class 'tuple'>\n",
      "1 2 4 Hello Gaurish 18.2\n"
     ]
    }
   ],
   "source": [
    "#Note args is tuple but if we use *args, then it would convert tuple back to normal values and not in the form of tuple\n",
    "def myFunction(*args):\n",
    "    print(type(args))#Tuple\n",
    "    print(*args)#Therefore *args seperat the arguments. How is this useful?\n",
    "\n",
    "myFunction(1,2,4,\"Hello\",\"Gaurish\",18.2)  "
   ]
  },
  {
   "cell_type": "code",
   "execution_count": 113,
   "metadata": {},
   "outputs": [
    {
     "name": "stdout",
     "output_type": "stream",
     "text": [
      "3 Hello 2.67\n"
     ]
    }
   ],
   "source": [
    "#We can use the above property of tuple splitting to form a tuple and split in multiple arguments in function\n",
    "def myFunction(a,b,c):\n",
    "    print(a,b,c)\n",
    "\n",
    "myTuple = tuple([3,'Hello',2.67])    \n",
    "myFunction(*myTuple)  \n",
    "#myFunction(myTuple) -> This is an error as we are passing only 1 argument which would be taken by a i.e 'a' would be\n",
    "#a tuple but in case 1, we are splitting all the arguments of tuple seperaterly and then passing. Therefore tuple size\n",
    "#should be equal to number of arguments in myFunction. Otherwise it would be an error"
   ]
  },
  {
   "cell_type": "code",
   "execution_count": null,
   "metadata": {},
   "outputs": [],
   "source": []
  },
  {
   "cell_type": "code",
   "execution_count": 3,
   "metadata": {},
   "outputs": [
    {
     "name": "stdout",
     "output_type": "stream",
     "text": [
      "Function Call 1 \n",
      "1\n",
      "Hello\n",
      "3.4\n",
      "()\n",
      "\n",
      "Function Call 2 \n",
      "1\n",
      "Hello\n",
      "3.4\n",
      "(684, 4992, 39, 'My name is Gaurish')\n"
     ]
    }
   ],
   "source": [
    "#Therefore to invoke this function , we atleast need to pass 3 arguments and all \n",
    "#the rest arguments would be taken by args and put in a tuple\n",
    "def myFunction(a,b,c,*args):\n",
    "    print(a)\n",
    "    print(b)\n",
    "    print(c)\n",
    "    print(args)\n",
    "\n",
    "print(\"Function Call 1 \")\n",
    "myFunction(1,\"Hello\",3.4) #It will print an empty tuple as no arguments passed for the args\n",
    "\n",
    "print()\n",
    "\n",
    "print(\"Function Call 2 \")\n",
    "myFunction(1,\"Hello\",3.4,684,4992,39,'My name is Gaurish')"
   ]
  },
  {
   "cell_type": "code",
   "execution_count": 7,
   "metadata": {},
   "outputs": [
    {
     "ename": "TypeError",
     "evalue": "myFunction() missing 1 required keyword-only argument: 'd'",
     "output_type": "error",
     "traceback": [
      "\u001b[0;31m---------------------------------------------------------------------------\u001b[0m",
      "\u001b[0;31mTypeError\u001b[0m                                 Traceback (most recent call last)",
      "\u001b[0;32m<ipython-input-7-3684b941ebfb>\u001b[0m in \u001b[0;36m<module>\u001b[0;34m\u001b[0m\n\u001b[1;32m      7\u001b[0m     \u001b[0mprint\u001b[0m\u001b[0;34m(\u001b[0m\u001b[0md\u001b[0m\u001b[0;34m)\u001b[0m\u001b[0;34m\u001b[0m\u001b[0;34m\u001b[0m\u001b[0m\n\u001b[1;32m      8\u001b[0m \u001b[0;34m\u001b[0m\u001b[0m\n\u001b[0;32m----> 9\u001b[0;31m \u001b[0mmyFunction\u001b[0m\u001b[0;34m(\u001b[0m\u001b[0;36m1\u001b[0m\u001b[0;34m,\u001b[0m\u001b[0;36m2\u001b[0m\u001b[0;34m,\u001b[0m\u001b[0;36m3\u001b[0m\u001b[0;34m,\u001b[0m\u001b[0;36m4\u001b[0m\u001b[0;34m,\u001b[0m\u001b[0;36m5\u001b[0m\u001b[0;34m)\u001b[0m    \u001b[0;31m#This would be an error as no value for d is passed as args take all\u001b[0m\u001b[0;34m\u001b[0m\u001b[0;34m\u001b[0m\u001b[0m\n\u001b[0m\u001b[1;32m     10\u001b[0m \u001b[0;31m#the values after 3rd paramter as it can take infinite values. But if we want d should take a certain\u001b[0m\u001b[0;34m\u001b[0m\u001b[0;34m\u001b[0m\u001b[0;34m\u001b[0m\u001b[0m\n\u001b[1;32m     11\u001b[0m \u001b[0;31m#value i.e supply of arguments to args should stop. THen you may do the thing done in the\u001b[0m\u001b[0;34m\u001b[0m\u001b[0;34m\u001b[0m\u001b[0;34m\u001b[0m\u001b[0m\n",
      "\u001b[0;31mTypeError\u001b[0m: myFunction() missing 1 required keyword-only argument: 'd'"
     ]
    }
   ],
   "source": [
    "#Note a variable with no default value can't come after args in a function i.e\n",
    "def myFunction(a,b,c,*args,d):\n",
    "    print(a)\n",
    "    print(b)\n",
    "    print(c)\n",
    "    print(args)\n",
    "    print(d)\n",
    "\n",
    "myFunction(1,2,3,4,5)    #This would be an error as no value for d is passed as args take all\n",
    "#the values after 3rd paramter as it can take infinite values. But if we want d should take a certain\n",
    "#value i.e supply of arguments to args should stop. THen you may do the thing done in the \n",
    "#next block"
   ]
  },
  {
   "cell_type": "code",
   "execution_count": 10,
   "metadata": {},
   "outputs": [
    {
     "name": "stdout",
     "output_type": "stream",
     "text": [
      "1\n",
      "2\n",
      "3\n",
      "<class 'tuple'> (4,)\n",
      "5\n"
     ]
    }
   ],
   "source": [
    "def myFunction(a,b,c,*args,d):\n",
    "    print(a)\n",
    "    print(b)\n",
    "    print(c)\n",
    "    print(type(args),args)\n",
    "    print(d)\n",
    "\n",
    "myFunction(1,2,3,4,d = 5) "
   ]
  },
  {
   "cell_type": "code",
   "execution_count": 11,
   "metadata": {},
   "outputs": [
    {
     "name": "stdout",
     "output_type": "stream",
     "text": [
      "1 2 (3, 4) 10 20\n",
      "1 2 (3,) 10 -100\n",
      "1 2 () 10 20\n"
     ]
    }
   ],
   "source": [
    "#Obviously all the default valued arguments should be always on right\n",
    "def myFunction(a,b,*args,c=10,d=20):\n",
    "    print(a,b,args,c,d)\n",
    "    \n",
    "\n",
    "myFunction(1,2,3,4)\n",
    "myFunction(1,2,3,d = -100)\n",
    "myFunction(1,2,c = 10)"
   ]
  },
  {
   "cell_type": "code",
   "execution_count": 115,
   "metadata": {},
   "outputs": [
    {
     "name": "stdout",
     "output_type": "stream",
     "text": [
      "{'Gaurish': 100, 'Shivam': 200, 'Navdha': 'Is Pure Love'}\n",
      "<class 'dict'>\n"
     ]
    }
   ],
   "source": [
    "#Again here ** is not a double pointer. Here **kwargs help in accepting the parameters\n",
    "#in the form of dictionary. Note - We can use this, when we want to pass multiple paramters\n",
    "#to a function and we don't know the name of the function\n",
    "def myFunction(**kwargs):\n",
    "    print(kwargs)\n",
    "    print(type(kwargs))\n",
    "    \n",
    "myFunction(Gaurish=100, Shivam=200, Navdha='Is Pure Love')    "
   ]
  },
  {
   "cell_type": "code",
   "execution_count": 23,
   "metadata": {},
   "outputs": [
    {
     "name": "stdout",
     "output_type": "stream",
     "text": [
      "1 2     {}\n",
      "1 2     {'Gaurish': 100, 'Shivam': 200}\n"
     ]
    }
   ],
   "source": [
    "def myFunction(a,b,**kwargs):\n",
    "    print(a,b,'   ',kwargs)\n",
    "    \n",
    "myFunction(1,2)\n",
    "myFunction(1,2,Gaurish=100, Shivam=200)"
   ]
  },
  {
   "cell_type": "code",
   "execution_count": 28,
   "metadata": {},
   "outputs": [
    {
     "name": "stdout",
     "output_type": "stream",
     "text": [
      "1 2     ()     {}\n",
      "1 2     (100, 600)     {'Gaurish': 100, 'Shivam': 200}\n"
     ]
    }
   ],
   "source": [
    "def myFunction(a,b,*args,**kwargs):\n",
    "    print(a,b,'   ',args,'   ',kwargs)\n",
    "    \n",
    "myFunction(1,2)\n",
    "myFunction(1,2,100,600,Gaurish=100, Shivam=200)"
   ]
  },
  {
   "cell_type": "code",
   "execution_count": 44,
   "metadata": {},
   "outputs": [
    {
     "name": "stdout",
     "output_type": "stream",
     "text": [
      "1 2     ()     10 20     {}\n",
      "1 2     ()     10 20     {'Gaurish': 100, 'Shivam': 200}\n",
      "1 2     (100, 600)     10 20     {'Gaurish': 100, 'Shivam': 200}\n",
      "1 2     (100, 600)     -100 20     {'Gaurish': 100, 'Shivam': 200}\n"
     ]
    }
   ],
   "source": [
    "def myFunction(a,b,*args,c=10,d = 20,**kwargs):\n",
    "    print(a,b,'   ',args,'   ',c,d,'   ',kwargs)\n",
    "    \n",
    "    \n",
    "myFunction(1,2)      \n",
    "myFunction(1,2,Gaurish=100, Shivam=200)    \n",
    "myFunction(1,2,100,600,Gaurish=100, Shivam=200)\n",
    "myFunction(1,2,100,600,c = -100,Gaurish=100, Shivam=200)"
   ]
  },
  {
   "cell_type": "markdown",
   "metadata": {},
   "source": [
    "### Returning a value from function"
   ]
  },
  {
   "cell_type": "code",
   "execution_count": 143,
   "metadata": {},
   "outputs": [
    {
     "name": "stdout",
     "output_type": "stream",
     "text": [
      "120\n"
     ]
    }
   ],
   "source": [
    "#Now we would learn , on How to return a value from a function\n",
    "def findFactorial(n):\n",
    "    value = 1;\n",
    "    for i in range(1,n+1):\n",
    "        value = value*i\n",
    "    return value\n",
    "\n",
    "print(findFactorial(5))"
   ]
  },
  {
   "cell_type": "code",
   "execution_count": 161,
   "metadata": {},
   "outputs": [
    {
     "name": "stdout",
     "output_type": "stream",
     "text": [
      "Outer Function Entry\n",
      "Outer Function Body\n",
      "inner Function\n",
      "Outer Function Exit\n"
     ]
    }
   ],
   "source": [
    "#Local Functions -  We can also define a function inside another function\n",
    "def outerFunction():\n",
    "    print(\"Outer Function Entry\")\n",
    "    def innerFunction():\n",
    "        print(\"inner Function\")    \n",
    "    print(\"Outer Function Body\")   \n",
    "    innerFunction()\n",
    "    print(\"Outer Function Exit\")  \n",
    "\n",
    "outerFunction()    "
   ]
  },
  {
   "cell_type": "markdown",
   "metadata": {},
   "source": [
    "### Local And Global Variables"
   ]
  },
  {
   "cell_type": "code",
   "execution_count": 149,
   "metadata": {},
   "outputs": [
    {
     "name": "stdout",
     "output_type": "stream",
     "text": [
      "50\n",
      "50\n"
     ]
    }
   ],
   "source": [
    "x = 50 # Varibale global to myFunction\n",
    "def myFunction():\n",
    "    print(x)\n",
    "    \n",
    "    \n",
    "myFunction()\n",
    "print(x)"
   ]
  },
  {
   "cell_type": "code",
   "execution_count": 150,
   "metadata": {},
   "outputs": [
    {
     "name": "stdout",
     "output_type": "stream",
     "text": [
      "20\n",
      "50\n"
     ]
    }
   ],
   "source": [
    "x = 50 # Varibale global to myFunction\n",
    "def myFunction():\n",
    "    x = 20 \n",
    "    print(x) #Preference would be given to local variable\n",
    "    \n",
    "    \n",
    "myFunction() \n",
    "print(x)"
   ]
  },
  {
   "cell_type": "code",
   "execution_count": 152,
   "metadata": {},
   "outputs": [
    {
     "ename": "UnboundLocalError",
     "evalue": "local variable 'x' referenced before assignment",
     "output_type": "error",
     "traceback": [
      "\u001b[0;31m---------------------------------------------------------------------------\u001b[0m",
      "\u001b[0;31mUnboundLocalError\u001b[0m                         Traceback (most recent call last)",
      "\u001b[0;32m<ipython-input-152-89ab19de5617>\u001b[0m in \u001b[0;36m<module>\u001b[0;34m\u001b[0m\n\u001b[1;32m      4\u001b[0m     \u001b[0mprint\u001b[0m\u001b[0;34m(\u001b[0m\u001b[0mx\u001b[0m\u001b[0;34m)\u001b[0m\u001b[0;34m\u001b[0m\u001b[0;34m\u001b[0m\u001b[0m\n\u001b[1;32m      5\u001b[0m \u001b[0;34m\u001b[0m\u001b[0m\n\u001b[0;32m----> 6\u001b[0;31m \u001b[0mmyFunction\u001b[0m\u001b[0;34m(\u001b[0m\u001b[0;34m)\u001b[0m\u001b[0;34m\u001b[0m\u001b[0;34m\u001b[0m\u001b[0m\n\u001b[0m",
      "\u001b[0;32m<ipython-input-152-89ab19de5617>\u001b[0m in \u001b[0;36mmyFunction\u001b[0;34m()\u001b[0m\n\u001b[1;32m      1\u001b[0m \u001b[0mx\u001b[0m \u001b[0;34m=\u001b[0m \u001b[0;36m50\u001b[0m\u001b[0;34m\u001b[0m\u001b[0;34m\u001b[0m\u001b[0m\n\u001b[1;32m      2\u001b[0m \u001b[0;32mdef\u001b[0m \u001b[0mmyFunction\u001b[0m\u001b[0;34m(\u001b[0m\u001b[0;34m)\u001b[0m\u001b[0;34m:\u001b[0m\u001b[0;34m\u001b[0m\u001b[0;34m\u001b[0m\u001b[0m\n\u001b[0;32m----> 3\u001b[0;31m     \u001b[0mx\u001b[0m \u001b[0;34m=\u001b[0m \u001b[0mx\u001b[0m \u001b[0;34m+\u001b[0m \u001b[0;36m20\u001b[0m\u001b[0;34m\u001b[0m\u001b[0;34m\u001b[0m\u001b[0m\n\u001b[0m\u001b[1;32m      4\u001b[0m     \u001b[0mprint\u001b[0m\u001b[0;34m(\u001b[0m\u001b[0mx\u001b[0m\u001b[0;34m)\u001b[0m\u001b[0;34m\u001b[0m\u001b[0;34m\u001b[0m\u001b[0m\n\u001b[1;32m      5\u001b[0m \u001b[0;34m\u001b[0m\u001b[0m\n",
      "\u001b[0;31mUnboundLocalError\u001b[0m: local variable 'x' referenced before assignment"
     ]
    }
   ],
   "source": [
    "x = 50\n",
    "def myFunction():\n",
    "    x = x + 20\n",
    "    print(x) \n",
    "    \n",
    "myFunction() "
   ]
  },
  {
   "cell_type": "code",
   "execution_count": 157,
   "metadata": {},
   "outputs": [
    {
     "name": "stdout",
     "output_type": "stream",
     "text": [
      "70\n",
      "70\n"
     ]
    }
   ],
   "source": [
    "#Note -  We can't make a change in the global variable, unless we specifically mention it. eg like this\n",
    "x = 50\n",
    "def myFunction():\n",
    "    global x\n",
    "    x = x + 20\n",
    "    print(x) \n",
    "    \n",
    "myFunction() \n",
    "print(x)"
   ]
  },
  {
   "cell_type": "code",
   "execution_count": 165,
   "metadata": {},
   "outputs": [
    {
     "name": "stdout",
     "output_type": "stream",
     "text": [
      "Outer Function x =  70\n",
      "Inner Function x =  70\n"
     ]
    }
   ],
   "source": [
    "x = 70 \n",
    "def outerFunction():\n",
    "    print(\"Outer Function x = \",x)\n",
    "    def innerFunction():\n",
    "        print(\"Inner Function x = \",x)    \n",
    "    innerFunction()\n",
    "\n",
    "outerFunction() "
   ]
  },
  {
   "cell_type": "code",
   "execution_count": 174,
   "metadata": {},
   "outputs": [
    {
     "name": "stdout",
     "output_type": "stream",
     "text": [
      "Outer Function x =  80\n",
      "Inner Function x =  80\n"
     ]
    }
   ],
   "source": [
    "x = 70 \n",
    "def outerFunction():\n",
    "    x = 80\n",
    "    print(\"Outer Function x = \",x)\n",
    "    def innerFunction():\n",
    "        print(\"Inner Function x = \",x)    \n",
    "    innerFunction()\n",
    "\n",
    "outerFunction() "
   ]
  },
  {
   "cell_type": "code",
   "execution_count": 176,
   "metadata": {},
   "outputs": [
    {
     "name": "stdout",
     "output_type": "stream",
     "text": [
      "Outer Function x =  80\n",
      "Inner Function x =  180\n",
      "70\n"
     ]
    }
   ],
   "source": [
    "#Similary if in the above ,if inner function tries to change the x which is local to outerFunction but not to inner \n",
    "#function, then it would be show an error. The variable which is local to outer function is called as nonlocal. We can\n",
    "#change it like this - \n",
    "x = 70 \n",
    "def outerFunction():\n",
    "    x = 80\n",
    "    print(\"Outer Function x = \",x)\n",
    "    def innerFunction():\n",
    "        nonlocal x\n",
    "        x = x + 100\n",
    "        print(\"Inner Function x = \",x)    \n",
    "    innerFunction()\n",
    "\n",
    "outerFunction() \n",
    "print(x)"
   ]
  },
  {
   "cell_type": "code",
   "execution_count": 172,
   "metadata": {},
   "outputs": [
    {
     "name": "stdout",
     "output_type": "stream",
     "text": [
      "Outer Function x =  80\n",
      "Inner Function x =  90\n"
     ]
    }
   ],
   "source": [
    "x = 70 #This variable is global to every function, Be it a local function \n",
    "def outerFunction():\n",
    "    x = 80\n",
    "    print(\"Outer Function x = \",x)\n",
    "    def innerFunction():\n",
    "        global x\n",
    "        x = x + 20\n",
    "        print(\"Inner Function x = \",x)    \n",
    "    innerFunction()\n",
    "\n",
    "outerFunction() "
   ]
  },
  {
   "cell_type": "code",
   "execution_count": 49,
   "metadata": {},
   "outputs": [
    {
     "name": "stdout",
     "output_type": "stream",
     "text": [
      "0.5\n",
      "Error\n"
     ]
    }
   ],
   "source": [
    "#Try except in python\n",
    "def div(a,b):\n",
    "    try:\n",
    "        print(a/b)\n",
    "    except:\n",
    "        print('Error')\n",
    "\n",
    "div(10,20)        \n",
    "div(10,0)\n",
    "#Therefore we can clearly see that finally block would always be executed if there is error or \n",
    "#no error after the try catch block"
   ]
  },
  {
   "cell_type": "code",
   "execution_count": 52,
   "metadata": {},
   "outputs": [
    {
     "name": "stdout",
     "output_type": "stream",
     "text": [
      "0.5 Finally\n",
      "Error Finally\n"
     ]
    }
   ],
   "source": [
    "def div(a,b):\n",
    "    try:\n",
    "        print(a/b,end = \" \")\n",
    "    except:\n",
    "        print('Error',end = \" \")\n",
    "    finally:\n",
    "        print('Finally')\n",
    "\n",
    "div(10,20)        \n",
    "div(10,0)\n",
    "#Therefore we can clearly see that finally block would always be executed if there is error or \n",
    "#no error after the try catch block        "
   ]
  },
  {
   "cell_type": "code",
   "execution_count": 53,
   "metadata": {},
   "outputs": [
    {
     "name": "stdout",
     "output_type": "stream",
     "text": [
      "20\n",
      "Error 20\n"
     ]
    }
   ],
   "source": [
    "#Also for example, if we return somethin from try block or catch block, and at the same time,\n",
    "# We also return something  from final block. Since the last block to be executed is finall#\n",
    "#Therefore value returned from final block would be considered\n",
    "def div(a,b):\n",
    "    try:\n",
    "        return a/b\n",
    "    except:\n",
    "        print('Error',end = \" \")\n",
    "    finally:\n",
    "        return 20\n",
    "  \n",
    "print(div(10,20))\n",
    "print(div(10,0))"
   ]
  },
  {
   "cell_type": "markdown",
   "metadata": {},
   "source": [
    "## Lambda Functions -  Basically used to write one line Functions in a more easy and readable format"
   ]
  },
  {
   "cell_type": "code",
   "execution_count": 72,
   "metadata": {},
   "outputs": [
    {
     "ename": "SyntaxError",
     "evalue": "positional argument follows keyword argument (<ipython-input-72-90c86b62891e>, line 9)",
     "output_type": "error",
     "traceback": [
      "\u001b[0;36m  File \u001b[0;32m\"<ipython-input-72-90c86b62891e>\"\u001b[0;36m, line \u001b[0;32m9\u001b[0m\n\u001b[0;31m    print(add = 5,8)\u001b[0m\n\u001b[0m                 ^\u001b[0m\n\u001b[0;31mSyntaxError\u001b[0m\u001b[0;31m:\u001b[0m positional argument follows keyword argument\n"
     ]
    }
   ],
   "source": [
    "def add(a,b):\n",
    "    return a+b\n",
    "print(type(add))\n",
    "print()\n",
    "\n",
    "#Basically above is a one line function which can be written in more simple readable format using lambda. Eg - \n",
    "add = lambda a,b : a+b\n",
    "\n",
    "print(add(5,8))\n",
    "print(type(add))"
   ]
  },
  {
   "cell_type": "code",
   "execution_count": null,
   "metadata": {},
   "outputs": [],
   "source": [
    "#One thing to wonder is when we defined add function above, how we are able to define the add function again?\n",
    "#As discussed be it a function, variable, tuple,list,etc ---> They all are objects and in python we can change the \n",
    "#data type of any object. Therefore we can give another value to an object in python"
   ]
  },
  {
   "cell_type": "code",
   "execution_count": 79,
   "metadata": {},
   "outputs": [
    {
     "name": "stdout",
     "output_type": "stream",
     "text": [
      "[1, 2, 3, 5, 7, 8]\n",
      "[8, 7, 5, 3, 2, 1]\n",
      "[[0, 1, 2], [1, 2, 3], [10, -1, 9, 99]]\n"
     ]
    }
   ],
   "source": [
    "#Lambda functions are basically useful is sorting \n",
    "myList = [3,1,5,2,7,8]\n",
    "def key(x):\n",
    "    return x[1]\n",
    "\n",
    "myList.sort()\n",
    "print(myList)\n",
    "\n",
    "myList.sort(reverse = True)\n",
    "print(myList)"
   ]
  },
  {
   "cell_type": "code",
   "execution_count": 83,
   "metadata": {},
   "outputs": [
    {
     "name": "stdout",
     "output_type": "stream",
     "text": [
      "[[0, 1, 2], [1, 2, 3], [10, -1, 9, 99]]\n",
      "[[10, -1, 9, 99], [0, 1, 2], [1, 2, 3]]\n"
     ]
    }
   ],
   "source": [
    "#Now consider a list of list\n",
    "myList = [ [1,2,3] , [0,1,2] , [10,-1,9,99] ]\n",
    "myList.sort()#It will be default sort the list in terms of 1st numbers in the list i.e number at 0th index of each list\n",
    "print(myList)\n",
    "\n",
    "#But what if we want to sort it, in terms of another index like 2,3. Then we need to pass another function for comparison\n",
    "#Now we would learn sorting in terms of 1st index\n",
    "def comparison(l):\n",
    "    return l[1]\n",
    "\n",
    "myList.sort(key = comparison)\n",
    "print(myList)"
   ]
  },
  {
   "cell_type": "code",
   "execution_count": 90,
   "metadata": {},
   "outputs": [
    {
     "name": "stdout",
     "output_type": "stream",
     "text": [
      "[[10, -1, 9, 99], [0, 1, 2], [1, 2, 3]]\n"
     ]
    },
    {
     "data": {
      "text/plain": [
       "[[0, 1, 2], [1, 2, 3], [10, -1, 9, 99]]"
      ]
     },
     "execution_count": 90,
     "metadata": {},
     "output_type": "execute_result"
    }
   ],
   "source": [
    "#We could have performed above using lambda function too which would reduce the code length\n",
    "comparison = lambda l:l[1]\n",
    "myList.sort(key = comparison) \n",
    "print(myList)\n",
    "\n",
    "#Basically we can also use sorted function to sort the list. It is the same function with different syntax\n",
    "sorted(myList,key = lambda l : l[2])"
   ]
  },
  {
   "cell_type": "markdown",
   "metadata": {},
   "source": [
    "# Now we Learn about Decorators in Python"
   ]
  },
  {
   "cell_type": "code",
   "execution_count": 93,
   "metadata": {},
   "outputs": [],
   "source": [
    "#Let there be a site where we these users registered. Let user hold username,dictionary for those users\n",
    "user = {\n",
    "    \"gaurishanand13\":\"perfectgirls.net\"\n",
    "    ,\"doctor@gmail.com\":\"doctor\"\n",
    "    ,\"clinic@gmail.com\":\"clinic\"\n",
    "}\n",
    "\n",
    "#Now we have 2 functions like this below. But they would performed only for those users who is registed with the site\n",
    "def add(username,password,a,b):\n",
    "    if username in user and user[username]==password:\n",
    "        print(a+b)\n",
    "    else:\n",
    "        print(\"Not Authenicated\")\n",
    "\n",
    "def divide(username,password,a,b):\n",
    "    if username in user and user[username]==password:\n",
    "        print(a/b)\n",
    "    else:\n",
    "        print(\"Not Authenicated\")        "
   ]
  },
  {
   "cell_type": "code",
   "execution_count": 95,
   "metadata": {},
   "outputs": [
    {
     "name": "stdout",
     "output_type": "stream",
     "text": [
      "7\n",
      "Not Authenicated\n"
     ]
    }
   ],
   "source": [
    "add(\"gaurishanand13\",\"perfectgirls.net\",2,5)\n",
    "divide(\"gaurishanand1999\",\"abc\",10,20)"
   ]
  },
  {
   "cell_type": "code",
   "execution_count": 102,
   "metadata": {},
   "outputs": [
    {
     "name": "stdout",
     "output_type": "stream",
     "text": [
      "<class 'function'>\n",
      "35\n"
     ]
    }
   ],
   "source": [
    "#Cleary Above we had only 2 functions, so it looked not very obvious. But if we would be having many function like this \n",
    "#in a program which would first check if user exist or not. Then we would have to write that if condition line again \n",
    "#and again i.e same code will be written multiple times -> hence making our code long and not good to read. \n",
    "#Above can be done easily by passing a function to checker function.\n",
    "\n",
    "#Since we know that all thing in python are objects. Be it a function. Therefore we can pass a function to another \n",
    "#function arguments\n",
    "def loginRequired(myFunction) : \n",
    "    def checkExistsOrNot(username,password,*args,**kwargs):\n",
    "        if username in user and user[username]==password:\n",
    "            #If user exists, obviously we can call this myFunction. \n",
    "            myFunction(*args,**kwargs)\n",
    "        else:\n",
    "            #If user doesn't exists, obviously we can't call this function\n",
    "            print('Not Authenicated')\n",
    "            \n",
    "    return checkExistsOrNot\n",
    "    \n",
    "def add(a,b):\n",
    "    print(a+b)\n",
    "\n",
    "    \n",
    "def user_authenticated_add(username,password,a,b):\n",
    "    returnedFunction = loginRequired(add)\n",
    "    print(type(returnedFunction))\n",
    "    returnedFunction(username,password,a,b)\n",
    "    \n",
    "user_authenticated_add(\"gaurishanand13\",\"perfectgirls.net\",12,23)"
   ]
  },
  {
   "cell_type": "code",
   "execution_count": 106,
   "metadata": {},
   "outputs": [
    {
     "name": "stdout",
     "output_type": "stream",
     "text": [
      "35\n"
     ]
    }
   ],
   "source": [
    "#We can look the above code like this given below.\n",
    "def loginRequired(myFunction) : \n",
    "    def checkExistsOrNot(username,password,*args,**kwargs):\n",
    "        if username in user and user[username]==password:\n",
    "            myFunction(*args,**kwargs) #Therefore all the function paramter passed would be seperated from tuple and passed to original function when we pass *args\n",
    "        else:\n",
    "            print('Not Authenicated')\n",
    "            \n",
    "    return checkExistsOrNot\n",
    "    \n",
    "    \n",
    "    \n",
    "def add(a,b):\n",
    "    print(a+b)\n",
    "\n",
    "    \n",
    "user_authenticated_add_function = loginRequired(add)\n",
    "\n",
    "\n",
    "user_authenticated_add_function(\"gaurishanand13\",\"perfectgirls.net\",12,23)"
   ]
  },
  {
   "cell_type": "code",
   "execution_count": 107,
   "metadata": {},
   "outputs": [
    {
     "name": "stdout",
     "output_type": "stream",
     "text": [
      "35\n",
      "Not Authenicated\n"
     ]
    }
   ],
   "source": [
    "#Instead of doing above, we can even make the code more smaller by using decorators\n",
    "def loginRequired(myFunction) : \n",
    "    def checkExistsOrNot(username,password,*args,**kwargs):\n",
    "        if username in user and user[username]==password:\n",
    "            myFunction(*args,**kwargs)\n",
    "        else:\n",
    "            print('Not Authenicated')\n",
    "            \n",
    "    return checkExistsOrNot\n",
    "\n",
    "@loginRequired\n",
    "def add(a,b):\n",
    "    print(a+b)\n",
    "    \n",
    "add(\"gaurishanand13\",\"perfectgirls.net\",12,23)   \n",
    "add(\"gaurishanand1344\",\"perfectgirls.net\",12,23)   "
   ]
  },
  {
   "cell_type": "code",
   "execution_count": null,
   "metadata": {},
   "outputs": [],
   "source": []
  }
 ],
 "metadata": {
  "kernelspec": {
   "display_name": "Python 3",
   "language": "python",
   "name": "python3"
  },
  "language_info": {
   "codemirror_mode": {
    "name": "ipython",
    "version": 3
   },
   "file_extension": ".py",
   "mimetype": "text/x-python",
   "name": "python",
   "nbconvert_exporter": "python",
   "pygments_lexer": "ipython3",
   "version": "3.7.6"
  }
 },
 "nbformat": 4,
 "nbformat_minor": 4
}
