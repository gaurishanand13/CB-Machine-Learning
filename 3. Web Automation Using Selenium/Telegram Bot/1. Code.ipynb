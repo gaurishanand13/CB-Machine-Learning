{
 "cells": [
  {
   "cell_type": "raw",
   "metadata": {},
   "source": [
    "First install Telegram bot for your desktop from here - \"https://macos.telegram.org/\"\n",
    "I could have test this bot even on my Phone , But there was no space. Therefore i have installed it for my desktop.\n",
    "\n",
    "Step 1) Register your bot on Telegram. Telegram have special features which can easily integrate the bot.\n",
    "Here are the pictures on how to do that -\n"
   ]
  },
  {
   "cell_type": "markdown",
   "metadata": {},
   "source": [
    "<img src='RegisteringBot1.png'>\n",
    "<img src='RegisteringBot2.png'>"
   ]
  },
  {
   "cell_type": "raw",
   "metadata": {},
   "source": [
    "Bots are Third-Party applications that run inside the Telegram. Users can interact with bots by sending them some messages , commands and inline requests. We control our bots using HTTPS requests to Telegram Bot API.\n",
    "\n",
    "Telegram Bots are special accounts that do not require an additional phone to set up. These accouts serve as an interface for code running somewhere on your server."
   ]
  },
  {
   "cell_type": "code",
   "execution_count": 3,
   "metadata": {},
   "outputs": [],
   "source": [
    "#It is the token to access our Bot programatically by making request to the Bot API\n",
    "token = \"1101626318:AAGtRBJTK_TEyNJNKXfbSVTlf_vQTtIVFlY\"  "
   ]
  },
  {
   "cell_type": "markdown",
   "metadata": {},
   "source": [
    "# Setting up the Project"
   ]
  },
  {
   "cell_type": "markdown",
   "metadata": {},
   "source": [
    "### Setup a python Virtual Environment"
   ]
  },
  {
   "cell_type": "raw",
   "metadata": {},
   "source": [
    "A virtual environment is a tool that helps to keep dependencies required by different projects separate by creating isolated python virtual environments for them. \n",
    "\n",
    "For eg - A python virtual environment is used when we want to use different versions of 3rd party dependencies which are already installed on our system. Eg - we may want to use 2.7 version of openCV instead of openCV(3.0). Therefore instead of installing the older version and installing this version , we create a python virtual environment which will have a seperate set of dependencies(version may be different too). "
   ]
  },
  {
   "cell_type": "markdown",
   "metadata": {},
   "source": [
    "##### Follow these steps to set up the python virtual environment."
   ]
  },
  {
   "cell_type": "raw",
   "metadata": {},
   "source": [
    "Run following on terminal - \n",
    "\n",
    "1) python -m venv project_name\n",
    "After running above command, a folder named project_name will get created in your project folder. \n",
    "\n",
    "2) source project_name/bin/activate\n",
    "After that we activated the virtual environment by running the above command"
   ]
  },
  {
   "cell_type": "markdown",
   "metadata": {},
   "source": [
    "Note -  I have also installed the telegram-bot dependency which is the standard 3rd party Libriary which makes our \n",
    "Dealing with the bot Smooth. Here is the quick Code\n",
    "<img src='settingUpVirtualEnvironment.png'>"
   ]
  },
  {
   "cell_type": "markdown",
   "metadata": {},
   "source": [
    "##### Note if you want to see some basics of telegram Bot i.e what things an object of a telegramBot module has. Refer to this\n",
    "https://python-telegram-bot.readthedocs.io/en/stable/"
   ]
  },
  {
   "cell_type": "markdown",
   "metadata": {},
   "source": [
    "## First Creating an Echo Bot"
   ]
  },
  {
   "cell_type": "code",
   "execution_count": null,
   "metadata": {},
   "outputs": [],
   "source": [
    "\"\"\"\n",
    "Note our first code which was written was using polling , in which whenever a bot receives a message/command. Then it\n",
    "will pass the update to our polling program which will handle it accordingly.  But this will work only if our polling\n",
    "program is running what if our polling program is not running on our system?\n",
    "\n",
    "Then in that case we should handle it in the other way. Instead of passing the update to a polling function , we should\n",
    "pass this update to a some CallBack Url, which when receives some update from the BOT, it will has the code to act \n",
    "according to it. Since this time we will be deploy our callback url , therefore it will be running 24 Hours. Therefore\n",
    "Generally we do it like this only\n",
    "\"\"\"\n",
    "\n",
    "\n",
    "\n",
    "\"\"\"\n",
    "Also one way is which webHook is better than Polling Program is that polling program is a pogram which just polls \n",
    "again and again i.e it checks again and again on the server if some user has sent a message or not. Therefore the first\n",
    "method will become very ineffecient , when the user is not sending any message because in that case too, it will keep\n",
    "on checking for updated(Pooling means checking frequently after every fixed interval of time)\n",
    "\n",
    "But if we use webHook , then we will not be checking for updates frequently. Instead  we will perform an action only if\n",
    "the callBack Url recieves some function.\n",
    "\"\"\"\n",
    "\n",
    "\n",
    "\n",
    "\"\"\"\n",
    "So main advantage of this is that , we will not be polling the telgram server. Instead in webHook now is responsible \n",
    "to trigger some function of the callBackUrl on receiving updated. Therefore other time our function will remain empty\n",
    "\"\"\""
   ]
  },
  {
   "cell_type": "markdown",
   "metadata": {},
   "source": [
    "<img src='gettingUpdatedUsingPolling.png'>"
   ]
  },
  {
   "cell_type": "markdown",
   "metadata": {},
   "source": [
    "<img src='gettingUpdatedUsingWebHook.png'>"
   ]
  },
  {
   "cell_type": "markdown",
   "metadata": {},
   "source": [
    "### Setting of the WebHook"
   ]
  },
  {
   "cell_type": "markdown",
   "metadata": {},
   "source": [
    "##### 1. This time install flask in your python virtual environment by the command"
   ]
  },
  {
   "cell_type": "markdown",
   "metadata": {},
   "source": [
    "pip install flask"
   ]
  },
  {
   "cell_type": "markdown",
   "metadata": {},
   "source": [
    "##### 2. Set up Webhook"
   ]
  },
  {
   "cell_type": "markdown",
   "metadata": {},
   "source": [
    "<font color='purple'>Create a telegram Bot object using the Token</font> \n",
    "\n",
    "bot = Bot(\"TOKEN\")\n",
    "\n",
    "<font color='purple'>Set webhook for telegram bot</font> \n",
    "\n",
    "bot.set_webhook(\"https://example.com/\" + \"TOKEN\")"
   ]
  },
  {
   "cell_type": "markdown",
   "metadata": {},
   "source": [
    "##### 3. Create view to handle webhooks"
   ]
  },
  {
   "cell_type": "code",
   "execution_count": null,
   "metadata": {},
   "outputs": [],
   "source": [
    "@app.route(f'/{TOKEN}', methods=['GET', 'POST'])\n",
    "def webhook():\n",
    "    \"\"\"webhook view which receives updates from telegram\"\"\"\n",
    "    # create update object from json-format request data\n",
    "    update = Update.de_json(request.get_json(), bot)\n",
    "    # process update\n",
    "    dispatcher.process_update(update)\n",
    "    return \"ok\""
   ]
  },
  {
   "cell_type": "markdown",
   "metadata": {},
   "source": [
    " ###### 4. Generate Public URL for Webhook using ngrok.io"
   ]
  },
  {
   "cell_type": "markdown",
   "metadata": {},
   "source": [
    "ngrok is a free tool that allows us to tunnel from a public URL to our application running locally."
   ]
  },
  {
   "cell_type": "markdown",
   "metadata": {},
   "source": [
    "* Download ngrok from here - https://ngrok.com/download\n",
    "* Unzip it.\n",
    "* Run ngrok from command line (from the location where executable is stored) using the below command\n",
    "*         ./ngrok http 8443         (Here 8443 is the port number which we have requested)\n",
    "* Copy the HTTPS Forwarding URL"
   ]
  }
 ],
 "metadata": {
  "kernelspec": {
   "display_name": "Python 3",
   "language": "python",
   "name": "python3"
  },
  "language_info": {
   "codemirror_mode": {
    "name": "ipython",
    "version": 3
   },
   "file_extension": ".py",
   "mimetype": "text/x-python",
   "name": "python",
   "nbconvert_exporter": "python",
   "pygments_lexer": "ipython3",
   "version": "3.7.6"
  }
 },
 "nbformat": 4,
 "nbformat_minor": 4
}
