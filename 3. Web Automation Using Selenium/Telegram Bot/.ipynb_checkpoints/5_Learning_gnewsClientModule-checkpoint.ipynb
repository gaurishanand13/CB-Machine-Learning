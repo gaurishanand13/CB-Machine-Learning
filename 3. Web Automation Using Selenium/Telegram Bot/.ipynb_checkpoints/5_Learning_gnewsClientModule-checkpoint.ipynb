{
 "cells": [
  {
   "cell_type": "markdown",
   "metadata": {},
   "source": [
    " -    sudo pip install gnewsclient   -\n",
    " \n",
    "To install gnews Client run the above command (Though i have run this command in my virtual Environment only)"
   ]
  },
  {
   "cell_type": "code",
   "execution_count": 3,
   "metadata": {},
   "outputs": [],
   "source": [
    "from gnewsclient import gnewsclient  #Run this command in anaconda terminal too to use it jupyter notebook too\n",
    "#(otherwise same error of module not found error will occur)\n",
    "\n",
    "#Since earlier i installed this module for my environment only through terminal , therefore to use it in jupyter i \n",
    "#have installed it using anaconda terminal. If you don't want to install it again and again. Install it using normal\n",
    "#terminal(outside the virtual environment)"
   ]
  },
  {
   "cell_type": "code",
   "execution_count": 4,
   "metadata": {},
   "outputs": [],
   "source": [
    "client = gnewsclient.NewsClient()"
   ]
  },
  {
   "cell_type": "code",
   "execution_count": 5,
   "metadata": {},
   "outputs": [
    {
     "data": {
      "text/plain": [
       "{'location': 'United States', 'language': 'english', 'topic': 'Top Stories'}"
      ]
     },
     "execution_count": 5,
     "metadata": {},
     "output_type": "execute_result"
    }
   ],
   "source": [
    "client.get_config() #These are the default configurations , if we don't provide any but we can change it"
   ]
  },
  {
   "cell_type": "code",
   "execution_count": 9,
   "metadata": {},
   "outputs": [
    {
     "data": {
      "text/plain": [
       "['Top Stories',\n",
       " 'World',\n",
       " 'Nation',\n",
       " 'Business',\n",
       " 'Technology',\n",
       " 'Entertainment',\n",
       " 'Sports',\n",
       " 'Science',\n",
       " 'Health']"
      ]
     },
     "execution_count": 9,
     "metadata": {},
     "output_type": "execute_result"
    }
   ],
   "source": [
    "client.topics"
   ]
  },
  {
   "cell_type": "code",
   "execution_count": 10,
   "metadata": {},
   "outputs": [
    {
     "data": {
      "text/plain": [
       "['Australia',\n",
       " 'Botswana',\n",
       " 'Canada ',\n",
       " 'Ethiopia',\n",
       " 'Ghana',\n",
       " 'India ',\n",
       " 'Indonesia',\n",
       " 'Ireland',\n",
       " 'Israel ',\n",
       " 'Kenya',\n",
       " 'Latvia',\n",
       " 'Malaysia',\n",
       " 'Namibia',\n",
       " 'New Zealand',\n",
       " 'Nigeria',\n",
       " 'Pakistan',\n",
       " 'Philippines',\n",
       " 'Singapore',\n",
       " 'South Africa',\n",
       " 'Tanzania',\n",
       " 'Uganda',\n",
       " 'United Kingdom',\n",
       " 'United States',\n",
       " 'Zimbabwe',\n",
       " 'Czech Republic',\n",
       " 'Germany',\n",
       " 'Austria',\n",
       " 'Switzerland',\n",
       " 'Argentina',\n",
       " 'Chile',\n",
       " 'Colombia',\n",
       " 'Cuba',\n",
       " 'Mexico',\n",
       " 'Peru',\n",
       " 'Venezuela',\n",
       " 'Belgium ',\n",
       " 'France',\n",
       " 'Morocco',\n",
       " 'Senegal',\n",
       " 'Italy',\n",
       " 'Lithuania',\n",
       " 'Hungary',\n",
       " 'Netherlands',\n",
       " 'Norway',\n",
       " 'Poland',\n",
       " 'Brazil',\n",
       " 'Portugal',\n",
       " 'Romania',\n",
       " 'Slovakia',\n",
       " 'Slovenia',\n",
       " 'Sweden',\n",
       " 'Vietnam',\n",
       " 'Turkey',\n",
       " 'Greece',\n",
       " 'Bulgaria',\n",
       " 'Russia',\n",
       " 'Ukraine ',\n",
       " 'Serbia',\n",
       " 'United Arab Emirates',\n",
       " 'Saudi Arabia',\n",
       " 'Lebanon',\n",
       " 'Egypt',\n",
       " 'Bangladesh',\n",
       " 'Thailand',\n",
       " 'China',\n",
       " 'Taiwan',\n",
       " 'Hong Kong',\n",
       " 'Japan',\n",
       " 'Republic of Korea']"
      ]
     },
     "execution_count": 10,
     "metadata": {},
     "output_type": "execute_result"
    }
   ],
   "source": [
    "client.locations"
   ]
  },
  {
   "cell_type": "code",
   "execution_count": 11,
   "metadata": {},
   "outputs": [
    {
     "data": {
      "text/plain": [
       "{'location': 'india', 'language': 'english', 'topic': 'sports'}"
      ]
     },
     "execution_count": 11,
     "metadata": {},
     "output_type": "execute_result"
    }
   ],
   "source": [
    "#These are the value of the topics and locations , it can take as input\n",
    "client.location = 'india'\n",
    "client.langauge = 'Hindi'\n",
    "client.topic = 'sports'\n",
    "\n",
    "client.get_config()"
   ]
  },
  {
   "cell_type": "code",
   "execution_count": 15,
   "metadata": {},
   "outputs": [
    {
     "name": "stdout",
     "output_type": "stream",
     "text": [
      "<class 'list'>\n",
      "10\n"
     ]
    }
   ],
   "source": [
    "news = client.get_news()\n",
    "print(type(news))\n",
    "print(len(news))"
   ]
  },
  {
   "cell_type": "code",
   "execution_count": 16,
   "metadata": {},
   "outputs": [
    {
     "data": {
      "text/plain": [
       "[{'title': 'BCCI cites \"password glitch\" after Pujara, Mandhana receive NADA notices - Cricbuzz - Cricbuzz',\n",
       "  'link': 'https://news.google.com/__i/rss/rd/articles/CBMiygFodHRwczovL3d3dy5jcmljYnV6ei5jb20vY3JpY2tldC1uZXdzLzExMzIyMy9iY2NpLWNpdGVzLXBhc3N3b3JkLWdsaXRjaC1hZnRlci1jaGV0ZXNod2FyLXB1amFyYS1zbXJpdGktbWFuZGhhbmEtcmVjZWl2ZS1uYWRhLW5vdGljZXMtaW5kaWEtY3JpY2tldC1uZXdzLXJhdmluZHJhLWphZGVqYS1rbC1yYWh1bC1kZWVwdGktc2hhcm1hLWNyaWNidXp6Y29t0gHLAWh0dHA6Ly9tLmNyaWNidXp6LmNvbS9hbXAvY3JpY2tldC1uZXdzLzExMzIyMy9iY2NpLWNpdGVzLXBhc3N3b3JkLWdsaXRjaC1hZnRlci1jaGV0ZXNod2FyLXB1amFyYS1zbXJpdGktbWFuZGhhbmEtcmVjZWl2ZS1uYWRhLW5vdGljZXMtaW5kaWEtY3JpY2tldC1uZXdzLXJhdmluZHJhLWphZGVqYS1rbC1yYWh1bC1kZWVwdGktc2hhcm1hLWNyaWNidXp6Y29t?oc=5',\n",
       "  'media': None},\n",
       " {'title': 'Will always be a player’s person says BCCI president Sourav Ganguly - Hindustan Times',\n",
       "  'link': 'https://news.google.com/__i/rss/rd/articles/CBMijAFodHRwczovL3d3dy5oaW5kdXN0YW50aW1lcy5jb20vY3JpY2tldC93aWxsLWFsd2F5cy1iZS1hLXBsYXllci1zLXBlcnNvbi1zYXlzLWJjY2ktcHJlc2lkZW50LXNvdXJhdi1nYW5ndWx5L3N0b3J5LTdZd1R1T0pUVE53UTJZbXFZdzNIb00uaHRtbNIBjgFodHRwczovL20uaGluZHVzdGFudGltZXMuY29tL2NyaWNrZXQvd2lsbC1hbHdheXMtYmUtYS1wbGF5ZXItcy1wZXJzb24tc2F5cy1iY2NpLXByZXNpZGVudC1zb3VyYXYtZ2FuZ3VseS9zdG9yeS03WXdUdU9KVFROd1EyWW1xWXczSG9NX2FtcC5odG1s?oc=5',\n",
       "  'media': None},\n",
       " {'title': '“Circumstances Would Have to Change” – Dominic Thiem Echoes Novak Djokovic’s US Open Stance - Essentially Sports',\n",
       "  'link': 'https://news.google.com/__i/rss/rd/articles/CBMiiAFodHRwczovL3d3dy5lc3NlbnRpYWxseXNwb3J0cy5jb20vY2lyY3Vtc3RhbmNlcy13b3VsZC1oYXZlLXRvLWNoYW5nZS1kb21pbmljLXRoaWVtLWVjaG9lcy1ub3Zhay1kam9rb3ZpYy11cy1vcGVuLXN0YW5jZS1hdHAtdGVubmlzLW5ld3Mv0gGMAWh0dHBzOi8vd3d3LmVzc2VudGlhbGx5c3BvcnRzLmNvbS9jaXJjdW1zdGFuY2VzLXdvdWxkLWhhdmUtdG8tY2hhbmdlLWRvbWluaWMtdGhpZW0tZWNob2VzLW5vdmFrLWRqb2tvdmljLXVzLW9wZW4tc3RhbmNlLWF0cC10ZW5uaXMtbmV3cy9hbXAv?oc=5',\n",
       "  'media': None},\n",
       " {'title': 'Player names to be replaced by ‘Black Lives Matter’ when Premier League resumes - The Indian Express',\n",
       "  'link': 'https://news.google.com/__i/rss/rd/articles/CBMiiAFodHRwczovL2luZGlhbmV4cHJlc3MuY29tL2FydGljbGUvc3BvcnRzL2Zvb3RiYWxsL3BsYXllci1uYW1lcy10by1iZS1yZXBsYWNlZC1ieS1ibGFjay1saXZlcy1tYXR0ZXItd2hlbi1wcmVtaWVyLWxlYWd1ZS1yZXN1bWVzLTY0NTY1NDIv0gGNAWh0dHBzOi8vaW5kaWFuZXhwcmVzcy5jb20vYXJ0aWNsZS9zcG9ydHMvZm9vdGJhbGwvcGxheWVyLW5hbWVzLXRvLWJlLXJlcGxhY2VkLWJ5LWJsYWNrLWxpdmVzLW1hdHRlci13aGVuLXByZW1pZXItbGVhZ3VlLXJlc3VtZXMtNjQ1NjU0Mi9saXRlLw?oc=5',\n",
       "  'media': None},\n",
       " {'title': 'Former Pakistan captain Shahid Afridi tests Covid-19 positive - Times of India',\n",
       "  'link': 'https://news.google.com/__i/rss/rd/articles/CBMihAFodHRwczovL3RpbWVzb2ZpbmRpYS5pbmRpYXRpbWVzLmNvbS92aWRlb3MvbmV3cy9mb3JtZXItcGFraXN0YW4tY2FwdGFpbi1zaGFoaWQtYWZyaWRpLXRlc3RzLWNvdmlkLTE5LXBvc2l0aXZlL3ZpZGVvc2hvdy83NjM1ODcwMS5jbXPSAX9odHRwczovL20udGltZXNvZmluZGlhLmNvbS92aWRlb3MvbmV3cy9mb3JtZXItcGFraXN0YW4tY2FwdGFpbi1zaGFoaWQtYWZyaWRpLXRlc3RzLWNvdmlkLTE5LXBvc2l0aXZlL2FtcF92aWRlb3Nob3cvNzYzNTg3MDEuY21z?oc=5',\n",
       "  'media': None}]"
      ]
     },
     "execution_count": 16,
     "metadata": {},
     "output_type": "execute_result"
    }
   ],
   "source": [
    "news[:5] #Therefore for each title , we will be getting link to that news and title of that news"
   ]
  },
  {
   "cell_type": "code",
   "execution_count": null,
   "metadata": {},
   "outputs": [],
   "source": []
  }
 ],
 "metadata": {
  "kernelspec": {
   "display_name": "Python 3",
   "language": "python",
   "name": "python3"
  },
  "language_info": {
   "codemirror_mode": {
    "name": "ipython",
    "version": 3
   },
   "file_extension": ".py",
   "mimetype": "text/x-python",
   "name": "python",
   "nbconvert_exporter": "python",
   "pygments_lexer": "ipython3",
   "version": "3.7.6"
  }
 },
 "nbformat": 4,
 "nbformat_minor": 4
}
