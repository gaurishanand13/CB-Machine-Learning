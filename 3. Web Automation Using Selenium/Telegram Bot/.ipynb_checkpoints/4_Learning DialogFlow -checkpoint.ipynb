{
 "cells": [
  {
   "cell_type": "markdown",
   "metadata": {},
   "source": [
    "Login into Dialogflow Console - https://dialogflow.cloud.google.com/#/login"
   ]
  },
  {
   "cell_type": "markdown",
   "metadata": {},
   "source": [
    "After that create a new Agent . Here i have created an agent with the name NewsBot"
   ]
  },
  {
   "cell_type": "markdown",
   "metadata": {},
   "source": [
    "##### Now we have 2 things -\n",
    "\n",
    "1) Entities - These are the objects on which our news Bot will work upon. Therefore Here I provided the entity with the list of Topics a bot should work on. Therefore here i have create an Entity object named (\"Topics\") in which i have mentioned various topics which can be related to a particular news. \n",
    "\n",
    "Note - A News can be paramterised by the various other parameters like location(country,city) or language(English,Hindi). Since this set can be large , Therefore we don't need to insert these Entities Exclusively, These general entities are already present.\n",
    "\n",
    "2) Intents - I have created a new intent with the name get_news. \n",
    "Default Welcome Intent is selected --> Create New Intent --> Now add some Training Phrases to the Model. It will learn about 50-70% with the help of already present Entities. But we need to train it more so that the model can predict the replies more accurately. If model is not able to predict then we can teach it by highligting that particular text and selecting the enitity to which it belongs -"
   ]
  },
  {
   "cell_type": "markdown",
   "metadata": {},
   "source": [
    "###### INITIALLY IT LOOKS LIKE THIS - \n",
    "<img src='before.png'>"
   ]
  },
  {
   "cell_type": "markdown",
   "metadata": {},
   "source": [
    "###### NOW SELECTING THE REQUIRED DATA AND MAKING IT BELONG TO SOME ENTITY\n",
    "<img src='setting_up_the_langauge.png'>\n"
   ]
  },
  {
   "cell_type": "markdown",
   "metadata": {},
   "source": [
    "###### AFTER CHANGES ARE MADE\n",
    "<img src='after.png'>"
   ]
  },
  {
   "cell_type": "raw",
   "metadata": {},
   "source": [
    "Note i also enables the small talks from setting which will handle the generall messages send by the user like \"Hello\"\n",
    "\"hi\" , \"How are you doing\" , etc."
   ]
  },
  {
   "cell_type": "markdown",
   "metadata": {},
   "source": [
    "##### Now Generating our NewsBot.keys which will be used to use our agent which we made in the diagnal flow console"
   ]
  },
  {
   "cell_type": "markdown",
   "metadata": {},
   "source": [
    "1. Go to setting of the project\n",
    "2. Go to General Tab\n",
    "3. Click on the link in the sevice account(in GOOGLE PROJECT Section)\n",
    "4. After that click CREATE SERVICE ACCOUNT\n",
    "5. FIRST fill the first Column of details of the sevice account i.e Service Name and then select the role as OWNER, and then add the gmail ID at the admin Roles column(gmail ID of those who are going to use it ),for the rest we can leave and just put continue.\n",
    "6. After Creating the SERVICE ACCOUNT , click on its setting and download KEY in the form of JSON and move it to the folder of this python script where it is going to be used. "
   ]
  },
  {
   "cell_type": "code",
   "execution_count": null,
   "metadata": {},
   "outputs": [],
   "source": [
    "# Install Python Client for Dialogflow to be able to use it.\n",
    "!sudo pip install dialogflow\n",
    "\"\"\"\n",
    "Note - I performed the above module installation process , but i was not able to get use dialogflow dependency below\n",
    "in jupyter, but i was able to use it in normal python script (maybe some path problem). Therefore then i installed \n",
    "this module through anaconda terminal only. Just run this \"sudo pip install dialogflow\" on that terminal , don't need \n",
    "form that python virtual environment again.\n",
    "\"\"\""
   ]
  },
  {
   "cell_type": "code",
   "execution_count": 1,
   "metadata": {},
   "outputs": [],
   "source": [
    "import os\n",
    "os.environ[\"GOOGLE_APPLICATION_CREDENTIALS\"] = \"newsbot-oitolm-49542467cacd.json\" \n",
    "#newsbotKey.json is the name of the key downloaded for the project\n",
    "\n",
    "import dialogflow as dialogflow\n",
    "dialogflow_session_client = dialogflow.SessionsClient()\n",
    "PROJECT_ID = \"newsbot-oitolm\"  #Get this from your setting of the project(It is just above the link you clicked to create serive account)\n"
   ]
  },
  {
   "cell_type": "code",
   "execution_count": 2,
   "metadata": {},
   "outputs": [],
   "source": [
    "def detect_intent_from_text(text, session_id, language_code='en'):\n",
    "    session = dialogflow_session_client.session_path(PROJECT_ID, session_id)\n",
    "    text_input = dialogflow.types.TextInput(text=text, language_code=language_code)\n",
    "    query_input = dialogflow.types.QueryInput(text=text_input)\n",
    "    response = dialogflow_session_client.detect_intent(session=session, query_input=query_input)\n",
    "    return response.query_result"
   ]
  },
  {
   "cell_type": "code",
   "execution_count": 3,
   "metadata": {},
   "outputs": [
    {
     "data": {
      "text/plain": [
       "'\\nNote this sessionID - we generally keep it unique for every User because every time a new user comes a new session\\nshould be created. Also as in each session, bot learns chat by chat with that user like what he likes to search \\nand what he is looking to search as chat goes on. Therefore learning should be made unique for every user it \\nwho uses this.\\nTherefore in this CHAT , we will use CHAT_ID (which we get from update) as session_ID because CHAT_ID will be unique \\nfor every user.\\n'"
      ]
     },
     "execution_count": 3,
     "metadata": {},
     "output_type": "execute_result"
    }
   ],
   "source": [
    "response = detect_intent_from_text(\"show me sports news from india in hindi\", 12345) \n",
    "\"\"\"\n",
    "Note this sessionID - we generally keep it unique for every User because every time a new user comes a new session\n",
    "should be created. Also as in each session, bot learns chat by chat with that user like what he likes to search \n",
    "and what he is looking to search as chat goes on. Therefore learning should be made unique for every user it \n",
    "who uses this.\n",
    "Therefore in this CHAT , we will use CHAT_ID (which we get from update) as session_ID because CHAT_ID will be unique \n",
    "for every user.\n",
    "\"\"\""
   ]
  },
  {
   "cell_type": "code",
   "execution_count": 4,
   "metadata": {},
   "outputs": [
    {
     "data": {
      "text/plain": [
       "'my_news_intent'"
      ]
     },
     "execution_count": 4,
     "metadata": {},
     "output_type": "execute_result"
    }
   ],
   "source": [
    "response.intent.display_name"
   ]
  },
  {
   "cell_type": "code",
   "execution_count": 5,
   "metadata": {},
   "outputs": [
    {
     "data": {
      "text/plain": [
       "{'topic': values {\n",
       "   string_value: \"Sports\"\n",
       " }\n",
       " values {\n",
       "   string_value: \"hindi\"\n",
       " },\n",
       " 'geo-country': values {\n",
       "   string_value: \"India\"\n",
       " }\n",
       " values {\n",
       "   string_value: \"India\"\n",
       " },\n",
       " 'language': ''}"
      ]
     },
     "execution_count": 5,
     "metadata": {},
     "output_type": "execute_result"
    }
   ],
   "source": [
    "dict(response.parameters)"
   ]
  },
  {
   "cell_type": "code",
   "execution_count": 22,
   "metadata": {},
   "outputs": [
    {
     "name": "stdout",
     "output_type": "stream",
     "text": [
      "<class 'google.protobuf.struct_pb2.Struct'>\n",
      "Object `google.protobuf.struct_pb2.Struct` not found.\n",
      "Sports\n",
      "hindi\n",
      "India\n"
     ]
    }
   ],
   "source": [
    "res = response.parameters\n",
    "print(type(res))\n",
    "\n",
    "google.protobuf.struct_pb2.Struct?\n",
    "\n",
    "print(res)\n",
    "print(res)\n",
    "print(res)"
   ]
  },
  {
   "cell_type": "code",
   "execution_count": 6,
   "metadata": {},
   "outputs": [
    {
     "data": {
      "text/plain": [
       "query_text: \"show me sports news from india in hindi\"\n",
       "parameters {\n",
       "  fields {\n",
       "    key: \"geo-country\"\n",
       "    value {\n",
       "      list_value {\n",
       "        values {\n",
       "          string_value: \"India\"\n",
       "        }\n",
       "        values {\n",
       "          string_value: \"India\"\n",
       "        }\n",
       "      }\n",
       "    }\n",
       "  }\n",
       "  fields {\n",
       "    key: \"language\"\n",
       "    value {\n",
       "      string_value: \"\"\n",
       "    }\n",
       "  }\n",
       "  fields {\n",
       "    key: \"topic\"\n",
       "    value {\n",
       "      list_value {\n",
       "        values {\n",
       "          string_value: \"Sports\"\n",
       "        }\n",
       "        values {\n",
       "          string_value: \"hindi\"\n",
       "        }\n",
       "      }\n",
       "    }\n",
       "  }\n",
       "}\n",
       "all_required_params_present: true\n",
       "fulfillment_messages {\n",
       "  text {\n",
       "    text: \"\"\n",
       "  }\n",
       "}\n",
       "intent {\n",
       "  name: \"projects/newsbot-oitolm/agent/intents/314ca183-7791-42bb-8df1-b27c097a203b\"\n",
       "  display_name: \"my_news_intent\"\n",
       "}\n",
       "intent_detection_confidence: 0.797645092010498\n",
       "language_code: \"en\""
      ]
     },
     "execution_count": 6,
     "metadata": {},
     "output_type": "execute_result"
    }
   ],
   "source": [
    "response"
   ]
  },
  {
   "cell_type": "markdown",
   "metadata": {},
   "source": [
    "##### Note When the conversation related to smallTalks occur, then the dictionary looks bit different -"
   ]
  },
  {
   "cell_type": "code",
   "execution_count": 34,
   "metadata": {},
   "outputs": [
    {
     "data": {
      "text/plain": [
       "'Hello! How can I help you?'"
      ]
     },
     "execution_count": 34,
     "metadata": {},
     "output_type": "execute_result"
    }
   ],
   "source": [
    "response = detect_intent_from_text(\"Hi! How are you?\", 22)  ##\n",
    "response.fulfillment_text"
   ]
  },
  {
   "cell_type": "code",
   "execution_count": 35,
   "metadata": {},
   "outputs": [
    {
     "data": {
      "text/plain": [
       "query_text: \"Hi How are you?\"\n",
       "action: \"input.welcome\"\n",
       "parameters {\n",
       "}\n",
       "all_required_params_present: true\n",
       "fulfillment_text: \"Hello! How can I help you?\"\n",
       "fulfillment_messages {\n",
       "  text {\n",
       "    text: \"Hello! How can I help you?\"\n",
       "  }\n",
       "}\n",
       "intent {\n",
       "  name: \"projects/newsbot-oitolm/agent/intents/7ae4a9fb-244c-46e3-ae1b-b5819fe798bc\"\n",
       "  display_name: \"Default Welcome Intent\"\n",
       "}\n",
       "intent_detection_confidence: 0.7060049176216125\n",
       "language_code: \"en\""
      ]
     },
     "execution_count": 35,
     "metadata": {},
     "output_type": "execute_result"
    }
   ],
   "source": [
    "response"
   ]
  },
  {
   "cell_type": "code",
   "execution_count": 33,
   "metadata": {},
   "outputs": [
    {
     "data": {
      "text/plain": [
       "fields {\n",
       "  key: \"geo-country\"\n",
       "  value {\n",
       "    list_value {\n",
       "    }\n",
       "  }\n",
       "}\n",
       "fields {\n",
       "  key: \"language\"\n",
       "  value {\n",
       "    string_value: \"\"\n",
       "  }\n",
       "}\n",
       "fields {\n",
       "  key: \"topic\"\n",
       "  value {\n",
       "    list_value {\n",
       "      values {\n",
       "        string_value: \"Technology\"\n",
       "      }\n",
       "    }\n",
       "  }\n",
       "}"
      ]
     },
     "execution_count": 33,
     "metadata": {},
     "output_type": "execute_result"
    }
   ],
   "source": [
    "response = detect_intent_from_text(\"Technology\", 1234)  ##\n",
    "response.parameters"
   ]
  },
  {
   "cell_type": "code",
   "execution_count": 39,
   "metadata": {},
   "outputs": [],
   "source": [
    "response = detect_intent_from_text(\"show me sports news from india in hindi\", 1115)\n",
    "res = response.parameters"
   ]
  },
  {
   "cell_type": "code",
   "execution_count": 40,
   "metadata": {},
   "outputs": [
    {
     "name": "stdout",
     "output_type": "stream",
     "text": [
      "fields {\n",
      "  key: \"geo-country\"\n",
      "  value {\n",
      "    string_value: \"India\"\n",
      "  }\n",
      "}\n",
      "fields {\n",
      "  key: \"language\"\n",
      "  value {\n",
      "    string_value: \"Hindi\"\n",
      "  }\n",
      "}\n",
      "fields {\n",
      "  key: \"topic\"\n",
      "  value {\n",
      "    list_value {\n",
      "      values {\n",
      "        string_value: \"Sports\"\n",
      "      }\n",
      "    }\n",
      "  }\n",
      "}\n",
      "\n"
     ]
    }
   ],
   "source": [
    "print(res)"
   ]
  },
  {
   "cell_type": "code",
   "execution_count": 38,
   "metadata": {},
   "outputs": [
    {
     "name": "stdout",
     "output_type": "stream",
     "text": [
      "India\n"
     ]
    }
   ],
   "source": [
    "print(res['geo-country'][0])"
   ]
  },
  {
   "cell_type": "code",
   "execution_count": 41,
   "metadata": {},
   "outputs": [],
   "source": [
    "response = detect_intent_from_text(\"Science\", 1115)\n",
    "res = response.parameters"
   ]
  },
  {
   "cell_type": "code",
   "execution_count": 45,
   "metadata": {},
   "outputs": [
    {
     "name": "stdout",
     "output_type": "stream",
     "text": [
      "fields {\n",
      "  key: \"geo-country\"\n",
      "  value {\n",
      "    string_value: \"\"\n",
      "  }\n",
      "}\n",
      "fields {\n",
      "  key: \"language\"\n",
      "  value {\n",
      "    string_value: \"\"\n",
      "  }\n",
      "}\n",
      "fields {\n",
      "  key: \"topic\"\n",
      "  value {\n",
      "    list_value {\n",
      "      values {\n",
      "        string_value: \"Science\"\n",
      "      }\n",
      "    }\n",
      "  }\n",
      "}\n",
      "\n",
      "Science\n",
      "1\n",
      "0\n"
     ]
    }
   ],
   "source": [
    "print(res)\n",
    "print(res['topic'][0])\n",
    "print(len(res['topic']))\n",
    "print(len(res['geo-country']))"
   ]
  },
  {
   "cell_type": "code",
   "execution_count": null,
   "metadata": {},
   "outputs": [],
   "source": []
  }
 ],
 "metadata": {
  "kernelspec": {
   "display_name": "Python 3",
   "language": "python",
   "name": "python3"
  },
  "language_info": {
   "codemirror_mode": {
    "name": "ipython",
    "version": 3
   },
   "file_extension": ".py",
   "mimetype": "text/x-python",
   "name": "python",
   "nbconvert_exporter": "python",
   "pygments_lexer": "ipython3",
   "version": "3.7.6"
  }
 },
 "nbformat": 4,
 "nbformat_minor": 4
}
