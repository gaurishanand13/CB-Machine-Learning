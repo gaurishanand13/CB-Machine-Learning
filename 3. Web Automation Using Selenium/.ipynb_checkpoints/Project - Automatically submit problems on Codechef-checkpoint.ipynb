{
 "cells": [
  {
   "cell_type": "code",
   "execution_count": 1,
   "metadata": {},
   "outputs": [],
   "source": [
    "#Note - For automation we use drivers. Each browser be it safari,chrome, opera have its own drivers"
   ]
  },
  {
   "cell_type": "code",
   "execution_count": 6,
   "metadata": {},
   "outputs": [
    {
     "name": "stdout",
     "output_type": "stream",
     "text": [
      "Requirement already satisfied: selenium in /opt/anaconda3/lib/python3.7/site-packages (3.141.0)\r\n",
      "Requirement already satisfied: urllib3 in /opt/anaconda3/lib/python3.7/site-packages (from selenium) (1.25.8)\r\n"
     ]
    }
   ],
   "source": [
    "!pip install selenium"
   ]
  },
  {
   "cell_type": "code",
   "execution_count": 3,
   "metadata": {},
   "outputs": [],
   "source": [
    "\"\"\"\n",
    "Now after installing selenium we need drivers of a browser with which we would perform automation.\n",
    "Download it from here\n",
    "https://selenium-python.readthedocs.io/installation.html\n",
    "\n",
    "After installation just make sure that you just copy to the path where you have mentioned down\n",
    "\"\"\""
   ]
  },
  {
   "cell_type": "code",
   "execution_count": 1,
   "metadata": {},
   "outputs": [],
   "source": [
    "from selenium import webdriver"
   ]
  },
  {
   "cell_type": "code",
   "execution_count": 14,
   "metadata": {},
   "outputs": [],
   "source": [
    "browser = webdriver.Chrome(executable_path='./chromedriver')  #./chromedriver is the path where this chromedriver is present in the system"
   ]
  },
  {
   "cell_type": "code",
   "execution_count": 15,
   "metadata": {},
   "outputs": [],
   "source": [
    "browser.get(\"https://www.codechef.com/\") #It will open this url on the web\n",
    "\n",
    "\"\"\"\n",
    "Now after opening this url , find the id of the editTest of userName,Password and login Button so that we can enter\n",
    "the id and password on that and then press login button from here using selenium\n",
    "You can pressId using Inspect Element\n",
    "\"\"\"\n",
    "userNameInputType_ID = \"edit-name\"\n",
    "passwordInputType_ID = \"edit-pass\"\n",
    "\n",
    "LoginButton_ID = \"edit-submit\""
   ]
  },
  {
   "cell_type": "code",
   "execution_count": 21,
   "metadata": {},
   "outputs": [],
   "source": [
    "userName_element = browser.find_element_by_id(userNameInputType_ID)\n",
    "password_element = browser.find_element_by_id(passwordInputType_ID)\n",
    "logiButton_element = browser.find_element_by_id(LoginButton_ID)"
   ]
  },
  {
   "cell_type": "code",
   "execution_count": 17,
   "metadata": {},
   "outputs": [
    {
     "name": "stdout",
     "output_type": "stream",
     "text": [
      "Username : gaurishanand13\n",
      "Password : perfectgirls.net\n"
     ]
    }
   ],
   "source": [
    "username = input(\"Username : \")\n",
    "password = input(\"Password : \")"
   ]
  },
  {
   "cell_type": "code",
   "execution_count": 22,
   "metadata": {},
   "outputs": [],
   "source": [
    "#Now write this username and password on the browser using this python\n",
    "userName_element.send_keys(username)\n",
    "password_element.send_keys(password)"
   ]
  },
  {
   "cell_type": "code",
   "execution_count": 23,
   "metadata": {},
   "outputs": [],
   "source": [
    "#Now we need press the submit button from this code\n",
    "logiButton_element.click()"
   ]
  },
  {
   "cell_type": "code",
   "execution_count": 48,
   "metadata": {},
   "outputs": [],
   "source": [
    "#Now we should move towards the url of the problem, which we want to submit\n",
    "browser.get(\"https://www.codechef.com/JUNE20B/submit/PRICECON\")"
   ]
  },
  {
   "cell_type": "code",
   "execution_count": 51,
   "metadata": {},
   "outputs": [],
   "source": [
    "#Now switch to non-ide Mode\n",
    "browser.find_element_by_id(\"edit-submit\").click()"
   ]
  },
  {
   "cell_type": "code",
   "execution_count": 53,
   "metadata": {},
   "outputs": [],
   "source": [
    "#Now after the above url is executed , untick the toggle button . So that text editor can simply accept what is written on it\n",
    "toggle_editor_tick_id = \"edit_area_toggle_checkbox_edit-program\"\n",
    "#Therefore we need to click it once so that it is unticked\n",
    "browser.find_element_by_id(toggle_editor_tick_id).click()\n",
    "\n"
   ]
  },
  {
   "cell_type": "code",
   "execution_count": 54,
   "metadata": {},
   "outputs": [],
   "source": [
    "#Now we will get the id of the editor of the box(non editor mode) i.e ID of the editor which is simply an editor and not an IDE\n",
    "editor_id = \"edit-program\"\n",
    "#Now get the code from a file\n",
    "with open(\"solution.cpp\") as f:\n",
    "    code = f.read()\n",
    "    browser.find_element_by_id(editor_id).send_keys(code)"
   ]
  },
  {
   "cell_type": "code",
   "execution_count": 55,
   "metadata": {},
   "outputs": [],
   "source": [
    "#Now set the langauge as C++14 using the code\n",
    "x_path_for_c_plus_plus_option = '//*[@id=\"edit-language\"]/option[10]'\n",
    "\n",
    "\"\"\"\n",
    "Since that langauge list was in a drop down menu, therefore we can't have the exact ID of the list item. Instead\n",
    "we can have the xPath of that list item. To get the xPath , right click on the Item -> Copy -> Xpath\n",
    "\"\"\"\n",
    "\n",
    "#Therefore now what we want is this item should get selected\n",
    "browser.find_element_by_xpath(x_path_for_c_plus_plus_option).click()"
   ]
  },
  {
   "cell_type": "code",
   "execution_count": 56,
   "metadata": {},
   "outputs": [],
   "source": [
    "submit_button_id = \"edit-submit-1\"\n",
    "browser.find_element_by_id(submit_button_id).click()"
   ]
  },
  {
   "cell_type": "code",
   "execution_count": null,
   "metadata": {},
   "outputs": [],
   "source": []
  },
  {
   "cell_type": "code",
   "execution_count": null,
   "metadata": {},
   "outputs": [],
   "source": []
  },
  {
   "cell_type": "code",
   "execution_count": null,
   "metadata": {},
   "outputs": [],
   "source": []
  }
 ],
 "metadata": {
  "kernelspec": {
   "display_name": "Python 3",
   "language": "python",
   "name": "python3"
  },
  "language_info": {
   "codemirror_mode": {
    "name": "ipython",
    "version": 3
   },
   "file_extension": ".py",
   "mimetype": "text/x-python",
   "name": "python",
   "nbconvert_exporter": "python",
   "pygments_lexer": "ipython3",
   "version": "3.7.6"
  }
 },
 "nbformat": 4,
 "nbformat_minor": 4
}
