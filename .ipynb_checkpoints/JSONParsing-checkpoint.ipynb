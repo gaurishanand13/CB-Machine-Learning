{
 "cells": [
  {
   "cell_type": "markdown",
   "metadata": {},
   "source": [
    "## JSON Parsing in Python"
   ]
  },
  {
   "cell_type": "code",
   "execution_count": 1,
   "metadata": {},
   "outputs": [],
   "source": [
    "#Note the code of json which we process while running here, is obviously run by compiler. Therefore this compilation\n",
    "#takes place in CPU(RAM).\n",
    "\n",
    "#But when we are not processing the JSON, we store the json in our system in files. Obviously these \n",
    "#files are stored in secondary memory."
   ]
  },
  {
   "cell_type": "code",
   "execution_count": 3,
   "metadata": {},
   "outputs": [
    {
     "name": "stdout",
     "output_type": "stream",
     "text": [
      "<class 'dict'>\n",
      "{'name': 'A2', 'age': 40}\n"
     ]
    }
   ],
   "source": [
    "#Note Json is Basically a Dictionary in python . Therefore whenever we want to perform some operation on JSON in python\n",
    "#we will convert the JSON in the form of dictionary and then perform operations on it.\n",
    "myJson = {\n",
    "    \"name\" : \"Learning Python\",\n",
    "    \"page\" : 320,\n",
    "    \"authors\" : [\n",
    "        {\n",
    "            \"name\" : \"A1\",\n",
    "            \"age\" : 30\n",
    "        },\n",
    "        {\n",
    "            \"name\" : \"A2\",\n",
    "            \"age\" : 40\n",
    "        }\n",
    "    ]\n",
    "}\n",
    "\n",
    "print(type(myJson))\n",
    "\n",
    "#Print the details of 2nd author\n",
    "print(myJson[\"authors\"][1])"
   ]
  },
  {
   "cell_type": "code",
   "execution_count": 5,
   "metadata": {},
   "outputs": [],
   "source": [
    "#Now we would learn , how we can store this dictionary in the from of JSON in our system\n",
    "import json #This module is required, to convert a dictionary into json and dump into our system\n",
    "\n",
    "\n",
    "with open(\"myJsonFile.json\",\"w\") as f:\n",
    "    json.dump(myJson,f) #Therefore dump function helps in converting the dictionary into actual json format in the file\n"
   ]
  },
  {
   "cell_type": "code",
   "execution_count": 7,
   "metadata": {},
   "outputs": [
    {
     "name": "stdout",
     "output_type": "stream",
     "text": [
      "<class 'dict'>\n",
      "{'name': 'Learning Python', 'page': 320, 'authors': [{'name': 'A1', 'age': 30}, {'name': 'A2', 'age': 40}]}\n"
     ]
    }
   ],
   "source": [
    "#Now assume , you want to fetch the json from the file where this json is stored and it should come back as dictionary\n",
    "#again back\n",
    "data = \"\"\n",
    "with open(\"myJsonFile.json\",\"r\") as f:\n",
    "    data = json.load(f) #Therefore load function loads back json from a json file to python in the form of dictionary\n",
    "    print(type(data))\n",
    "    print(data)\n"
   ]
  },
  {
   "cell_type": "code",
   "execution_count": 9,
   "metadata": {},
   "outputs": [
    {
     "name": "stdout",
     "output_type": "stream",
     "text": [
      "{'authors': [{'age': 30, 'name': 'A1'}, {'age': 40, 'name': 'A2'}],\n",
      " 'name': 'Learning Python',\n",
      " 'page': 320}\n"
     ]
    }
   ],
   "source": [
    "#Though we have got the json back in proper dictionary format. But we would very much appreciate it, if it would be\n",
    "#in printed beautifully , so that it is easy to analyse. For that we can use pprint module\n",
    "import pprint\n",
    "\n",
    "pprint.pprint(data)"
   ]
  },
  {
   "cell_type": "code",
   "execution_count": 11,
   "metadata": {},
   "outputs": [
    {
     "name": "stdout",
     "output_type": "stream",
     "text": [
      "{'name': 'Learning Python', 'page': 320, 'authors': [{'name': 'A1', 'age': 30}, {'name': 'A2', 'age': 40}]} \n",
      " <class 'dict'>\n",
      "\n",
      "{\"name\": \"Learning Python\", \"page\": 320, \"authors\": [{\"name\": \"A1\", \"age\": 30}, {\"name\": \"A2\", \"age\": 40}]} \n",
      " <class 'str'>\n"
     ]
    }
   ],
   "source": [
    "#Now there are 2 more functions dumps and loads\n",
    "#Dumps is used to convert dictionary(our JSON) purely in the form of string. e.g \n",
    "print(data,'\\n',type(data))\n",
    "\n",
    "print()\n",
    "jsonAsString = json.dumps(data)\n",
    "print(jsonAsString,'\\n',type(jsonAsString))\n"
   ]
  },
  {
   "cell_type": "code",
   "execution_count": 14,
   "metadata": {},
   "outputs": [
    {
     "name": "stdout",
     "output_type": "stream",
     "text": [
      "<class 'dict'>\n",
      "{'authors': [{'age': 30, 'name': 'A1'}, {'age': 40, 'name': 'A2'}],\n",
      " 'name': 'Learning Python',\n",
      " 'page': 320}\n"
     ]
    }
   ],
   "source": [
    "#We can also convert the string back into a dictionary using load. Eg. \n",
    "newJson = json.loads(jsonAsString)\n",
    "print(type(newJson))\n",
    "pprint.pprint(newJson)"
   ]
  },
  {
   "cell_type": "code",
   "execution_count": null,
   "metadata": {},
   "outputs": [],
   "source": [
    "#Therefore generally people directly storing the data as json in .json files, they first deserialize the json into string\n",
    "#using dumps and store it in a txt file and then while fetching convert it back into a dictionary using loads."
   ]
  },
  {
   "cell_type": "markdown",
   "metadata": {},
   "source": [
    "\n",
    "# EXCEPTION HANDLING IN PYTHON"
   ]
  },
  {
   "cell_type": "code",
   "execution_count": 15,
   "metadata": {},
   "outputs": [
    {
     "name": "stdout",
     "output_type": "stream",
     "text": [
      "division by zero\n"
     ]
    }
   ],
   "source": [
    "#Most General way to handle errors\n",
    "try:\n",
    "    a = 10/0\n",
    "except Exception as e:\n",
    "    print(e)"
   ]
  },
  {
   "cell_type": "code",
   "execution_count": 16,
   "metadata": {},
   "outputs": [
    {
     "name": "stdout",
     "output_type": "stream",
     "text": [
      "FileNotFoundError\n"
     ]
    }
   ],
   "source": [
    "#How can we handle seperate errors sperately.\n",
    "try:\n",
    "    f = open(\"dns.txt\",\"r\")\n",
    "except FileNotFoundError:\n",
    "    print('File Not Found Error')\n",
    "except:\n",
    "    print('Unkown Error')"
   ]
  },
  {
   "cell_type": "code",
   "execution_count": null,
   "metadata": {},
   "outputs": [],
   "source": [
    "#Note, i did fileNotFoundError in file handling using IOerror as IOerror is a more generay way to handle \n",
    "#input output errors i.e FileNotFoundError is a subtype of IO Error."
   ]
  },
  {
   "cell_type": "code",
   "execution_count": 17,
   "metadata": {},
   "outputs": [
    {
     "name": "stdout",
     "output_type": "stream",
     "text": [
      "b not declared to be used\n"
     ]
    }
   ],
   "source": [
    "#Let's learn about more errors\n",
    "try:\n",
    "    a = b\n",
    "except NameError:\n",
    "    print('b not declared to be used')\n",
    "except Error as e:\n",
    "    print('Unkown Error')"
   ]
  },
  {
   "cell_type": "code",
   "execution_count": 27,
   "metadata": {},
   "outputs": [
    {
     "name": "stdout",
     "output_type": "stream",
     "text": [
      "Exception raised\n",
      "Hello\n"
     ]
    }
   ],
   "source": [
    "try:\n",
    "    a = 10 + 20\n",
    "    raise Exception\n",
    "except Exception:\n",
    "    print(\"Exception raised\")\n",
    "else:\n",
    "    print('Hello')\n",
    "    \n",
    "\n",
    "\n",
    "try:\n",
    "    a = 10 + 20\n",
    "except Exception:\n",
    "    print(\"Exception raised\")\n",
    "else:\n",
    "    print('Hello')\n",
    "\n",
    "#Therefore else block will be executed only if no exception is raised in try block."
   ]
  },
  {
   "cell_type": "code",
   "execution_count": 28,
   "metadata": {},
   "outputs": [
    {
     "name": "stdout",
     "output_type": "stream",
     "text": [
      "Exception raised\n",
      "finally\n",
      "Hello\n",
      "finally\n"
     ]
    }
   ],
   "source": [
    "#Whereas finally block is always  exceuted , error generate hua ho ya nua hua ho(finally already discussed before)\n",
    "try:\n",
    "    a = 10 + 20\n",
    "    raise Exception\n",
    "except Exception:\n",
    "    print(\"Exception raised\")\n",
    "else:\n",
    "    print('Hello')\n",
    "finally:\n",
    "    print('finally')\n",
    "    \n",
    "\n",
    "\n",
    "try:\n",
    "    a = 10 + 20\n",
    "except Exception:\n",
    "    print(\"Exception raised\")\n",
    "else:\n",
    "    print('Hello')\n",
    "finally:\n",
    "    print('finally')"
   ]
  },
  {
   "cell_type": "code",
   "execution_count": null,
   "metadata": {},
   "outputs": [],
   "source": []
  }
 ],
 "metadata": {
  "kernelspec": {
   "display_name": "Python 3",
   "language": "python",
   "name": "python3"
  },
  "language_info": {
   "codemirror_mode": {
    "name": "ipython",
    "version": 3
   },
   "file_extension": ".py",
   "mimetype": "text/x-python",
   "name": "python",
   "nbconvert_exporter": "python",
   "pygments_lexer": "ipython3",
   "version": "3.7.6"
  }
 },
 "nbformat": 4,
 "nbformat_minor": 4
}
