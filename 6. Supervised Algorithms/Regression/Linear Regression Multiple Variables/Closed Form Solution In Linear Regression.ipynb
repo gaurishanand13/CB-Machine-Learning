{
 "cells": [
  {
   "cell_type": "code",
   "execution_count": 1,
   "metadata": {},
   "outputs": [],
   "source": [
    "import numpy as np\n",
    "import matplotlib.pyplot as plt\n",
    "import pandas as pd"
   ]
  },
  {
   "cell_type": "code",
   "execution_count": 14,
   "metadata": {},
   "outputs": [],
   "source": [
    "from sklearn.datasets import load_boston\n",
    "\n",
    "boston = load_boston()\n",
    "X = boston.data\n",
    "Y = boston.target\n",
    "\n",
    "u = np.mean(X,axis = 0)\n",
    "std = np.std(X,axis = 0)\n",
    "\n",
    "#Normalising the data\n",
    "X = (X - u)/std"
   ]
  },
  {
   "cell_type": "code",
   "execution_count": 15,
   "metadata": {},
   "outputs": [
    {
     "name": "stdout",
     "output_type": "stream",
     "text": [
      "(506, 13) (506,)\n"
     ]
    }
   ],
   "source": [
    "print(X.shape,Y.shape)"
   ]
  },
  {
   "cell_type": "code",
   "execution_count": 16,
   "metadata": {},
   "outputs": [
    {
     "name": "stdout",
     "output_type": "stream",
     "text": [
      "(506, 14)\n"
     ]
    }
   ],
   "source": [
    "ones = np.ones((X.shape[0])).reshape((X.shape[0],-1))\n",
    "\n",
    "X = np.concatenate((ones,X),axis = 1)\n",
    "print(X.shape)"
   ]
  },
  {
   "cell_type": "code",
   "execution_count": 17,
   "metadata": {},
   "outputs": [],
   "source": [
    "def hypothesis(X,theta):\n",
    "    return np.dot(X,theta)\n",
    "\n",
    "def getTheta_Using_ClosedForm(X,Y):\n",
    "    #Initially Y will be of the form (m,). But we need to make it of the form (m,1) as our formula is based on that\n",
    "    Y = Y.reshape((Y.shape[0],-1))\n",
    "    \n",
    "    first_part = np.dot(np.transpose(X),X)\n",
    "    #Finding inverse of the above matrix\n",
    "    first_part = np.linalg.pinv(first_part)\n",
    "    second_part = np.dot(np.transpose(X),Y)\n",
    "    thetas = np.dot(first_part,second_part)\n",
    "    \n",
    "    return thetas    "
   ]
  },
  {
   "cell_type": "code",
   "execution_count": 24,
   "metadata": {},
   "outputs": [
    {
     "name": "stdout",
     "output_type": "stream",
     "text": [
      "<class 'numpy.ndarray'>\n",
      "(14, 1)\n"
     ]
    }
   ],
   "source": [
    "theta = getTheta_Using_ClosedForm(X,Y)\n",
    "print(type(theta))\n",
    "print(theta.shape)"
   ]
  },
  {
   "cell_type": "code",
   "execution_count": 25,
   "metadata": {},
   "outputs": [
    {
     "name": "stdout",
     "output_type": "stream",
     "text": [
      "[[ 2.25328063e+01]\n",
      " [-9.28146064e-01]\n",
      " [ 1.08156863e+00]\n",
      " [ 1.40899997e-01]\n",
      " [ 6.81739725e-01]\n",
      " [-2.05671827e+00]\n",
      " [ 2.67423017e+00]\n",
      " [ 1.94660717e-02]\n",
      " [-3.10404426e+00]\n",
      " [ 2.66221764e+00]\n",
      " [-2.07678168e+00]\n",
      " [-2.06060666e+00]\n",
      " [ 8.49268418e-01]\n",
      " [-3.74362713e+00]]\n"
     ]
    }
   ],
   "source": [
    "print(theta)"
   ]
  },
  {
   "cell_type": "code",
   "execution_count": 26,
   "metadata": {},
   "outputs": [],
   "source": [
    "#Let's calculate the accuracy to confirm it\n",
    "def r2_score(Y,Y_):\n",
    "    numerator = np.sum((Y-Y_)**2)\n",
    "    denominator = np.sum((Y-Y.mean())**2)\n",
    "    score = 1 -(numerator/denominator)\n",
    "    return score*100"
   ]
  },
  {
   "cell_type": "code",
   "execution_count": 27,
   "metadata": {},
   "outputs": [
    {
     "data": {
      "text/plain": [
       "74.06426641094093"
      ]
     },
     "execution_count": 27,
     "metadata": {},
     "output_type": "execute_result"
    }
   ],
   "source": [
    "Y = Y.reshape((Y.shape[0],-1))\n",
    "r2_score(Y,hypothesis(X,theta))"
   ]
  },
  {
   "cell_type": "code",
   "execution_count": null,
   "metadata": {},
   "outputs": [],
   "source": []
  }
 ],
 "metadata": {
  "kernelspec": {
   "display_name": "Python 3",
   "language": "python",
   "name": "python3"
  },
  "language_info": {
   "codemirror_mode": {
    "name": "ipython",
    "version": 3
   },
   "file_extension": ".py",
   "mimetype": "text/x-python",
   "name": "python",
   "nbconvert_exporter": "python",
   "pygments_lexer": "ipython3",
   "version": "3.7.6"
  }
 },
 "nbformat": 4,
 "nbformat_minor": 4
}
