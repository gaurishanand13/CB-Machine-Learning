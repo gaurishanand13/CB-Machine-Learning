{
 "cells": [
  {
   "cell_type": "markdown",
   "metadata": {},
   "source": [
    "# OOPS in Python"
   ]
  },
  {
   "cell_type": "markdown",
   "metadata": {},
   "source": [
    "## Classes "
   ]
  },
  {
   "cell_type": "code",
   "execution_count": 2,
   "metadata": {},
   "outputs": [
    {
     "name": "stdout",
     "output_type": "stream",
     "text": [
      "Hello\n",
      "10\n",
      "<class '__main__.Person'>\n"
     ]
    }
   ],
   "source": [
    "class Person():\n",
    "    a = \"Hello\"\n",
    "    b = 10\n",
    "    \n",
    "myObject1 = Person()\n",
    "print(myObject1.a)\n",
    "print(myObject1.b)\n",
    "print(type(myObject1))"
   ]
  },
  {
   "cell_type": "code",
   "execution_count": 4,
   "metadata": {},
   "outputs": [
    {
     "name": "stdout",
     "output_type": "stream",
     "text": [
      "My name is Gaurish Anand. My age is 20\n",
      "My name is Navdha Chanana. My age is 21\n"
     ]
    }
   ],
   "source": [
    "#Note just like this in C++ class, we have self in python which represents the instance of the current class. Every \n",
    "#paramter/attribute of the class inside the class is accessed using self -> only by default\n",
    "\n",
    "#Also every function in a class, will accept first parameter as self\n",
    "class Person():\n",
    "    \n",
    "    def __init__(self,Pname,Page):\n",
    "        #This is the constructor of the class Person. Now here Pname and Page are the properties of an object of a clas\n",
    "        #The value of this name and age would be different for each object\n",
    "        self.name = Pname\n",
    "        self.age = Page\n",
    "        \n",
    "    #As discussed any function will be having its first parameter as self in a python class    \n",
    "    def introduce(self):\n",
    "        print(\"My name is {}. My age is {}\".format(self.name,self.age))\n",
    "\n",
    "        \n",
    "\n",
    "object1 = Person(\"Gaurish Anand\",20)\n",
    "object2 = Person(\"Navdha Chanana\",21)\n",
    "\n",
    "object1.introduce()\n",
    "object2.introduce()\n",
    "        "
   ]
  },
  {
   "cell_type": "code",
   "execution_count": 35,
   "metadata": {},
   "outputs": [
    {
     "name": "stdout",
     "output_type": "stream",
     "text": [
      "My name is Gaurish Anand. My age is 20.\n",
      "My Nationalities are  []\n",
      "My name is Navdha Chanana. My age is 21.\n",
      "My Nationalities are  []\n",
      "My name is Gaurish Anand. My age is 20.\n",
      "My Nationalities are  ['Indian', 'Mauratian']\n",
      "My name is Navdha Chanana. My age is 21.\n",
      "My Nationalities are  ['Indian', 'Mauratian']\n"
     ]
    }
   ],
   "source": [
    "#More examples of classes - \n",
    "#Now there are 2 types of variables in classes. One is class variable and the other is instance\n",
    "#variable. Class Variables are variables declared outside the init_block(i.e outside the constructor)\n",
    "#Whereas instance variable are variables declared inside the init_block and they would be allocated unique memory\n",
    "#for each object. But class variables will be shared i.e they would be comman to all objects i.e static variables. \n",
    "#Consider The Below Example\n",
    "class Person():\n",
    "    \n",
    "    nationality = []  #Class Variables i.e it would be shared by each block.\n",
    "    \n",
    "    def __init__(self,Pname,Page):\n",
    "        self.name = Pname#These both are instance variables.\n",
    "        self.age = Page\n",
    "        \n",
    "      \n",
    "    def introduce(self):\n",
    "        print(\"My name is {}. My age is {}.\".format(\n",
    "            self.name , self.age\n",
    "        ))\n",
    "        print(\"My Nationalities are \",self.nationality)\n",
    "    \n",
    "    \n",
    "    def addNationality(self,newNationality):\n",
    "        self.nationality.append(newNationality)\n",
    "    \n",
    "        \n",
    "        \n",
    "object1 = Person(\"Gaurish Anand\",20)\n",
    "object2 = Person(\"Navdha Chanana\",21)\n",
    "\n",
    "object1.introduce()\n",
    "object2.introduce()        \n",
    "\n",
    "object1.addNationality(\"Indian\")\n",
    "object2.addNationality(\"Mauratian\")\n",
    "\n",
    "object1.introduce()\n",
    "object2.introduce()"
   ]
  },
  {
   "cell_type": "code",
   "execution_count": 23,
   "metadata": {},
   "outputs": [
    {
     "name": "stdout",
     "output_type": "stream",
     "text": [
      "My name is Gaurish Anand. My age is 20. I am an Indian\n",
      "My name is Talin Hans. My age is 19. I am an Indian\n",
      "\n",
      " Output After Updating the nationality of only Talin \n",
      "My name is Gaurish Anand. My age is 20. I am an Indian\n",
      "My name is Talin Hans. My age is 19. I am an Usain\n"
     ]
    }
   ],
   "source": [
    "#Clearly though , we made changes in one of the object. But it was reflected in both the objects. But now consider, the \n",
    "#below code. Though here nationality is a class variable, but a change in is not reflected in other object as seen in\n",
    "#output. \n",
    "#Reason - When we try to change the object exclusively like Person.nationality , then it would be reflected\n",
    "#in all the outputs. \n",
    "#But if try to change the object exclusively using an object , then 2 things can happen. If we try to change an \n",
    "#mutable object, then changes will be made at that address only i.e changes will be made at the same address where static\n",
    "#variable is as changes can be made inside a mutable object.\n",
    "\n",
    "#But if we try to change a property which is immutable(e.g string,tuple,etc) through an object , Then we know no changes\n",
    "#can be made until we reassign a new memory to that variable like below code. Therefore python, instead of assigning\n",
    "#each object shared variable , new memory. It assigns the new memory to only that object which has initiated that change\n",
    "#i.e now nationality will become instance variable to object1. Whereas nationality will still be class variable to\n",
    "#object2 or any other new object made and this variable will still be shared among them(sharing means stores at same\n",
    "#memory location)\n",
    "If we try to change an immutable object\n",
    "class Person():\n",
    "    \n",
    "    nationality = \"Indian\"\n",
    "    \n",
    "    def __init__(self,Pname,Page):\n",
    "        self.name = Pname\n",
    "        self.age = Page\n",
    "        \n",
    "      \n",
    "    def introduce(self):\n",
    "        print(\"My name is {}. My age is {}. I am an {}\".format(\n",
    "            self.name , self.age , self.nationality\n",
    "        ))\n",
    "    \n",
    "    def updateNationality(self,newNationality):\n",
    "        self.nationality = newNationality\n",
    "    \n",
    "        \n",
    "        \n",
    "object1 = Person(\"Gaurish Anand\",20)\n",
    "object2 = Person(\"Talin Hans\",19)\n",
    "\n",
    "object1.introduce()\n",
    "object2.introduce()        \n",
    "\n",
    "object2.updateNationality(\"Usain\")\n",
    "print(\"\\n\",\"Output After Updating the nationality of only Talin \")\n",
    "\n",
    "object1.introduce()\n",
    "object2.introduce()\n",
    "        "
   ]
  },
  {
   "cell_type": "code",
   "execution_count": 12,
   "metadata": {},
   "outputs": [
    {
     "name": "stdout",
     "output_type": "stream",
     "text": [
      "Indian 0x10b9a9b70\n",
      "Indian 0x10b9a9b70\n",
      "Indian 0x10b9a9b70\n",
      "\n",
      "American 0x10b873930\n",
      "USAin 0x10b9587b0\n",
      "USAin 0x10b9587b0\n"
     ]
    }
   ],
   "source": [
    "class Person():\n",
    "    nationality = \"Indian\"\n",
    "    \n",
    "p1 = Person()\n",
    "p2 = Person()\n",
    "p3 = Person()\n",
    "\n",
    "\n",
    "#Initially the class variable will be having the same address i.e shared variables among all objects.\n",
    "print(p1.nationality , hex(id(p1.nationality)))\n",
    "print(p2.nationality , hex(id(p2.nationality)))\n",
    "print(p3.nationality , hex(id(p3.nationality)))\n",
    "\n",
    "print()\n",
    "\n",
    "#But after we try to change a immutable paramter using an object,then it becomes instance variable for that particular\n",
    "#object and other objects remain unaffected i.e for all other object that variable will be still shared. \n",
    "#But for p1, a seperate memory will be allocated to nationality i.e it would too become an instance variable for the \n",
    "#object. Hence is the result\n",
    "p1.nationality = \"American\"\n",
    "\n",
    "Person.nationality = \"USAin\"\n",
    "\n",
    "print(p1.nationality , hex(id(p1.nationality)))\n",
    "print(p2.nationality , hex(id(p2.nationality)))\n",
    "print(p3.nationality , hex(id(p3.nationality)))\n"
   ]
  },
  {
   "cell_type": "code",
   "execution_count": 36,
   "metadata": {},
   "outputs": [
    {
     "name": "stdout",
     "output_type": "stream",
     "text": [
      "My name is Gaurish Anand. My age is 20.\n",
      "My Nationalities are  []\n",
      "My name is Navdha Chanana. My age is 21.\n",
      "My Nationalities are  []\n",
      "My name is Gaurish Anand. My age is 20.\n",
      "My Nationalities are  ['Indian']\n",
      "My name is Navdha Chanana. My age is 21.\n",
      "My Nationalities are  ['Mauratian']\n"
     ]
    }
   ],
   "source": [
    "\"\"\"\n",
    "Therefore in every class -> Each variable declared in constructor would be unique for each object. But if not declared\n",
    "then it would be static i.e shared between all the objects. Therefore in above if i don't want functionalities to be shared\n",
    "by all the objects, do it like this\n",
    "\"\"\"\n",
    "class Person():\n",
    "\n",
    "    \n",
    "    def __init__(self,Pname,Page):\n",
    "        self.name = Pname\n",
    "        self.age = Page\n",
    "        self.nationality = []\n",
    "        \n",
    "      \n",
    "    def introduce(self):\n",
    "        print(\"My name is {}. My age is {}.\".format(\n",
    "            self.name , self.age\n",
    "        ))\n",
    "        print(\"My Nationalities are \",self.nationality)\n",
    "    \n",
    "    \n",
    "    def addNationality(self,newNationality):\n",
    "        self.nationality.append(newNationality)\n",
    "    \n",
    "        \n",
    "        \n",
    "object1 = Person(\"Gaurish Anand\",20)\n",
    "object2 = Person(\"Navdha Chanana\",21)\n",
    "\n",
    "object1.introduce()\n",
    "object2.introduce()        \n",
    "\n",
    "object1.addNationality(\"Indian\")\n",
    "object2.addNationality(\"Mauratian\")\n",
    "\n",
    "object1.introduce()\n",
    "object2.introduce()"
   ]
  },
  {
   "cell_type": "code",
   "execution_count": 22,
   "metadata": {},
   "outputs": [
    {
     "name": "stdout",
     "output_type": "stream",
     "text": [
      "Gaurish Anand 20 Male\n",
      "Navdha Chanana 21 Female\n"
     ]
    }
   ],
   "source": [
    "#Now if we want to make a variable or a function private, we should user __before a function or variable\n",
    "class Person():\n",
    "    \n",
    "    \n",
    "    def __init__(self,Pname,Page,Psex):\n",
    "        self.name = Pname\n",
    "        self.age = Page\n",
    "        self.__sex = Psex #Here __sex will be a private variable\n",
    "        \n",
    "    def getSex(self):\n",
    "        self.__printHello() #We can't access printHello from outside the class , as it is a private function.\n",
    "        return self.__sex\n",
    "    \n",
    "    def __printHello(self):\n",
    "        print(\"Hello\")\n",
    "        \n",
    "        \n",
    "object1 = Person(\"Gaurish Anand\",20,\"Male\")\n",
    "object2 = Person(\"Navdha Chanana\",21,\"Female\")\n",
    "\n",
    "print(object1.name , object1.age , object1.getSex()) #Since if we simply write object1.sex -> This would be an error as sex can't be accessed outside the class\n",
    "print(object2.name , object2.age , object2.getSex())\n"
   ]
  },
  {
   "cell_type": "markdown",
   "metadata": {},
   "source": [
    "### Ineheritence in Python"
   ]
  },
  {
   "cell_type": "code",
   "execution_count": 29,
   "metadata": {},
   "outputs": [
    {
     "name": "stdout",
     "output_type": "stream",
     "text": [
      "Derived Class\n",
      "Base Class\n",
      "Gaurish 20 100\n"
     ]
    }
   ],
   "source": [
    "class myBaseClass:\n",
    "    def __init__(self,name,age):\n",
    "        print(\"Base Class\")\n",
    "        self.name = name\n",
    "        self.age = age\n",
    "        \n",
    "    def introduce(self):\n",
    "        print(\"My name is {} and my age is {}\".format(self.name,self.age))\n",
    "        \n",
    "\n",
    "        \n",
    "#We can even mention , the multiple base classes in () for a dervied class where every class is seperated with ,\n",
    "class myDerivedClass(myBaseClass):\n",
    "    def __init__(self,name,age,marks):\n",
    "        print(\"Derived Class\")#Therefore it is not necessary in pyhon, that the object of base class is made before the object of the dervied class\n",
    "        myBaseClass.__init__(self,name,age)\n",
    "        self.marks = marks\n",
    "    \n",
    "    def printDetails(self):\n",
    "        print(self.name,self.age,self.marks)\n",
    "        \n",
    "myObject = myDerivedClass(\"Gaurish\",20,100)\n",
    "myObject.printDetails()\n"
   ]
  },
  {
   "cell_type": "markdown",
   "metadata": {},
   "source": [
    "## Now more knowledge of lists which is useful"
   ]
  },
  {
   "cell_type": "code",
   "execution_count": 2,
   "metadata": {},
   "outputs": [
    {
     "name": "stdout",
     "output_type": "stream",
     "text": [
      "<__main__.Person object at 0x10b9cf450>\n",
      "<__main__.Person object at 0x10b9cf510>\n",
      "<__main__.Person object at 0x10b9ca810>\n",
      "<__main__.Person object at 0x10b9ca890>\n"
     ]
    }
   ],
   "source": [
    "class Person():\n",
    "    nationality = \"Indian\"\n",
    "    def __init__(self,value):\n",
    "        self.value = value\n",
    "\n",
    "p1 = Person(3)\n",
    "p2 = Person(4)\n",
    "p3 = Person(5)\n",
    "p4 = Person(6)\n",
    "\n",
    "#Just see the addresses where these objects are allocated in heap Memory\n",
    "print(p1)\n",
    "print(p2)\n",
    "print(p3)\n",
    "print(p4)"
   ]
  },
  {
   "cell_type": "code",
   "execution_count": 3,
   "metadata": {},
   "outputs": [
    {
     "name": "stdout",
     "output_type": "stream",
     "text": [
      "10\n",
      "10\n",
      "10\n",
      "10\n",
      "10\n"
     ]
    }
   ],
   "source": [
    "mylist = [p1]*5 \n",
    "\n",
    "mylist[2].value = 10\n",
    "\n",
    "#All Values are turning out to be 10. But we made changes only in one block. Then how does this? -> See next block\n",
    "for x in mylist:\n",
    "    print(x.value)"
   ]
  },
  {
   "cell_type": "code",
   "execution_count": 8,
   "metadata": {},
   "outputs": [
    {
     "name": "stdout",
     "output_type": "stream",
     "text": [
      "<__main__.Person object at 0x10b9cf450>\n",
      "<__main__.Person object at 0x10b9cf450>\n",
      "<__main__.Person object at 0x10b9cf450>\n",
      "<__main__.Person object at 0x10b9cf450>\n",
      "<__main__.Person object at 0x10b9cf450>\n"
     ]
    }
   ],
   "source": [
    "print(*mylist,sep = '\\n') #So basically we made list using [p1]*5 , it just copies the same thing i.e the value at the same address is copies. \n",
    "#Therefore when we made change at only 1 index, it was reflecting at all indices because basically , it is the same object."
   ]
  },
  {
   "cell_type": "code",
   "execution_count": 9,
   "metadata": {},
   "outputs": [
    {
     "name": "stdout",
     "output_type": "stream",
     "text": [
      "10\n",
      "10\n",
      "10\n",
      "10\n",
      "10\n",
      "20\n",
      "10\n",
      "10\n",
      "10\n",
      "10\n"
     ]
    }
   ],
   "source": [
    "#But normally , it doesn't happend. It happens in case of objects like above or a list maybe\n",
    "a = 10\n",
    "myList = [a]*10\n",
    "myList[5] = 20\n",
    "for x in myList:\n",
    "    print(x)"
   ]
  },
  {
   "cell_type": "code",
   "execution_count": null,
   "metadata": {},
   "outputs": [],
   "source": []
  }
 ],
 "metadata": {
  "kernelspec": {
   "display_name": "Python 3",
   "language": "python",
   "name": "python3"
  },
  "language_info": {
   "codemirror_mode": {
    "name": "ipython",
    "version": 3
   },
   "file_extension": ".py",
   "mimetype": "text/x-python",
   "name": "python",
   "nbconvert_exporter": "python",
   "pygments_lexer": "ipython3",
   "version": "3.7.6"
  }
 },
 "nbformat": 4,
 "nbformat_minor": 4
}
