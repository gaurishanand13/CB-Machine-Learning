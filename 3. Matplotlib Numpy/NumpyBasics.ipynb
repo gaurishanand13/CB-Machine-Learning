{
 "cells": [
  {
   "cell_type": "code",
   "execution_count": 61,
   "metadata": {},
   "outputs": [],
   "source": [
    "#Numpty -  It is basically useful in linear algebra(matrix multiplication,transpose,etc), random number generator  etc.\n",
    "import numpy as np"
   ]
  },
  {
   "cell_type": "code",
   "execution_count": 62,
   "metadata": {},
   "outputs": [
    {
     "name": "stdout",
     "output_type": "stream",
     "text": [
      "[1 2 3 4 5]\n",
      "<class 'numpy.ndarray'>\n",
      "\n",
      "(5,)\n",
      "3\n"
     ]
    }
   ],
   "source": [
    "a = np.array([1,2,3,4,5]) #Always consider an array in numpy as a matrix only\n",
    "print(a)\n",
    "print(type(a))\n",
    "\n",
    "print()\n",
    "\n",
    "#Therefore above is a 5x1 matrix. Which we can calculate using shape property \n",
    "print(a.shape) #The array/matrix has 1 row and 5 columns. When we have only 1 row in the numpy array, then shape comes like this only\n",
    "print(a[2])#Accessing an element at some index in the array\n"
   ]
  },
  {
   "cell_type": "code",
   "execution_count": 63,
   "metadata": {},
   "outputs": [
    {
     "name": "stdout",
     "output_type": "stream",
     "text": [
      "15\n"
     ]
    }
   ],
   "source": [
    "print(np.sum(a))"
   ]
  },
  {
   "cell_type": "code",
   "execution_count": 20,
   "metadata": {},
   "outputs": [
    {
     "name": "stdout",
     "output_type": "stream",
     "text": [
      "<class 'numpy.ndarray'>\n",
      "[[1]\n",
      " [2]\n",
      " [3]\n",
      " [4]\n",
      " [5]]\n",
      "\n",
      "Shape =  (5, 1)\n",
      "3\n"
     ]
    }
   ],
   "source": [
    "b = np.array([ [1], [2] , [3] , [4] , [5] ])\n",
    "print(type(b))\n",
    "print(b)\n",
    "\n",
    "print()\n",
    "\n",
    "print(\"Shape = \", b.shape) #Therefore it has 5 rows and 1 column. Therefore shape basically gives the dimensions of shape in the form of tuple\n",
    "print(b[2][0])\n",
    "#print(b[2][1])-> this is an error as in the 2nd row , we don't have any 1st index in column\n"
   ]
  },
  {
   "cell_type": "code",
   "execution_count": 17,
   "metadata": {},
   "outputs": [
    {
     "name": "stdout",
     "output_type": "stream",
     "text": [
      "Shape =  (2, 3)\n",
      "[[1 2 3]\n",
      " [4 5 6]]\n",
      "\n",
      "5\n"
     ]
    }
   ],
   "source": [
    "c = np.array([ \n",
    "    [1,2,3], \n",
    "    [4,5,6] \n",
    "])\n",
    "print(\"Shape = \", c.shape)\n",
    "print(c)\n",
    "\n",
    "print()\n",
    "print(c[1][1])"
   ]
  },
  {
   "cell_type": "code",
   "execution_count": 24,
   "metadata": {},
   "outputs": [
    {
     "name": "stdout",
     "output_type": "stream",
     "text": [
      "[[0. 0. 0. 0.]\n",
      " [0. 0. 0. 0.]\n",
      " [0. 0. 0. 0.]]\n"
     ]
    }
   ],
   "source": [
    "#We can make a numpy array(or matrix) where all elements will be zeroes or all ones or some other constant\n",
    "a = np.zeros((3,4)) #It will make an array(or matrix) of size 3x4 with all the elements initialized with 0\n",
    "print(a)"
   ]
  },
  {
   "cell_type": "code",
   "execution_count": 25,
   "metadata": {},
   "outputs": [
    {
     "name": "stdout",
     "output_type": "stream",
     "text": [
      "[[1. 1. 1.]\n",
      " [1. 1. 1.]]\n"
     ]
    }
   ],
   "source": [
    "#an array initialised all elements with one\n",
    "b = np.ones((2,3))\n",
    "print(b)"
   ]
  },
  {
   "cell_type": "code",
   "execution_count": 26,
   "metadata": {},
   "outputs": [
    {
     "name": "stdout",
     "output_type": "stream",
     "text": [
      "[[100 100]\n",
      " [100 100]\n",
      " [100 100]]\n"
     ]
    }
   ],
   "source": [
    "#Initialising all the elements of the array with some constant\n",
    "c = np.full((3,2),100)  #Therefore it makes a matrix of dimensions 3x2 with all elements initialised with 100\n",
    "print(c)"
   ]
  },
  {
   "cell_type": "code",
   "execution_count": 27,
   "metadata": {},
   "outputs": [
    {
     "name": "stdout",
     "output_type": "stream",
     "text": [
      "<class 'numpy.float64'>\n",
      "<class 'numpy.float64'>\n",
      "<class 'numpy.int64'>\n"
     ]
    }
   ],
   "source": [
    "#Now we should observe the data type of element initialised above\n",
    "print(type(a[0][0])) #Or we can also get the data type of element in the matrix using (a.dtype) -> it is the same thing\n",
    "print(type(b[0][0]))\n",
    "print(type(c[0][0]))"
   ]
  },
  {
   "cell_type": "code",
   "execution_count": 28,
   "metadata": {},
   "outputs": [
    {
     "name": "stdout",
     "output_type": "stream",
     "text": [
      "[[0 0 0]\n",
      " [0 0 0]]\n",
      "[[1 1 1]\n",
      " [1 1 1]]\n"
     ]
    }
   ],
   "source": [
    "#Therefore when we initialize the array with zeroes or one, the default data type set of each element is a float. \n",
    "#But if we want, that it should be any other than float. Like we want to be an int. Then do like this ->\n",
    "a = np.zeros((2,3),dtype=np.int64)\n",
    "print(a)\n",
    "b = np.ones((2,3),dtype=np.int64)\n",
    "print(b)"
   ]
  },
  {
   "cell_type": "code",
   "execution_count": 85,
   "metadata": {},
   "outputs": [
    {
     "name": "stdout",
     "output_type": "stream",
     "text": [
      "[0 1 2 3 4 5 6 7 8 9]\n"
     ]
    }
   ],
   "source": [
    "#We can also make a 1d numpy array like this ->\n",
    "a = np.arange(10)#Here each element will be equal to index i\n",
    "print(a)"
   ]
  },
  {
   "cell_type": "code",
   "execution_count": 86,
   "metadata": {},
   "outputs": [
    {
     "name": "stdout",
     "output_type": "stream",
     "text": [
      "[ 5  6  7  8  9 10 11 12 13 14]\n"
     ]
    }
   ],
   "source": [
    "a = np.arange(10)+5#Here each element will be equal to index i+5\n",
    "print(a)"
   ]
  },
  {
   "cell_type": "markdown",
   "metadata": {},
   "source": [
    "### Making Identity matrix in numpy"
   ]
  },
  {
   "cell_type": "code",
   "execution_count": 29,
   "metadata": {},
   "outputs": [
    {
     "name": "stdout",
     "output_type": "stream",
     "text": [
      "[[1. 0. 0. 0. 0.]\n",
      " [0. 1. 0. 0. 0.]\n",
      " [0. 0. 1. 0. 0.]\n",
      " [0. 0. 0. 1. 0.]\n",
      " [0. 0. 0. 0. 1.]]\n"
     ]
    }
   ],
   "source": [
    "myIdentityMatrix = np.eye(5)# Identity matrix of size 5x5 as identity matrix are always sqaure\n",
    "print(myIdentityMatrix)"
   ]
  },
  {
   "cell_type": "code",
   "execution_count": 30,
   "metadata": {},
   "outputs": [
    {
     "name": "stdout",
     "output_type": "stream",
     "text": [
      "[[1 0 0 0 0]\n",
      " [0 1 0 0 0]\n",
      " [0 0 1 0 0]\n",
      " [0 0 0 1 0]\n",
      " [0 0 0 0 1]]\n"
     ]
    }
   ],
   "source": [
    "#again we make the dtype of the above identity matrix as int\n",
    "myIdentityMatrix = np.eye(5,dtype=np.int64)\n",
    "print(myIdentityMatrix)"
   ]
  },
  {
   "cell_type": "code",
   "execution_count": 167,
   "metadata": {},
   "outputs": [],
   "source": [
    "#See about how to calculate transpose, adding scalar to matrix and multiplying scalar to matrix from down in matrix \n",
    "#and tensor section"
   ]
  },
  {
   "cell_type": "markdown",
   "metadata": {},
   "source": [
    "### Slicing in matrices(or Numpy Array)"
   ]
  },
  {
   "cell_type": "code",
   "execution_count": 32,
   "metadata": {},
   "outputs": [
    {
     "name": "stdout",
     "output_type": "stream",
     "text": [
      "[[ 1  2  3  4]\n",
      " [ 2  4  6 20]\n",
      " [10 13 15 18]]\n"
     ]
    }
   ],
   "source": [
    "myNumpyArray = np.array([\n",
    "    [1,2,3,4],\n",
    "    [2,4,6,20],\n",
    "    [10,13,15,18]\n",
    "])\n",
    "print(myNumpyArray)"
   ]
  },
  {
   "cell_type": "code",
   "execution_count": 34,
   "metadata": {},
   "outputs": [
    {
     "name": "stdout",
     "output_type": "stream",
     "text": [
      "[ 3  6 15]\n"
     ]
    }
   ],
   "source": [
    "#Now get me all the elements of 2nd index column\n",
    "print(myNumpyArray[:,2])"
   ]
  },
  {
   "cell_type": "code",
   "execution_count": 33,
   "metadata": {},
   "outputs": [
    {
     "name": "stdout",
     "output_type": "stream",
     "text": [
      "[ 4  6 20]\n"
     ]
    }
   ],
   "source": [
    "#Now what we want is all elements of 1st row starting from 1st index\n",
    "print(myNumpyArray[1,1:])#Always returned in the form of list"
   ]
  },
  {
   "cell_type": "code",
   "execution_count": 35,
   "metadata": {},
   "outputs": [
    {
     "name": "stdout",
     "output_type": "stream",
     "text": [
      "[[   1    2    3    4]\n",
      " [   2    4    6   20]\n",
      " [  10 1000 1000 1000]]\n"
     ]
    }
   ],
   "source": [
    "#We can also update elements together of rows or columns\n",
    "#E.g - Update the elements at 2nd row index(from column index = 1) as 1000\n",
    "myNumpyArray[2,1:] = 1000\n",
    "print(myNumpyArray)"
   ]
  },
  {
   "cell_type": "code",
   "execution_count": 36,
   "metadata": {},
   "outputs": [
    {
     "name": "stdout",
     "output_type": "stream",
     "text": [
      "[[0 0 0 0]\n",
      " [0 0 0 0]\n",
      " [0 0 0 0]]\n"
     ]
    }
   ],
   "source": [
    "#We can also set all the elements to a particular value using slicing like this.\n",
    "myNumpyArray[:,:] = 0\n",
    "print(myNumpyArray)"
   ]
  },
  {
   "cell_type": "code",
   "execution_count": 37,
   "metadata": {},
   "outputs": [
    {
     "name": "stdout",
     "output_type": "stream",
     "text": [
      "[[ 0  0 19  0]\n",
      " [ 0  0 19  0]\n",
      " [ 0  0  0  0]]\n"
     ]
    }
   ],
   "source": [
    "#Now what i want is set all the values in column index = 2 to 19 (values to be updated only till 2nd last row)\n",
    "myNumpyArray[:-1,2] = 19\n",
    "print(myNumpyArray)"
   ]
  },
  {
   "cell_type": "markdown",
   "metadata": {},
   "source": [
    "### Sum in numpy array."
   ]
  },
  {
   "cell_type": "code",
   "execution_count": 65,
   "metadata": {},
   "outputs": [
    {
     "name": "stdout",
     "output_type": "stream",
     "text": [
      "98\n"
     ]
    }
   ],
   "source": [
    "myNumpyArray = np.array([\n",
    "    [1,2,3,4],\n",
    "    [2,4,6,20],\n",
    "    [10,13,15,18]\n",
    "])\n",
    "\n",
    "print(np.sum(myNumpyArray)) #It calculates the sum of each element in the matrix"
   ]
  },
  {
   "cell_type": "code",
   "execution_count": 67,
   "metadata": {},
   "outputs": [
    {
     "name": "stdout",
     "output_type": "stream",
     "text": [
      "[13 19 24 42]\n"
     ]
    }
   ],
   "source": [
    "#Now what we want is get the sum column wise \n",
    "print(np.sum(myNumpyArray,axis=0))#Therefore clearly sum of elements in -->\n",
    "# 1st Column - 13\n",
    "# 2nd Column - 19\n",
    "# 3rd Column - 24\n",
    "# 4th Column - 42"
   ]
  },
  {
   "cell_type": "code",
   "execution_count": 68,
   "metadata": {},
   "outputs": [
    {
     "name": "stdout",
     "output_type": "stream",
     "text": [
      "[10 32 56]\n"
     ]
    }
   ],
   "source": [
    "#We can also get the sum row wise\n",
    "print(np.sum(myNumpyArray,axis=1))\n",
    "\n",
    "#Therefore axis = 0 is the vertical axis and when axis = 1, it corresponds to horizontal axis"
   ]
  },
  {
   "cell_type": "markdown",
   "metadata": {},
   "source": [
    "### Stacking of arrays together"
   ]
  },
  {
   "cell_type": "code",
   "execution_count": 76,
   "metadata": {},
   "outputs": [
    {
     "name": "stdout",
     "output_type": "stream",
     "text": [
      "[[1 2 3 4]\n",
      " [5 6 7 8]]\n"
     ]
    }
   ],
   "source": [
    "a = np.array([1,2,3,4])\n",
    "\n",
    "b = np.array([5,6,7,8])\n",
    "\n",
    "#Stacking means joinging 2 numpy arrays together to form a new numpy array of bigger dimension\n",
    "print(np.stack((a,b),axis = 0))"
   ]
  },
  {
   "cell_type": "code",
   "execution_count": 75,
   "metadata": {},
   "outputs": [
    {
     "name": "stdout",
     "output_type": "stream",
     "text": [
      "[[1 5]\n",
      " [2 6]\n",
      " [3 7]\n",
      " [4 8]]\n"
     ]
    }
   ],
   "source": [
    "print(np.stack((a,b),axis = 1))"
   ]
  },
  {
   "cell_type": "markdown",
   "metadata": {},
   "source": [
    "### Reshaping a Numpy Array"
   ]
  },
  {
   "cell_type": "code",
   "execution_count": 80,
   "metadata": {},
   "outputs": [
    {
     "name": "stdout",
     "output_type": "stream",
     "text": [
      "[[ 1  2  3  4]\n",
      " [ 5  6  7  8]\n",
      " [ 9 10 11 12]]\n"
     ]
    }
   ],
   "source": [
    "a = np.array([\n",
    "    [1,2],\n",
    "    [3,4],\n",
    "    [5,6],\n",
    "    [7,8],\n",
    "    [9,10],\n",
    "    [11,12]\n",
    "])\n",
    "a = a.reshape((3,4)) #Therefore it will sort the array, and then reshape it into a 3x4 Matrix\n",
    "print(a)"
   ]
  },
  {
   "cell_type": "code",
   "execution_count": 81,
   "metadata": {},
   "outputs": [
    {
     "name": "stdout",
     "output_type": "stream",
     "text": [
      "[[ 1  2  3  4  5  6]\n",
      " [ 7  8  9 10 11 12]]\n"
     ]
    }
   ],
   "source": [
    "print(a.reshape(2,6))"
   ]
  },
  {
   "cell_type": "code",
   "execution_count": 83,
   "metadata": {},
   "outputs": [
    {
     "name": "stdout",
     "output_type": "stream",
     "text": [
      "[[ 1  2  3  4  5  6]\n",
      " [ 7  8  9 10 11 12]]\n"
     ]
    }
   ],
   "source": [
    "#For example, we don't know. How much elements are there in the numpy array. But all we know is after reshaping\n",
    "#it should have 6 columns. Then we can put -1 on row side\n",
    "print(a.reshape(-1,6))"
   ]
  },
  {
   "cell_type": "markdown",
   "metadata": {},
   "source": [
    "## Mathematical Operatios like additon, subtraction,matrix multiplication,etc"
   ]
  },
  {
   "cell_type": "code",
   "execution_count": 39,
   "metadata": {},
   "outputs": [],
   "source": [
    "x = np.array([\n",
    "    [1,2],\n",
    "    [3,4]\n",
    "])\n",
    "y = np.array([\n",
    "    [5,6],\n",
    "    [7,8]\n",
    "])"
   ]
  },
  {
   "cell_type": "code",
   "execution_count": 47,
   "metadata": {},
   "outputs": [
    {
     "name": "stdout",
     "output_type": "stream",
     "text": [
      "[[ 6  8]\n",
      " [10 12]]\n",
      "\n",
      "[[ 6  8]\n",
      " [10 12]]\n"
     ]
    }
   ],
   "source": [
    "#Element wise addition\n",
    "print(x+y)\n",
    "\n",
    "print()\n",
    "\n",
    "#We can also perform the addition operation like this ->\n",
    "print(np.add(x,y))"
   ]
  },
  {
   "cell_type": "code",
   "execution_count": 48,
   "metadata": {},
   "outputs": [
    {
     "name": "stdout",
     "output_type": "stream",
     "text": [
      "[[-4 -4]\n",
      " [-4 -4]]\n",
      "\n",
      "[[-4 -4]\n",
      " [-4 -4]]\n"
     ]
    }
   ],
   "source": [
    "#Element wise subtraction\n",
    "print(x-y)\n",
    "\n",
    "print()\n",
    "\n",
    "#We can also perform the subtraction operation like this ->\n",
    "print(np.subtract(x,y))"
   ]
  },
  {
   "cell_type": "code",
   "execution_count": 49,
   "metadata": {},
   "outputs": [
    {
     "name": "stdout",
     "output_type": "stream",
     "text": [
      "[[ 5 12]\n",
      " [21 32]]\n",
      "\n",
      "[[ 5 12]\n",
      " [21 32]]\n"
     ]
    }
   ],
   "source": [
    "#Element wise multiplication\n",
    "print(x*y)\n",
    "\n",
    "print()\n",
    "\n",
    "#We can also perform the mulitplication operation like this ->\n",
    "print(np.multiply(x,ykm,"
   ]
  },
  {
   "cell_type": "code",
   "execution_count": 51,
   "metadata": {},
   "outputs": [
    {
     "name": "stdout",
     "output_type": "stream",
     "text": [
      "[[0.2        0.33333333]\n",
      " [0.42857143 0.5       ]]\n",
      "\n",
      "[[0.2        0.33333333]\n",
      " [0.42857143 0.5       ]]\n"
     ]
    }
   ],
   "source": [
    "#Element wise dvision\n",
    "print(x/y)\n",
    "\n",
    "print()\n",
    "\n",
    "#We can also perform the division operation like this ->\n",
    "print(np.divide(x,y))"
   ]
  },
  {
   "cell_type": "code",
   "execution_count": 45,
   "metadata": {},
   "outputs": [
    {
     "name": "stdout",
     "output_type": "stream",
     "text": [
      "[[   1   32]\n",
      " [ 243 1024]]\n"
     ]
    }
   ],
   "source": [
    "#Now what we want is store x^5 for each element in the matrix or numpy array\n",
    "print(x**5)"
   ]
  },
  {
   "cell_type": "code",
   "execution_count": 52,
   "metadata": {},
   "outputs": [
    {
     "name": "stdout",
     "output_type": "stream",
     "text": [
      "[[1.         1.41421356]\n",
      " [1.73205081 2.        ]]\n",
      "\n",
      "[[1.         1.41421356]\n",
      " [1.73205081 2.        ]]\n"
     ]
    }
   ],
   "source": [
    "#We can also store the sqrt of each element in the array like this ->\n",
    "print(x**(0.5))\n",
    "\n",
    "print()\n",
    "\n",
    "print(np.sqrt(x))"
   ]
  },
  {
   "cell_type": "markdown",
   "metadata": {},
   "source": [
    "#### MATRIX MULTIPLICATION / DOT PRODUCT"
   ]
  },
  {
   "cell_type": "code",
   "execution_count": 53,
   "metadata": {},
   "outputs": [],
   "source": [
    "x = np.array([\n",
    "    [1,2],\n",
    "    [3,4]\n",
    "])\n",
    "y = np.array([\n",
    "    [4,5],\n",
    "    [6,7]\n",
    "])"
   ]
  },
  {
   "cell_type": "code",
   "execution_count": 55,
   "metadata": {},
   "outputs": [
    {
     "name": "stdout",
     "output_type": "stream",
     "text": [
      "[[16 19]\n",
      " [36 43]]\n",
      "\n",
      "[[16 19]\n",
      " [36 43]]\n"
     ]
    }
   ],
   "source": [
    "#Dot Product is basically matrix multiplication , as we are basically making a dot product of row of 1st \n",
    "#matrix with column of 2nd matrix in matrix multiplication\n",
    "print(x.dot(y))\n",
    "\n",
    "print()\n",
    "\n",
    "print(np.dot(x,y))#Both the syntax perform the same operations"
   ]
  },
  {
   "cell_type": "code",
   "execution_count": 57,
   "metadata": {},
   "outputs": [],
   "source": [
    "#Therefore dot product of 2 numpy array will look like this ->\n",
    "x = np.array([1,2,3])\n",
    "y = np.array([4,5,6])"
   ]
  },
  {
   "cell_type": "code",
   "execution_count": 58,
   "metadata": {},
   "outputs": [
    {
     "name": "stdout",
     "output_type": "stream",
     "text": [
      "32\n",
      "32\n"
     ]
    }
   ],
   "source": [
    "print(np.dot(x,y))\n",
    "print(x.dot(y)) #32 = 1.4 + 2.5 + 3.6"
   ]
  },
  {
   "cell_type": "markdown",
   "metadata": {},
   "source": [
    "## Numpy Random"
   ]
  },
  {
   "cell_type": "markdown",
   "metadata": {},
   "source": [
    "#### SHUFFLE"
   ]
  },
  {
   "cell_type": "code",
   "execution_count": 89,
   "metadata": {},
   "outputs": [
    {
     "name": "stdout",
     "output_type": "stream",
     "text": [
      "[3 4 5 6 7 8 9]\n",
      "(7,)\n"
     ]
    }
   ],
   "source": [
    "a = np.arange(7) +3\n",
    "print(a)\n",
    "print(a.shape)"
   ]
  },
  {
   "cell_type": "code",
   "execution_count": 92,
   "metadata": {},
   "outputs": [
    {
     "name": "stdout",
     "output_type": "stream",
     "text": [
      "[7 9 8 4 3 6 5]\n"
     ]
    }
   ],
   "source": [
    "np.random.shuffle(a)\n",
    "print(a)"
   ]
  },
  {
   "cell_type": "code",
   "execution_count": 111,
   "metadata": {},
   "outputs": [
    {
     "name": "stdout",
     "output_type": "stream",
     "text": [
      "[[4 5 6]\n",
      " [1 2 3]]\n"
     ]
    }
   ],
   "source": [
    "#Generally shuffle is used only for 1d array like above, it will be very rarely used for for 2d array\n",
    "a = np.array([\n",
    "    [1,2,3],\n",
    "    [4,5,6]\n",
    "])\n",
    "\n",
    "#It will sort the numpy array row wise\n",
    "np.random.shuffle(a)\n",
    "print(a)"
   ]
  },
  {
   "cell_type": "markdown",
   "metadata": {},
   "source": [
    "#### RAND"
   ]
  },
  {
   "cell_type": "code",
   "execution_count": 119,
   "metadata": {},
   "outputs": [
    {
     "name": "stdout",
     "output_type": "stream",
     "text": [
      "[[0.27647605 0.28428323]\n",
      " [0.51990684 0.06608722]\n",
      " [0.52318767 0.66000244]]\n"
     ]
    }
   ],
   "source": [
    "a = np.random.rand(3,2) #here random.rand generates a numpy array of size 3x2. It initialises the array \n",
    "#with random values with all values between 0 and 1\n",
    "print(a)"
   ]
  },
  {
   "cell_type": "markdown",
   "metadata": {},
   "source": [
    "#### RANDN"
   ]
  },
  {
   "cell_type": "code",
   "execution_count": 120,
   "metadata": {},
   "outputs": [
    {
     "name": "stdout",
     "output_type": "stream",
     "text": [
      "[[ 0.53712664  1.67241761 -1.03413208]\n",
      " [ 0.48822509 -2.41550732  0.35110042]]\n"
     ]
    }
   ],
   "source": [
    "#Randn works same as Rand i.e generates a numpy array of randomly generated numbers. But this time, randomly generated\n",
    "#values are from a standard normal distribution\n",
    "a = np.random.randn(2,3)\n",
    "print(a)"
   ]
  },
  {
   "cell_type": "markdown",
   "metadata": {},
   "source": [
    "#### CHOICE"
   ]
  },
  {
   "cell_type": "code",
   "execution_count": 123,
   "metadata": {},
   "outputs": [
    {
     "name": "stdout",
     "output_type": "stream",
     "text": [
      "5\n"
     ]
    }
   ],
   "source": [
    "#It picks randomly a number at the random index \n",
    "a  = np.array([1,2,3,4,5,6])\n",
    "print(np.random.choice(a))"
   ]
  },
  {
   "cell_type": "code",
   "execution_count": 124,
   "metadata": {},
   "outputs": [
    {
     "name": "stdout",
     "output_type": "stream",
     "text": [
      "21\n"
     ]
    }
   ],
   "source": [
    "#It can even pick a number randomly from a list\n",
    "myList = [1,230,21,11]\n",
    "print(np.random.choice(myList))"
   ]
  },
  {
   "cell_type": "markdown",
   "metadata": {},
   "source": [
    "#### RANDINT"
   ]
  },
  {
   "cell_type": "code",
   "execution_count": 126,
   "metadata": {},
   "outputs": [
    {
     "name": "stdout",
     "output_type": "stream",
     "text": [
      "[23 35 24 26 22 40 31 33 30 35]\n"
     ]
    }
   ],
   "source": [
    "a = np.random.randint(20,50,10) #It will generate a random numpy array of size = 10 , with all elements between 20 and 50\n",
    "print(a)"
   ]
  },
  {
   "cell_type": "markdown",
   "metadata": {},
   "source": [
    "#### RANDOM"
   ]
  },
  {
   "cell_type": "code",
   "execution_count": null,
   "metadata": {},
   "outputs": [],
   "source": []
  },
  {
   "cell_type": "code",
   "execution_count": null,
   "metadata": {},
   "outputs": [],
   "source": []
  },
  {
   "cell_type": "code",
   "execution_count": 129,
   "metadata": {},
   "outputs": [],
   "source": [
    "#All the random numbers generated in numpy are generated through pseudo random number generators. Therefore\n",
    "#if we want, evertime we generate a random number, the sequence of random numbers generated should be same. Then we\n",
    "#should fix the seed value of the numbers generated. So that the pattern of random numnbers generated should be same\n",
    "#everytime we run our code.\n",
    "np.random.seed(1)"
   ]
  },
  {
   "cell_type": "markdown",
   "metadata": {},
   "source": [
    "# STATISTICAL FUNCTIONS IN NUMPY"
   ]
  },
  {
   "cell_type": "code",
   "execution_count": 133,
   "metadata": {},
   "outputs": [
    {
     "name": "stdout",
     "output_type": "stream",
     "text": [
      "-1\n",
      "20\n"
     ]
    }
   ],
   "source": [
    "a = np.array([1,2,20,-1,5])\n",
    "print(np.min(a)) #It will find the minimum element(or Numpy array) in the vector(Obviously column or row matrix can be seen as a vector)\n",
    "print(np.max(a)) #It will find the maximum element(or Numpy array) in the vector"
   ]
  },
  {
   "cell_type": "code",
   "execution_count": 130,
   "metadata": {},
   "outputs": [
    {
     "name": "stdout",
     "output_type": "stream",
     "text": [
      "-1\n",
      "7\n"
     ]
    }
   ],
   "source": [
    "a = np.array([\n",
    "    [1,2,3,4],\n",
    "    [7,6,2,-1]\n",
    "])\n",
    "\n",
    "print(np.min(a)) #It will find the minimum element(or Numpy array) in the matrix\n",
    "print(np.max(a)) #It will find the maximum element(or Numpy array) in the matrix"
   ]
  },
  {
   "cell_type": "code",
   "execution_count": 131,
   "metadata": {},
   "outputs": [
    {
     "name": "stdout",
     "output_type": "stream",
     "text": [
      "[ 1 -1]\n"
     ]
    }
   ],
   "source": [
    "#We can also get the minimum row wise i.e minimum in each row\n",
    "print(np.min(a,axis = 1))"
   ]
  },
  {
   "cell_type": "code",
   "execution_count": 132,
   "metadata": {},
   "outputs": [
    {
     "name": "stdout",
     "output_type": "stream",
     "text": [
      "[ 1  2  2 -1]\n"
     ]
    }
   ],
   "source": [
    "#We can also get the minimum column wise i.e minimum in each column\n",
    "print(np.min(a,axis = 0))"
   ]
  },
  {
   "cell_type": "markdown",
   "metadata": {},
   "source": [
    "#### Mean"
   ]
  },
  {
   "cell_type": "code",
   "execution_count": 134,
   "metadata": {},
   "outputs": [
    {
     "name": "stdout",
     "output_type": "stream",
     "text": [
      "2.2\n"
     ]
    }
   ],
   "source": [
    "b = np.array([3,1,-1,2,6])\n",
    "\n",
    "print(np.mean(b))"
   ]
  },
  {
   "cell_type": "code",
   "execution_count": 135,
   "metadata": {},
   "outputs": [
    {
     "name": "stdout",
     "output_type": "stream",
     "text": [
      "3.0\n"
     ]
    }
   ],
   "source": [
    "a = np.array([\n",
    "    [1,2,3,4],\n",
    "    [7,6,2,-1]\n",
    "])\n",
    "print(np.mean(a))"
   ]
  },
  {
   "cell_type": "code",
   "execution_count": 136,
   "metadata": {},
   "outputs": [
    {
     "name": "stdout",
     "output_type": "stream",
     "text": [
      "[4.  4.  2.5 1.5]\n",
      "[2.5 3.5]\n"
     ]
    }
   ],
   "source": [
    "#For a matrix, we can also calculate mean row wise or column wise like this\n",
    "print(np.mean(a,axis = 0)) #Mean column wise\n",
    "print(np.mean(a,axis = 1)) #Mean row wise"
   ]
  },
  {
   "cell_type": "markdown",
   "metadata": {},
   "source": [
    "#### Median "
   ]
  },
  {
   "cell_type": "code",
   "execution_count": 137,
   "metadata": {},
   "outputs": [
    {
     "name": "stdout",
     "output_type": "stream",
     "text": [
      "2.0\n"
     ]
    }
   ],
   "source": [
    "b = np.array([3,1,-1,2,6])\n",
    "print(np.median(b)) # Median = Middle element aftering arranging the elements in the sorted order"
   ]
  },
  {
   "cell_type": "code",
   "execution_count": 143,
   "metadata": {},
   "outputs": [
    {
     "name": "stdout",
     "output_type": "stream",
     "text": [
      "2.5\n"
     ]
    }
   ],
   "source": [
    "a = np.array([\n",
    "    [1,2,3,4],\n",
    "    [7,6,2,-1]\n",
    "])\n",
    "print(np.median(a))"
   ]
  },
  {
   "cell_type": "markdown",
   "metadata": {},
   "source": [
    "#### Average - (Note Average is different from mean)"
   ]
  },
  {
   "cell_type": "code",
   "execution_count": 144,
   "metadata": {},
   "outputs": [
    {
     "name": "stdout",
     "output_type": "stream",
     "text": [
      "3.0\n"
     ]
    }
   ],
   "source": [
    "c = np.array([1,5,2,4])\n",
    "print(np.mean(c))"
   ]
  },
  {
   "cell_type": "code",
   "execution_count": 145,
   "metadata": {},
   "outputs": [
    {
     "name": "stdout",
     "output_type": "stream",
     "text": [
      "2.619047619047619\n"
     ]
    }
   ],
   "source": [
    "#Note average is calcualated for a numpy array with respect to Weights. Therefore average is actually a weighted mean\n",
    "#Eg - let weights be\n",
    "wt = np.array([5,6,10,0])\n",
    "print(np.average(c,weights = wt)) #Actually average is (np.dot(c,wt)/(sizeOfc)) i.e \n",
    "#(1*5 + 6*5 + 10*2 +4*0)/(sum of weights) = 55/21"
   ]
  },
  {
   "cell_type": "code",
   "execution_count": 146,
   "metadata": {},
   "outputs": [
    {
     "name": "stdout",
     "output_type": "stream",
     "text": [
      "3.0\n"
     ]
    }
   ],
   "source": [
    "#If we want that average and mean should be equal, then wts should look like this\n",
    "wt = np.array([1,1,1,1])\n",
    "print(np.average(c,weights = wt))"
   ]
  },
  {
   "cell_type": "code",
   "execution_count": 149,
   "metadata": {},
   "outputs": [
    {
     "name": "stdout",
     "output_type": "stream",
     "text": [
      "2.6532998322843198\n"
     ]
    }
   ],
   "source": [
    "##Calculating standard deviation\n",
    "c = np.array([4,5,3,7,-1])\n",
    "standardDeviation = np.std(c)\n",
    "print(standardDeviation)\n"
   ]
  },
  {
   "cell_type": "code",
   "execution_count": 150,
   "metadata": {},
   "outputs": [
    {
     "name": "stdout",
     "output_type": "stream",
     "text": [
      "7.039999999999999\n",
      "7.039999999999999\n"
     ]
    }
   ],
   "source": [
    "#Actually variable = (standardDeviation)^2\n",
    "print(standardDeviation**2)\n",
    "#But we can directly calculate variance too->\n",
    "deviation = np.var(c)\n",
    "print(deviation)"
   ]
  },
  {
   "cell_type": "markdown",
   "metadata": {},
   "source": [
    "## Representation of VECTORS,MATRICES in NUMPY (I have already done it above, i am just making it clear, what above arrays would be called)"
   ]
  },
  {
   "cell_type": "markdown",
   "metadata": {},
   "source": [
    "#### VECTORS"
   ]
  },
  {
   "cell_type": "code",
   "execution_count": 151,
   "metadata": {},
   "outputs": [
    {
     "name": "stdout",
     "output_type": "stream",
     "text": [
      "Method 1\n",
      "[1 2 3 4]\n",
      "(4,)\n",
      "Method 2\n",
      "[[1]\n",
      " [2]\n",
      " [3]\n",
      " [4]]\n",
      "(4, 1)\n"
     ]
    }
   ],
   "source": [
    "#VECTORS CAN BE REPRESENTED IN 2 ways - (Both ways are correct. Depending on the situation, one of them will be \n",
    "#used)\n",
    "print('Method 1')\n",
    "myVector = np.array([1,2,3,4])\n",
    "print(myVector)\n",
    "print(myVector.shape)\n",
    "\n",
    "print('Method 2')\n",
    "myVector = np.array([[1],[2],[3],[4]])\n",
    "print(myVector)\n",
    "print(myVector.shape)"
   ]
  },
  {
   "cell_type": "markdown",
   "metadata": {},
   "source": [
    "#### MATRICES AND TENSORS"
   ]
  },
  {
   "cell_type": "code",
   "execution_count": 157,
   "metadata": {},
   "outputs": [
    {
     "name": "stdout",
     "output_type": "stream",
     "text": [
      "[[1 2 3]\n",
      " [4 5 6]\n",
      " [7 8 9]]\n"
     ]
    }
   ],
   "source": [
    "## As discussed , 1d array is a vector\n",
    "#2D array will be a matrix and more than 2d array will be a tensor\n",
    "\n",
    "#Matrix\n",
    "matrix = np.array([\n",
    "    [1,2,3],\n",
    "    [4,5,6],\n",
    "    [7,8,9]\n",
    "])\n",
    "print(matrix)"
   ]
  },
  {
   "cell_type": "code",
   "execution_count": 158,
   "metadata": {},
   "outputs": [
    {
     "name": "stdout",
     "output_type": "stream",
     "text": [
      "[[1 2 3]\n",
      " [4 5 6]\n",
      " [7 8 9]]\n"
     ]
    }
   ],
   "source": [
    "#Tensor\n",
    "tensor = np.array([\n",
    "    [[1,2],[3,4],[5,6]],\n",
    "    [[7,8],[9,10],[11,12]],\n",
    "    [[13,14],[15,16],[17,18]]\n",
    "])\n",
    "print(matrix)"
   ]
  },
  {
   "cell_type": "code",
   "execution_count": 159,
   "metadata": {},
   "outputs": [
    {
     "name": "stdout",
     "output_type": "stream",
     "text": [
      "(3, 3)\n",
      "(3, 3, 2)\n"
     ]
    }
   ],
   "source": [
    "print(matrix.shape)\n",
    "print(tensor.shape)"
   ]
  },
  {
   "cell_type": "code",
   "execution_count": null,
   "metadata": {},
   "outputs": [],
   "source": []
  },
  {
   "cell_type": "code",
   "execution_count": 161,
   "metadata": {},
   "outputs": [
    {
     "name": "stdout",
     "output_type": "stream",
     "text": [
      "[[1 2 3]\n",
      " [4 5 6]\n",
      " [7 8 9]]\n",
      "TRANSPOSE\n",
      "[[1 4 7]\n",
      " [2 5 8]\n",
      " [3 6 9]]\n"
     ]
    }
   ],
   "source": [
    "#Calualating transpose of a matrix\n",
    "print(matrix)\n",
    "transpose = np.transpose(matrix)\n",
    "print('TRANSPOSE')\n",
    "print(transpose)"
   ]
  },
  {
   "cell_type": "code",
   "execution_count": 163,
   "metadata": {},
   "outputs": [
    {
     "name": "stdout",
     "output_type": "stream",
     "text": [
      "[[1]\n",
      " [2]\n",
      " [3]\n",
      " [4]]\n",
      "[[1 2 3 4]]\n"
     ]
    }
   ],
   "source": [
    "#Transpose of a vector\n",
    "myVector1 = np.array([[1],[2],[3],[4]])\n",
    "print(myVector1)\n",
    "#Therefore transpose of a vector(in above form) converts it into a row of matrix \n",
    "print(np.transpose(myVector1))"
   ]
  },
  {
   "cell_type": "code",
   "execution_count": 168,
   "metadata": {},
   "outputs": [
    {
     "name": "stdout",
     "output_type": "stream",
     "text": [
      "[[1 2 3]\n",
      " [4 5 6]\n",
      " [7 8 9]]\n",
      "[[11 12 13]\n",
      " [14 15 16]\n",
      " [17 18 19]]\n"
     ]
    }
   ],
   "source": [
    "## ADDITION of scalar to the matrix -\n",
    "print(matrix)\n",
    "print(matrix + 10) #It will add 10 to each element in the matrix\n"
   ]
  },
  {
   "cell_type": "code",
   "execution_count": 169,
   "metadata": {},
   "outputs": [
    {
     "name": "stdout",
     "output_type": "stream",
     "text": [
      "[[1 2 3]\n",
      " [4 5 6]\n",
      " [7 8 9]]\n",
      "[[10 20 30]\n",
      " [40 50 60]\n",
      " [70 80 90]]\n"
     ]
    }
   ],
   "source": [
    "## Multiplication of scalar to the matrix -\n",
    "print(matrix)\n",
    "print(matrix*10) #It will multiply each element of the matrix to 10"
   ]
  },
  {
   "cell_type": "markdown",
   "metadata": {},
   "source": [
    "## Norms of Vectors"
   ]
  },
  {
   "cell_type": "code",
   "execution_count": 170,
   "metadata": {},
   "outputs": [],
   "source": [
    "x = np.array([-5,3,10])"
   ]
  },
  {
   "cell_type": "code",
   "execution_count": 172,
   "metadata": {},
   "outputs": [
    {
     "name": "stdout",
     "output_type": "stream",
     "text": [
      "18.0\n"
     ]
    }
   ],
   "source": [
    "lp1Norm = np.linalg.norm(x,ord = 1) #order =1 means L1 norm\n",
    "print(lp1Norm)"
   ]
  },
  {
   "cell_type": "code",
   "execution_count": 173,
   "metadata": {},
   "outputs": [
    {
     "name": "stdout",
     "output_type": "stream",
     "text": [
      "11.575836902790225\n"
     ]
    }
   ],
   "source": [
    "lp2Norm = np.linalg.norm(x,ord = 2) #order =2 means L2 norm\n",
    "print(lp2Norm)"
   ]
  },
  {
   "cell_type": "code",
   "execution_count": 174,
   "metadata": {},
   "outputs": [
    {
     "name": "stdout",
     "output_type": "stream",
     "text": [
      "10.0\n"
     ]
    }
   ],
   "source": [
    "lpInfinityNorm = np.linalg.norm(x,ord = np.inf) \n",
    "print(lpInfinityNorm)"
   ]
  },
  {
   "cell_type": "code",
   "execution_count": 176,
   "metadata": {},
   "outputs": [
    {
     "name": "stdout",
     "output_type": "stream",
     "text": [
      "7.0\n",
      "5.9287221489704836\n"
     ]
    }
   ],
   "source": [
    "x = np.array([\n",
    "    [2,-2,1],\n",
    "    [-1,2,-1],\n",
    "    [2,-4,1]\n",
    "])\n",
    "\n",
    "print(np.linalg.norm(x,ord = np.inf))\n",
    "print(np.linalg.norm(x,ord = 2))"
   ]
  },
  {
   "cell_type": "code",
   "execution_count": 178,
   "metadata": {},
   "outputs": [
    {
     "name": "stdout",
     "output_type": "stream",
     "text": [
      "[[-1 15]\n",
      " [-9 26]\n",
      " [-2 11]\n",
      " [ 0  0]]\n"
     ]
    }
   ],
   "source": [
    "a = np.array([\n",
    "    [1,-3,4],\n",
    "    [-2,10,-7],\n",
    "    [0,1,0],\n",
    "    [0,0,0]\n",
    "])\n",
    "\n",
    "b = np.array([\n",
    "    [5,0],\n",
    "    [-2,11],\n",
    "    [-3,12]\n",
    "])\n",
    "print(a.dot(b))"
   ]
  },
  {
   "cell_type": "code",
   "execution_count": null,
   "metadata": {},
   "outputs": [],
   "source": [
    "#"
   ]
  }
 ],
 "metadata": {
  "kernelspec": {
   "display_name": "Python 3",
   "language": "python",
   "name": "python3"
  },
  "language_info": {
   "codemirror_mode": {
    "name": "ipython",
    "version": 3
   },
   "file_extension": ".py",
   "mimetype": "text/x-python",
   "name": "python",
   "nbconvert_exporter": "python",
   "pygments_lexer": "ipython3",
   "version": "3.7.6"
  }
 },
 "nbformat": 4,
 "nbformat_minor": 4
}
